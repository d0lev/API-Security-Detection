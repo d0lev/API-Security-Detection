{
  "nbformat": 4,
  "nbformat_minor": 0,
  "metadata": {
    "colab": {
      "provenance": [],
      "mount_file_id": "1JJBr1sEOtOU6cq5Me2agBAA5LLvahet-",
      "authorship_tag": "ABX9TyNhbERhYsaFw6RM9cTppbM2",
      "include_colab_link": true
    },
    "kernelspec": {
      "name": "python3",
      "display_name": "Python 3"
    },
    "language_info": {
      "name": "python"
    }
  },
  "cells": [
    {
      "cell_type": "markdown",
      "metadata": {
        "id": "view-in-github",
        "colab_type": "text"
      },
      "source": [
        "<a href=\"https://colab.research.google.com/github/d0lev/API-Security-Detection/blob/main/Preprocessing.ipynb\" target=\"_parent\"><img src=\"https://colab.research.google.com/assets/colab-badge.svg\" alt=\"Open In Colab\"/></a>"
      ]
    },
    {
      "cell_type": "code",
      "execution_count": null,
      "metadata": {
        "id": "e6KhsOGA2SoI"
      },
      "outputs": [],
      "source": [
        "from google.colab import drive\n",
        "drive.mount('/content/drive')"
      ]
    },
    {
      "cell_type": "code",
      "source": [
        "import uuid\n",
        "# !pip install uuid\n",
        "import json\n",
        "# !pip install lief==0.11.5\n",
        "import lief\n",
        "import pandas as pd\n",
        "from pprint import pprint\n",
        "import os\n",
        "from IPython.display import HTML"
      ],
      "metadata": {
        "id": "iTsOdvtII4pL"
      },
      "execution_count": 3,
      "outputs": []
    },
    {
      "cell_type": "code",
      "source": [
        "# file_path = \"/content/drive/MyDrive/MacOSMalware/Macos-Benign/AnnePro\"\n",
        "# binary = lief.parse(file_path)\n",
        "# binary_json = lief.to_json(binary) # this is for using render only\n",
        "\n",
        "# this is simple function that print json in pretty format. \n",
        "# def render(jstr):\n",
        "#   if type(jstr) != str:\n",
        "#     jstr = json.loads(jstr)\n",
        "#   return HTML(\"\"\"\n",
        "# <script src=\"https://rawgit.com/caldwell/renderjson/master/renderjson.js\"></script>\n",
        "# <script>\n",
        "# renderjson.set_show_to_level(1)\n",
        "# document.body.appendChild(renderjson(%s))\n",
        "# new ResizeObserver(google.colab.output.resizeIframeToContent).observe(document.body)\n",
        "# </script>\n",
        "# \"\"\" % jstr)\n",
        "\n",
        "# render(binary_json)"
      ],
      "metadata": {
        "id": "Jqt4t33FNsj0"
      },
      "execution_count": null,
      "outputs": []
    },
    {
      "cell_type": "code",
      "source": [
        "# assign directory\n",
        "directory = '/content/drive/MyDrive/MacOSMalware/Macos-Benign'\n",
        " \n",
        "dataset = pd.DataFrame()\n",
        "\n",
        "# iterate over files in that directory\n",
        "for filename in os.listdir(directory):\n",
        "    macho_file = os.path.join(directory, filename)\n",
        "    binary = lief.parse(macho_file)\n",
        "    binary_json = json.loads(lief.to_json(binary))\n",
        "    row = pd.Series(binary_json)\n",
        "    dataset = dataset.append(row , ignore_index = True)"
      ],
      "metadata": {
        "id": "rAakUeLYbH1c"
      },
      "execution_count": null,
      "outputs": []
    },
    {
      "cell_type": "code",
      "source": [
        "# Delete columns containing either 50% or more than 50% NaN Values\n",
        "for column in dataset:\n",
        "    if sum(dataset[column].isnull()) >= 50:\n",
        "        dataset.drop(column, axis=1, inplace=True)"
      ],
      "metadata": {
        "id": "Gc7X0OzapDXl"
      },
      "execution_count": 21,
      "outputs": []
    },
    {
      "cell_type": "code",
      "source": [
        "dataset.to_csv(\"/content/drive/MyDrive/MacOSMalware/raw_benign_dataset.csv\")"
      ],
      "metadata": {
        "id": "5izuRm4Svi2F"
      },
      "execution_count": 23,
      "outputs": []
    },
    {
      "cell_type": "code",
      "source": [
        "raw_benign_dataset = pd.read_csv(\"/content/drive/MyDrive/MacOSMalware/raw_benign_dataset.csv\" , index_col = 0)"
      ],
      "metadata": {
        "id": "9Uyqo1xbwSGs"
      },
      "execution_count": 29,
      "outputs": []
    },
    {
      "cell_type": "code",
      "source": [
        "raw_benign_dataset.head(1)"
      ],
      "metadata": {
        "colab": {
          "base_uri": "https://localhost:8080/",
          "height": 197
        },
        "id": "rDIk9Bc6wh3U",
        "outputId": "265a2355-3e52-4cab-eaca-c8c64ad4c758"
      },
      "execution_count": 30,
      "outputs": [
        {
          "output_type": "execute_result",
          "data": {
            "text/plain": [
              "                                      code_signature  \\\n",
              "0  {'command': 'CODE_SIGNATURE', 'command_offset'...   \n",
              "\n",
              "                                        data_in_code  \\\n",
              "0  {'command': 'DATA_IN_CODE', 'command_offset': ...   \n",
              "\n",
              "                                           dyld_info  \\\n",
              "0  {'command': 'DYLD_INFO_ONLY', 'command_offset'...   \n",
              "\n",
              "                                            dylinker  \\\n",
              "0  {'command': 'LOAD_DYLINKER', 'command_offset':...   \n",
              "\n",
              "                              dynamic_symbol_command  \\\n",
              "0  {'command': 'DYSYMTAB', 'command_offset': 2312...   \n",
              "\n",
              "                                     function_starts  \\\n",
              "0  {'command': 'FUNCTION_STARTS', 'command_offset...   \n",
              "\n",
              "                                              header  \\\n",
              "0  {'cpu_subtype': 2147483651, 'cpu_type': 'x86_6...   \n",
              "\n",
              "                                           libraries  \\\n",
              "0  [{'command': 'LOAD_DYLIB', 'command_offset': 2...   \n",
              "\n",
              "                                        main_command  \\\n",
              "0  {'command': 'MAIN', 'command_offset': 2480, 'c...   \n",
              "\n",
              "                                         relocations  \\\n",
              "0  [{'architecture': 'x86_64', 'is_pc_relative': ...   \n",
              "\n",
              "                                               rpath  \\\n",
              "0  {'command': 'RPATH', 'command_offset': 3760, '...   \n",
              "\n",
              "                                            sections  \\\n",
              "0  [{'alignment': 4, 'content_hash': 184467440731...   \n",
              "\n",
              "                                            segments  \\\n",
              "0  [{'command': 'SEGMENT_64', 'command_offset': 3...   \n",
              "\n",
              "                                      source_version  \\\n",
              "0  {'command': 'SOURCE_VERSION', 'command_offset'...   \n",
              "\n",
              "                                      symbol_command  \\\n",
              "0  {'command': 'SYMTAB', 'command_offset': 2288, ...   \n",
              "\n",
              "                                             symbols  \\\n",
              "0  [{'description': 0, 'is_external': False, 'nam...   \n",
              "\n",
              "                                                uuid  \n",
              "0  {'command': 'UUID', 'command_offset': 2424, 'c...  "
            ],
            "text/html": [
              "\n",
              "  <div id=\"df-733497fc-097c-40b8-893f-d3d4fa064351\">\n",
              "    <div class=\"colab-df-container\">\n",
              "      <div>\n",
              "<style scoped>\n",
              "    .dataframe tbody tr th:only-of-type {\n",
              "        vertical-align: middle;\n",
              "    }\n",
              "\n",
              "    .dataframe tbody tr th {\n",
              "        vertical-align: top;\n",
              "    }\n",
              "\n",
              "    .dataframe thead th {\n",
              "        text-align: right;\n",
              "    }\n",
              "</style>\n",
              "<table border=\"1\" class=\"dataframe\">\n",
              "  <thead>\n",
              "    <tr style=\"text-align: right;\">\n",
              "      <th></th>\n",
              "      <th>code_signature</th>\n",
              "      <th>data_in_code</th>\n",
              "      <th>dyld_info</th>\n",
              "      <th>dylinker</th>\n",
              "      <th>dynamic_symbol_command</th>\n",
              "      <th>function_starts</th>\n",
              "      <th>header</th>\n",
              "      <th>libraries</th>\n",
              "      <th>main_command</th>\n",
              "      <th>relocations</th>\n",
              "      <th>rpath</th>\n",
              "      <th>sections</th>\n",
              "      <th>segments</th>\n",
              "      <th>source_version</th>\n",
              "      <th>symbol_command</th>\n",
              "      <th>symbols</th>\n",
              "      <th>uuid</th>\n",
              "    </tr>\n",
              "  </thead>\n",
              "  <tbody>\n",
              "    <tr>\n",
              "      <th>0</th>\n",
              "      <td>{'command': 'CODE_SIGNATURE', 'command_offset'...</td>\n",
              "      <td>{'command': 'DATA_IN_CODE', 'command_offset': ...</td>\n",
              "      <td>{'command': 'DYLD_INFO_ONLY', 'command_offset'...</td>\n",
              "      <td>{'command': 'LOAD_DYLINKER', 'command_offset':...</td>\n",
              "      <td>{'command': 'DYSYMTAB', 'command_offset': 2312...</td>\n",
              "      <td>{'command': 'FUNCTION_STARTS', 'command_offset...</td>\n",
              "      <td>{'cpu_subtype': 2147483651, 'cpu_type': 'x86_6...</td>\n",
              "      <td>[{'command': 'LOAD_DYLIB', 'command_offset': 2...</td>\n",
              "      <td>{'command': 'MAIN', 'command_offset': 2480, 'c...</td>\n",
              "      <td>[{'architecture': 'x86_64', 'is_pc_relative': ...</td>\n",
              "      <td>{'command': 'RPATH', 'command_offset': 3760, '...</td>\n",
              "      <td>[{'alignment': 4, 'content_hash': 184467440731...</td>\n",
              "      <td>[{'command': 'SEGMENT_64', 'command_offset': 3...</td>\n",
              "      <td>{'command': 'SOURCE_VERSION', 'command_offset'...</td>\n",
              "      <td>{'command': 'SYMTAB', 'command_offset': 2288, ...</td>\n",
              "      <td>[{'description': 0, 'is_external': False, 'nam...</td>\n",
              "      <td>{'command': 'UUID', 'command_offset': 2424, 'c...</td>\n",
              "    </tr>\n",
              "  </tbody>\n",
              "</table>\n",
              "</div>\n",
              "      <button class=\"colab-df-convert\" onclick=\"convertToInteractive('df-733497fc-097c-40b8-893f-d3d4fa064351')\"\n",
              "              title=\"Convert this dataframe to an interactive table.\"\n",
              "              style=\"display:none;\">\n",
              "        \n",
              "  <svg xmlns=\"http://www.w3.org/2000/svg\" height=\"24px\"viewBox=\"0 0 24 24\"\n",
              "       width=\"24px\">\n",
              "    <path d=\"M0 0h24v24H0V0z\" fill=\"none\"/>\n",
              "    <path d=\"M18.56 5.44l.94 2.06.94-2.06 2.06-.94-2.06-.94-.94-2.06-.94 2.06-2.06.94zm-11 1L8.5 8.5l.94-2.06 2.06-.94-2.06-.94L8.5 2.5l-.94 2.06-2.06.94zm10 10l.94 2.06.94-2.06 2.06-.94-2.06-.94-.94-2.06-.94 2.06-2.06.94z\"/><path d=\"M17.41 7.96l-1.37-1.37c-.4-.4-.92-.59-1.43-.59-.52 0-1.04.2-1.43.59L10.3 9.45l-7.72 7.72c-.78.78-.78 2.05 0 2.83L4 21.41c.39.39.9.59 1.41.59.51 0 1.02-.2 1.41-.59l7.78-7.78 2.81-2.81c.8-.78.8-2.07 0-2.86zM5.41 20L4 18.59l7.72-7.72 1.47 1.35L5.41 20z\"/>\n",
              "  </svg>\n",
              "      </button>\n",
              "      \n",
              "  <style>\n",
              "    .colab-df-container {\n",
              "      display:flex;\n",
              "      flex-wrap:wrap;\n",
              "      gap: 12px;\n",
              "    }\n",
              "\n",
              "    .colab-df-convert {\n",
              "      background-color: #E8F0FE;\n",
              "      border: none;\n",
              "      border-radius: 50%;\n",
              "      cursor: pointer;\n",
              "      display: none;\n",
              "      fill: #1967D2;\n",
              "      height: 32px;\n",
              "      padding: 0 0 0 0;\n",
              "      width: 32px;\n",
              "    }\n",
              "\n",
              "    .colab-df-convert:hover {\n",
              "      background-color: #E2EBFA;\n",
              "      box-shadow: 0px 1px 2px rgba(60, 64, 67, 0.3), 0px 1px 3px 1px rgba(60, 64, 67, 0.15);\n",
              "      fill: #174EA6;\n",
              "    }\n",
              "\n",
              "    [theme=dark] .colab-df-convert {\n",
              "      background-color: #3B4455;\n",
              "      fill: #D2E3FC;\n",
              "    }\n",
              "\n",
              "    [theme=dark] .colab-df-convert:hover {\n",
              "      background-color: #434B5C;\n",
              "      box-shadow: 0px 1px 3px 1px rgba(0, 0, 0, 0.15);\n",
              "      filter: drop-shadow(0px 1px 2px rgba(0, 0, 0, 0.3));\n",
              "      fill: #FFFFFF;\n",
              "    }\n",
              "  </style>\n",
              "\n",
              "      <script>\n",
              "        const buttonEl =\n",
              "          document.querySelector('#df-733497fc-097c-40b8-893f-d3d4fa064351 button.colab-df-convert');\n",
              "        buttonEl.style.display =\n",
              "          google.colab.kernel.accessAllowed ? 'block' : 'none';\n",
              "\n",
              "        async function convertToInteractive(key) {\n",
              "          const element = document.querySelector('#df-733497fc-097c-40b8-893f-d3d4fa064351');\n",
              "          const dataTable =\n",
              "            await google.colab.kernel.invokeFunction('convertToInteractive',\n",
              "                                                     [key], {});\n",
              "          if (!dataTable) return;\n",
              "\n",
              "          const docLinkHtml = 'Like what you see? Visit the ' +\n",
              "            '<a target=\"_blank\" href=https://colab.research.google.com/notebooks/data_table.ipynb>data table notebook</a>'\n",
              "            + ' to learn more about interactive tables.';\n",
              "          element.innerHTML = '';\n",
              "          dataTable['output_type'] = 'display_data';\n",
              "          await google.colab.output.renderOutput(dataTable, element);\n",
              "          const docLink = document.createElement('div');\n",
              "          docLink.innerHTML = docLinkHtml;\n",
              "          element.appendChild(docLink);\n",
              "        }\n",
              "      </script>\n",
              "    </div>\n",
              "  </div>\n",
              "  "
            ]
          },
          "metadata": {},
          "execution_count": 30
        }
      ]
    }
  ]
}