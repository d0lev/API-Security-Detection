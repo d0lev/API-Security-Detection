{
  "nbformat": 4,
  "nbformat_minor": 0,
  "metadata": {
    "colab": {
      "provenance": [],
      "include_colab_link": true
    },
    "kernelspec": {
      "name": "python3",
      "display_name": "Python 3"
    },
    "language_info": {
      "name": "python"
    }
  },
  "cells": [
    {
      "cell_type": "markdown",
      "metadata": {
        "id": "view-in-github",
        "colab_type": "text"
      },
      "source": [
        "<a href=\"https://colab.research.google.com/github/d0lev/API-Security-Detection/blob/main/Preprocessing.ipynb\" target=\"_parent\"><img src=\"https://colab.research.google.com/assets/colab-badge.svg\" alt=\"Open In Colab\"/></a>"
      ]
    },
    {
      "cell_type": "code",
      "execution_count": null,
      "metadata": {
        "id": "e6KhsOGA2SoI"
      },
      "outputs": [],
      "source": [
        "from google.colab import drive\n",
        "drive.mount('/content/drive')"
      ]
    },
    {
      "cell_type": "code",
      "source": [
        "import uuid\n",
        "!pip install uuid\n",
        "import json\n",
        "!pip install lief==0.11.5\n",
        "import lief\n",
        "import pandas as pd\n",
        "from pprint import pprint\n",
        "import os\n",
        "from IPython.display import HTML"
      ],
      "metadata": {
        "id": "iTsOdvtII4pL"
      },
      "execution_count": null,
      "outputs": []
    },
    {
      "cell_type": "markdown",
      "source": [
        "Since both classes contain binary files, we will use a library that handles those files called `LIEF`.\n",
        "You can see the documentation [here](https://lief-project.github.io/doc/stable/api/python/macho.html).\n",
        "\n",
        "The parsing result of each file is converted into a `JSON` object which is much easier to deal with to extract the relevant features from each file."
      ],
      "metadata": {
        "id": "lvkrLCrvvtjd"
      }
    },
    {
      "cell_type": "code",
      "source": [
        "def get_raw_dataset(dataset_type):\n",
        "  directory = '/content/drive/MyDrive/MacOSMalware/' + dataset_type\n",
        "  dataset = pd.DataFrame()\n",
        "  for filename in os.listdir(directory):\n",
        "      macho_file = os.path.join(directory, filename)\n",
        "      binary = lief.parse(macho_file)\n",
        "      binary_json = json.loads(lief.to_json(binary))\n",
        "      row = pd.Series(binary_json)\n",
        "      dataset = dataset.append(row , ignore_index = True)\n",
        "  return dataset"
      ],
      "metadata": {
        "id": "rAakUeLYbH1c"
      },
      "execution_count": 3,
      "outputs": []
    },
    {
      "cell_type": "code",
      "source": [
        "raw_benign = get_raw_dataset(\"Benigns\")\n",
        "raw_malware = get_raw_dataset(\"Malwares\")\n",
        "\n",
        "# Since parsing takes quite a long time, we will keep the raw data sets for now.\n",
        "raw_benign.to_csv(\"/content/drive/MyDrive/MacOSMalware/raw_benign.csv\")\n",
        "raw_malware.to_csv(\"/content/drive/MyDrive/MacOSMalware/raw_malwares.csv\")"
      ],
      "metadata": {
        "id": "WxEo-WoWEplR"
      },
      "execution_count": 4,
      "outputs": []
    },
    {
      "cell_type": "code",
      "source": [
        "raw_benign = pd.read_csv(\"/content/drive/MyDrive/MacOSMalware/raw_benign.csv\" , index_col = 0)\n",
        "raw_malware = pd.read_csv(\"/content/drive/MyDrive/MacOSMalware/raw_malwares.csv\" , index_col = 0)\n",
        "# check the dimension of the raw datasets\n",
        "print(f'raw benign dataset shape : {raw_benign.shape} , raw malaware dataset shape : {raw_malware.shape}')"
      ],
      "metadata": {
        "colab": {
          "base_uri": "https://localhost:8080/"
        },
        "id": "6DjJl1exFGER",
        "outputId": "c4dee0a3-b844-4f66-eff4-e820a51e6cc8"
      },
      "execution_count": 33,
      "outputs": [
        {
          "output_type": "stream",
          "name": "stdout",
          "text": [
            "raw benign dataset shape : (101, 20) , raw malaware dataset shape : (106, 21)\n"
          ]
        }
      ]
    },
    {
      "cell_type": "code",
      "source": [
        "# Delete columns containing either 50% or more than 50% NaN Values\n",
        "def delete_sparse_columns(raw_dataset):\n",
        "  for column in raw_dataset:\n",
        "      if sum(raw_dataset[column].isnull()) >= 50:\n",
        "          raw_dataset.drop(column, axis=1, inplace = True) "
      ],
      "metadata": {
        "id": "Gc7X0OzapDXl"
      },
      "execution_count": 36,
      "outputs": []
    },
    {
      "cell_type": "code",
      "source": [
        "delete_sparse_columns(raw_benign)\n",
        "delete_sparse_columns(raw_malware)\n",
        "\n",
        "# Since the two of the raw datasets have several different columns, we must ensure that they will have the same columns. \n",
        "same_columns = raw_benign.columns.intersection(raw_malware.columns).tolist()\n",
        "raw_benign = raw_benign[same_columns]\n",
        "raw_malware = raw_malware[same_columns]\n",
        "print(f'raw benign dataset shape : {raw_benign.shape} , raw malaware dataset shape : {raw_malware.shape}')"
      ],
      "metadata": {
        "colab": {
          "base_uri": "https://localhost:8080/"
        },
        "id": "YCHumm6TGCT5",
        "outputId": "412fa422-93e3-4455-b82c-d80a366db548"
      },
      "execution_count": 46,
      "outputs": [
        {
          "output_type": "stream",
          "name": "stdout",
          "text": [
            "raw benign dataset shape : (101, 16) , raw malaware dataset shape : (106, 16)\n"
          ]
        }
      ]
    },
    {
      "cell_type": "code",
      "source": [
        "# this library take an string and convert it to the original object that string represent such as list , dict , etc.\n",
        "import ast\n",
        "\n",
        "def extract_raw_features(raw_dataset , column):\n",
        "\n",
        "  raw_features = {}\n",
        "  for index , value in raw_dataset[column].items():\n",
        "    \n",
        "    value = str(value)\n",
        "    \n",
        "    if value == \"nan\":\n",
        "      raw_features[index] = value # Nan\n",
        "\n",
        "    else :\n",
        "      value_type = ast.literal_eval(value)  \n",
        "    \n",
        "      if isinstance(value_type , dict):\n",
        "          raw_features[index] = value_type\n",
        "      \n",
        "      elif isinstance(value_type , list):\n",
        "            if column == 'libraries': # extract the name of the libraries which the file use\n",
        "                libraries_names = []\n",
        "                for lib in value_type:\n",
        "                  libraries_names.append(lib['name'])\n",
        "                raw_features[index] = libraries_names\n",
        "\n",
        "            if column == 'sections': # extract the size of all the sections in the file\n",
        "              sections_size = 0\n",
        "              for section in value_type:\n",
        "                  sections_size = sections_size + section['size']\n",
        "              raw_features[index] = sections_size\n",
        "\n",
        "            if column == 'segments': # extract information about the protection level for each segment in the file.\n",
        "              segments = {}\n",
        "              for segment in value_type:\n",
        "                  segments[segment['name']] = {'init_protection' : segment['init_protection'] , 'max_protection': segment['max_protection']}\n",
        "              raw_features[index] = segments\n",
        "\n",
        "            if column == 'relocations': # extract the number of relocations that are present in that file\n",
        "              raw_features[index] = len(value_type)\n",
        "\n",
        "            if column == 'symbols': # extract the name of the symbol in the symbol table.\n",
        "                symbols_names = []\n",
        "                for symbol in value_type:\n",
        "                  symbols_names.append(symbol['name'])\n",
        "                raw_features[index] = symbols_names\n",
        "                      \n",
        "\n",
        "  if column == 'libraries' or column == 'symbols':\n",
        "    raw_features =  pd.DataFrame([raw_features]).T\n",
        "    raw_features.columns = [column + \"_\" + \"names\"]\n",
        "\n",
        "  elif column == 'relocations' or column == 'sections':\n",
        "    raw_features =  pd.DataFrame(raw_features , index = [0]).T\n",
        "    raw_features.columns = [column + \"_\" + \"size\"]\n",
        "\n",
        "  else:\n",
        "    raw_features =  pd.DataFrame(raw_features).T  \n",
        "    raw_features.columns = [column + \"_\" + col for col in raw_features.columns]\n",
        "\n",
        "  return raw_features"
      ],
      "metadata": {
        "id": "OkxqHX402sfF"
      },
      "execution_count": 47,
      "outputs": []
    },
    {
      "cell_type": "code",
      "source": [
        "def get_extracted_features(raw_dataset) :\n",
        "  extracted_features = []\n",
        "  for column in raw_dataset.columns:\n",
        "    extracted_features.append(extract_raw_features(raw_dataset , column))\n",
        "\n",
        "  concatenated = pd.concat(extracted_features, axis=\"columns\")\n",
        "  concatenated = concatenated.applymap(str)\n",
        "\n",
        "  for column in concatenated.columns[concatenated.isna().any()].tolist():\n",
        "      concatenated[column] = concatenated[column].fillna('None')\n",
        "\n",
        "  return concatenated"
      ],
      "metadata": {
        "id": "c2fo5R9PHKfi"
      },
      "execution_count": 48,
      "outputs": []
    },
    {
      "cell_type": "code",
      "source": [
        "benign_dataset = get_extracted_features(raw_benign)"
      ],
      "metadata": {
        "id": "urlKwpS4Mh4M"
      },
      "execution_count": null,
      "outputs": []
    },
    {
      "cell_type": "code",
      "source": [
        "malware_dataset = get_extracted_features(raw_malware)"
      ],
      "metadata": {
        "id": "nGDoKs5QXreb"
      },
      "execution_count": null,
      "outputs": []
    },
    {
      "cell_type": "code",
      "source": [
        "import numpy as np\n",
        "import plotly.express as px\n",
        "def feature_distribution_plot(raw_dataset):\n",
        "  # Iterate through the data set and check for each column what types it contains and their quantities.\n",
        "  features , unique_values = ([],[])\n",
        "  same_value_features = []\n",
        "  for (col_name,col_value) in raw_dataset.iteritems():\n",
        "          features.append(col_name)\n",
        "          unique_values.append(len(np.unique(col_value)))\n",
        "          if(unique_values[-1] == 1):\n",
        "            # add the columns that contains one value for each record in the dataset\n",
        "            same_value_features.append(col_name)\n",
        "\n",
        "  df = pd.DataFrame(dict(zip(features, unique_values)) , index = ['amount']).T.reset_index()\n",
        "\n",
        "  fig = px.bar(df, x='index', y='amount')\n",
        "  fig.update_layout(bargap=0.2)\n",
        "  fig.show()"
      ],
      "metadata": {
        "id": "9RGI-TK3Hp6j"
      },
      "execution_count": 56,
      "outputs": []
    },
    {
      "cell_type": "code",
      "source": [
        "feature_distribution_plot(benign_dataset)"
      ],
      "metadata": {
        "colab": {
          "base_uri": "https://localhost:8080/",
          "height": 542
        },
        "id": "beFi4_0kOAOb",
        "outputId": "167cd8c6-3f29-4a5b-b4d6-3012c542ada8"
      },
      "execution_count": 79,
      "outputs": [
        {
          "output_type": "display_data",
          "data": {
            "text/html": [
              "<html>\n",
              "<head><meta charset=\"utf-8\" /></head>\n",
              "<body>\n",
              "    <div>            <script src=\"https://cdnjs.cloudflare.com/ajax/libs/mathjax/2.7.5/MathJax.js?config=TeX-AMS-MML_SVG\"></script><script type=\"text/javascript\">if (window.MathJax) {MathJax.Hub.Config({SVG: {font: \"STIX-Web\"}});}</script>                <script type=\"text/javascript\">window.PlotlyConfig = {MathJaxConfig: 'local'};</script>\n",
              "        <script src=\"https://cdn.plot.ly/plotly-2.8.3.min.js\"></script>                <div id=\"a4a0346b-a9f6-4265-9e39-2579a98a79fc\" class=\"plotly-graph-div\" style=\"height:525px; width:100%;\"></div>            <script type=\"text/javascript\">                                    window.PLOTLYENV=window.PLOTLYENV || {};                                    if (document.getElementById(\"a4a0346b-a9f6-4265-9e39-2579a98a79fc\")) {                    Plotly.newPlot(                        \"a4a0346b-a9f6-4265-9e39-2579a98a79fc\",                        [{\"alignmentgroup\":\"True\",\"hovertemplate\":\"index=%{x}<br>amount=%{y}<extra></extra>\",\"legendgroup\":\"\",\"marker\":{\"color\":\"#636efa\",\"pattern\":{\"shape\":\"\"}},\"name\":\"\",\"offsetgroup\":\"\",\"orientation\":\"v\",\"showlegend\":false,\"textposition\":\"auto\",\"x\":[\"data_in_code_command\",\"data_in_code_command_offset\",\"data_in_code_command_size\",\"data_in_code_data_hash\",\"data_in_code_data_offset\",\"data_in_code_data_size\",\"data_in_code_entries\",\"dyld_info_command\",\"dyld_info_command_offset\",\"dyld_info_command_size\",\"dyld_info_data_hash\",\"dylinker_command\",\"dylinker_command_offset\",\"dylinker_command_size\",\"dylinker_data_hash\",\"dylinker_name\",\"dynamic_symbol_command_command\",\"dynamic_symbol_command_command_offset\",\"dynamic_symbol_command_command_size\",\"dynamic_symbol_command_data_hash\",\"dynamic_symbol_command_external_reference_symbol_offset\",\"dynamic_symbol_command_external_relocation_offset\",\"dynamic_symbol_command_idx_external_define_symbol\",\"dynamic_symbol_command_idx_local_symbol\",\"dynamic_symbol_command_idx_undefined_symbol\",\"dynamic_symbol_command_indirect_symbol_offset\",\"dynamic_symbol_command_local_relocation_offset\",\"dynamic_symbol_command_module_table_offset\",\"dynamic_symbol_command_nb_external_define_symbols\",\"dynamic_symbol_command_nb_external_reference_symbols\",\"dynamic_symbol_command_nb_external_relocations\",\"dynamic_symbol_command_nb_indirect_symbols\",\"dynamic_symbol_command_nb_local_relocations\",\"dynamic_symbol_command_nb_local_symbols\",\"dynamic_symbol_command_nb_module_table\",\"dynamic_symbol_command_nb_toc\",\"dynamic_symbol_command_nb_undefined_symbols\",\"dynamic_symbol_command_toc_offset\",\"function_starts_command\",\"function_starts_command_offset\",\"function_starts_command_size\",\"function_starts_data_hash\",\"function_starts_data_offset\",\"function_starts_data_size\",\"function_starts_functions\",\"header_cpu_subtype\",\"header_cpu_type\",\"header_file_type\",\"header_flags\",\"header_magic\",\"header_nb_cmds\",\"header_reserved\",\"header_sizeof_cmds\",\"libraries_names\",\"main_command_command\",\"main_command_command_offset\",\"main_command_command_size\",\"main_command_data_hash\",\"main_command_entrypoint\",\"main_command_stack_size\",\"relocations_size\",\"rpath_command\",\"rpath_command_offset\",\"rpath_command_size\",\"rpath_data_hash\",\"rpath_path\",\"sections_size\",\"segments___PAGEZERO\",\"segments___TEXT\",\"segments___DATA\",\"segments___LINKEDIT\",\"segments___DATA_CONST\",\"segments___XOJO\",\"source_version_command\",\"source_version_command_offset\",\"source_version_command_size\",\"source_version_data_hash\",\"source_version_version\",\"symbol_command_command\",\"symbol_command_command_offset\",\"symbol_command_command_size\",\"symbol_command_data_hash\",\"symbol_command_numberof_symbols\",\"symbol_command_strings_offset\",\"symbol_command_strings_size\",\"symbol_command_symbol_offset\",\"symbols_names\",\"uuid_command\",\"uuid_command_offset\",\"uuid_command_size\",\"uuid_data_hash\",\"uuid_uuid\"],\"xaxis\":\"x\",\"y\":[2,77,2,87,87,14,24,2,41,2,90,2,43,2,2,2,1,42,1,92,1,1,17,1,24,91,1,1,20,1,1,83,1,17,1,1,81,1,2,77,2,87,87,75,88,3,2,2,5,1,36,1,86,88,2,48,2,92,92,2,86,2,80,4,5,5,95,2,2,2,2,2,2,2,46,2,2,2,1,42,1,92,82,92,88,92,89,1,43,1,99,99],\"yaxis\":\"y\",\"type\":\"bar\"}],                        {\"template\":{\"data\":{\"bar\":[{\"error_x\":{\"color\":\"#2a3f5f\"},\"error_y\":{\"color\":\"#2a3f5f\"},\"marker\":{\"line\":{\"color\":\"#E5ECF6\",\"width\":0.5},\"pattern\":{\"fillmode\":\"overlay\",\"size\":10,\"solidity\":0.2}},\"type\":\"bar\"}],\"barpolar\":[{\"marker\":{\"line\":{\"color\":\"#E5ECF6\",\"width\":0.5},\"pattern\":{\"fillmode\":\"overlay\",\"size\":10,\"solidity\":0.2}},\"type\":\"barpolar\"}],\"carpet\":[{\"aaxis\":{\"endlinecolor\":\"#2a3f5f\",\"gridcolor\":\"white\",\"linecolor\":\"white\",\"minorgridcolor\":\"white\",\"startlinecolor\":\"#2a3f5f\"},\"baxis\":{\"endlinecolor\":\"#2a3f5f\",\"gridcolor\":\"white\",\"linecolor\":\"white\",\"minorgridcolor\":\"white\",\"startlinecolor\":\"#2a3f5f\"},\"type\":\"carpet\"}],\"choropleth\":[{\"colorbar\":{\"outlinewidth\":0,\"ticks\":\"\"},\"type\":\"choropleth\"}],\"contour\":[{\"colorbar\":{\"outlinewidth\":0,\"ticks\":\"\"},\"colorscale\":[[0.0,\"#0d0887\"],[0.1111111111111111,\"#46039f\"],[0.2222222222222222,\"#7201a8\"],[0.3333333333333333,\"#9c179e\"],[0.4444444444444444,\"#bd3786\"],[0.5555555555555556,\"#d8576b\"],[0.6666666666666666,\"#ed7953\"],[0.7777777777777778,\"#fb9f3a\"],[0.8888888888888888,\"#fdca26\"],[1.0,\"#f0f921\"]],\"type\":\"contour\"}],\"contourcarpet\":[{\"colorbar\":{\"outlinewidth\":0,\"ticks\":\"\"},\"type\":\"contourcarpet\"}],\"heatmap\":[{\"colorbar\":{\"outlinewidth\":0,\"ticks\":\"\"},\"colorscale\":[[0.0,\"#0d0887\"],[0.1111111111111111,\"#46039f\"],[0.2222222222222222,\"#7201a8\"],[0.3333333333333333,\"#9c179e\"],[0.4444444444444444,\"#bd3786\"],[0.5555555555555556,\"#d8576b\"],[0.6666666666666666,\"#ed7953\"],[0.7777777777777778,\"#fb9f3a\"],[0.8888888888888888,\"#fdca26\"],[1.0,\"#f0f921\"]],\"type\":\"heatmap\"}],\"heatmapgl\":[{\"colorbar\":{\"outlinewidth\":0,\"ticks\":\"\"},\"colorscale\":[[0.0,\"#0d0887\"],[0.1111111111111111,\"#46039f\"],[0.2222222222222222,\"#7201a8\"],[0.3333333333333333,\"#9c179e\"],[0.4444444444444444,\"#bd3786\"],[0.5555555555555556,\"#d8576b\"],[0.6666666666666666,\"#ed7953\"],[0.7777777777777778,\"#fb9f3a\"],[0.8888888888888888,\"#fdca26\"],[1.0,\"#f0f921\"]],\"type\":\"heatmapgl\"}],\"histogram\":[{\"marker\":{\"pattern\":{\"fillmode\":\"overlay\",\"size\":10,\"solidity\":0.2}},\"type\":\"histogram\"}],\"histogram2d\":[{\"colorbar\":{\"outlinewidth\":0,\"ticks\":\"\"},\"colorscale\":[[0.0,\"#0d0887\"],[0.1111111111111111,\"#46039f\"],[0.2222222222222222,\"#7201a8\"],[0.3333333333333333,\"#9c179e\"],[0.4444444444444444,\"#bd3786\"],[0.5555555555555556,\"#d8576b\"],[0.6666666666666666,\"#ed7953\"],[0.7777777777777778,\"#fb9f3a\"],[0.8888888888888888,\"#fdca26\"],[1.0,\"#f0f921\"]],\"type\":\"histogram2d\"}],\"histogram2dcontour\":[{\"colorbar\":{\"outlinewidth\":0,\"ticks\":\"\"},\"colorscale\":[[0.0,\"#0d0887\"],[0.1111111111111111,\"#46039f\"],[0.2222222222222222,\"#7201a8\"],[0.3333333333333333,\"#9c179e\"],[0.4444444444444444,\"#bd3786\"],[0.5555555555555556,\"#d8576b\"],[0.6666666666666666,\"#ed7953\"],[0.7777777777777778,\"#fb9f3a\"],[0.8888888888888888,\"#fdca26\"],[1.0,\"#f0f921\"]],\"type\":\"histogram2dcontour\"}],\"mesh3d\":[{\"colorbar\":{\"outlinewidth\":0,\"ticks\":\"\"},\"type\":\"mesh3d\"}],\"parcoords\":[{\"line\":{\"colorbar\":{\"outlinewidth\":0,\"ticks\":\"\"}},\"type\":\"parcoords\"}],\"pie\":[{\"automargin\":true,\"type\":\"pie\"}],\"scatter\":[{\"marker\":{\"colorbar\":{\"outlinewidth\":0,\"ticks\":\"\"}},\"type\":\"scatter\"}],\"scatter3d\":[{\"line\":{\"colorbar\":{\"outlinewidth\":0,\"ticks\":\"\"}},\"marker\":{\"colorbar\":{\"outlinewidth\":0,\"ticks\":\"\"}},\"type\":\"scatter3d\"}],\"scattercarpet\":[{\"marker\":{\"colorbar\":{\"outlinewidth\":0,\"ticks\":\"\"}},\"type\":\"scattercarpet\"}],\"scattergeo\":[{\"marker\":{\"colorbar\":{\"outlinewidth\":0,\"ticks\":\"\"}},\"type\":\"scattergeo\"}],\"scattergl\":[{\"marker\":{\"colorbar\":{\"outlinewidth\":0,\"ticks\":\"\"}},\"type\":\"scattergl\"}],\"scattermapbox\":[{\"marker\":{\"colorbar\":{\"outlinewidth\":0,\"ticks\":\"\"}},\"type\":\"scattermapbox\"}],\"scatterpolar\":[{\"marker\":{\"colorbar\":{\"outlinewidth\":0,\"ticks\":\"\"}},\"type\":\"scatterpolar\"}],\"scatterpolargl\":[{\"marker\":{\"colorbar\":{\"outlinewidth\":0,\"ticks\":\"\"}},\"type\":\"scatterpolargl\"}],\"scatterternary\":[{\"marker\":{\"colorbar\":{\"outlinewidth\":0,\"ticks\":\"\"}},\"type\":\"scatterternary\"}],\"surface\":[{\"colorbar\":{\"outlinewidth\":0,\"ticks\":\"\"},\"colorscale\":[[0.0,\"#0d0887\"],[0.1111111111111111,\"#46039f\"],[0.2222222222222222,\"#7201a8\"],[0.3333333333333333,\"#9c179e\"],[0.4444444444444444,\"#bd3786\"],[0.5555555555555556,\"#d8576b\"],[0.6666666666666666,\"#ed7953\"],[0.7777777777777778,\"#fb9f3a\"],[0.8888888888888888,\"#fdca26\"],[1.0,\"#f0f921\"]],\"type\":\"surface\"}],\"table\":[{\"cells\":{\"fill\":{\"color\":\"#EBF0F8\"},\"line\":{\"color\":\"white\"}},\"header\":{\"fill\":{\"color\":\"#C8D4E3\"},\"line\":{\"color\":\"white\"}},\"type\":\"table\"}]},\"layout\":{\"annotationdefaults\":{\"arrowcolor\":\"#2a3f5f\",\"arrowhead\":0,\"arrowwidth\":1},\"autotypenumbers\":\"strict\",\"coloraxis\":{\"colorbar\":{\"outlinewidth\":0,\"ticks\":\"\"}},\"colorscale\":{\"diverging\":[[0,\"#8e0152\"],[0.1,\"#c51b7d\"],[0.2,\"#de77ae\"],[0.3,\"#f1b6da\"],[0.4,\"#fde0ef\"],[0.5,\"#f7f7f7\"],[0.6,\"#e6f5d0\"],[0.7,\"#b8e186\"],[0.8,\"#7fbc41\"],[0.9,\"#4d9221\"],[1,\"#276419\"]],\"sequential\":[[0.0,\"#0d0887\"],[0.1111111111111111,\"#46039f\"],[0.2222222222222222,\"#7201a8\"],[0.3333333333333333,\"#9c179e\"],[0.4444444444444444,\"#bd3786\"],[0.5555555555555556,\"#d8576b\"],[0.6666666666666666,\"#ed7953\"],[0.7777777777777778,\"#fb9f3a\"],[0.8888888888888888,\"#fdca26\"],[1.0,\"#f0f921\"]],\"sequentialminus\":[[0.0,\"#0d0887\"],[0.1111111111111111,\"#46039f\"],[0.2222222222222222,\"#7201a8\"],[0.3333333333333333,\"#9c179e\"],[0.4444444444444444,\"#bd3786\"],[0.5555555555555556,\"#d8576b\"],[0.6666666666666666,\"#ed7953\"],[0.7777777777777778,\"#fb9f3a\"],[0.8888888888888888,\"#fdca26\"],[1.0,\"#f0f921\"]]},\"colorway\":[\"#636efa\",\"#EF553B\",\"#00cc96\",\"#ab63fa\",\"#FFA15A\",\"#19d3f3\",\"#FF6692\",\"#B6E880\",\"#FF97FF\",\"#FECB52\"],\"font\":{\"color\":\"#2a3f5f\"},\"geo\":{\"bgcolor\":\"white\",\"lakecolor\":\"white\",\"landcolor\":\"#E5ECF6\",\"showlakes\":true,\"showland\":true,\"subunitcolor\":\"white\"},\"hoverlabel\":{\"align\":\"left\"},\"hovermode\":\"closest\",\"mapbox\":{\"style\":\"light\"},\"paper_bgcolor\":\"white\",\"plot_bgcolor\":\"#E5ECF6\",\"polar\":{\"angularaxis\":{\"gridcolor\":\"white\",\"linecolor\":\"white\",\"ticks\":\"\"},\"bgcolor\":\"#E5ECF6\",\"radialaxis\":{\"gridcolor\":\"white\",\"linecolor\":\"white\",\"ticks\":\"\"}},\"scene\":{\"xaxis\":{\"backgroundcolor\":\"#E5ECF6\",\"gridcolor\":\"white\",\"gridwidth\":2,\"linecolor\":\"white\",\"showbackground\":true,\"ticks\":\"\",\"zerolinecolor\":\"white\"},\"yaxis\":{\"backgroundcolor\":\"#E5ECF6\",\"gridcolor\":\"white\",\"gridwidth\":2,\"linecolor\":\"white\",\"showbackground\":true,\"ticks\":\"\",\"zerolinecolor\":\"white\"},\"zaxis\":{\"backgroundcolor\":\"#E5ECF6\",\"gridcolor\":\"white\",\"gridwidth\":2,\"linecolor\":\"white\",\"showbackground\":true,\"ticks\":\"\",\"zerolinecolor\":\"white\"}},\"shapedefaults\":{\"line\":{\"color\":\"#2a3f5f\"}},\"ternary\":{\"aaxis\":{\"gridcolor\":\"white\",\"linecolor\":\"white\",\"ticks\":\"\"},\"baxis\":{\"gridcolor\":\"white\",\"linecolor\":\"white\",\"ticks\":\"\"},\"bgcolor\":\"#E5ECF6\",\"caxis\":{\"gridcolor\":\"white\",\"linecolor\":\"white\",\"ticks\":\"\"}},\"title\":{\"x\":0.05},\"xaxis\":{\"automargin\":true,\"gridcolor\":\"white\",\"linecolor\":\"white\",\"ticks\":\"\",\"title\":{\"standoff\":15},\"zerolinecolor\":\"white\",\"zerolinewidth\":2},\"yaxis\":{\"automargin\":true,\"gridcolor\":\"white\",\"linecolor\":\"white\",\"ticks\":\"\",\"title\":{\"standoff\":15},\"zerolinecolor\":\"white\",\"zerolinewidth\":2}}},\"xaxis\":{\"anchor\":\"y\",\"domain\":[0.0,1.0],\"title\":{\"text\":\"index\"}},\"yaxis\":{\"anchor\":\"x\",\"domain\":[0.0,1.0],\"title\":{\"text\":\"amount\"}},\"legend\":{\"tracegroupgap\":0},\"margin\":{\"t\":60},\"barmode\":\"relative\",\"bargap\":0.2},                        {\"responsive\": true}                    ).then(function(){\n",
              "                            \n",
              "var gd = document.getElementById('a4a0346b-a9f6-4265-9e39-2579a98a79fc');\n",
              "var x = new MutationObserver(function (mutations, observer) {{\n",
              "        var display = window.getComputedStyle(gd).display;\n",
              "        if (!display || display === 'none') {{\n",
              "            console.log([gd, 'removed!']);\n",
              "            Plotly.purge(gd);\n",
              "            observer.disconnect();\n",
              "        }}\n",
              "}});\n",
              "\n",
              "// Listen for the removal of the full notebook cells\n",
              "var notebookContainer = gd.closest('#notebook-container');\n",
              "if (notebookContainer) {{\n",
              "    x.observe(notebookContainer, {childList: true});\n",
              "}}\n",
              "\n",
              "// Listen for the clearing of the current output cell\n",
              "var outputEl = gd.closest('.output');\n",
              "if (outputEl) {{\n",
              "    x.observe(outputEl, {childList: true});\n",
              "}}\n",
              "\n",
              "                        })                };                            </script>        </div>\n",
              "</body>\n",
              "</html>"
            ]
          },
          "metadata": {}
        }
      ]
    },
    {
      "cell_type": "code",
      "source": [
        "feature_distribution_plot(malware_dataset)"
      ],
      "metadata": {
        "colab": {
          "base_uri": "https://localhost:8080/",
          "height": 542
        },
        "id": "xqj3r3HBOF20",
        "outputId": "aefa7e16-23a6-4ed7-a742-40ead9e72d72"
      },
      "execution_count": 58,
      "outputs": [
        {
          "output_type": "display_data",
          "data": {
            "text/html": [
              "<html>\n",
              "<head><meta charset=\"utf-8\" /></head>\n",
              "<body>\n",
              "    <div>            <script src=\"https://cdnjs.cloudflare.com/ajax/libs/mathjax/2.7.5/MathJax.js?config=TeX-AMS-MML_SVG\"></script><script type=\"text/javascript\">if (window.MathJax) {MathJax.Hub.Config({SVG: {font: \"STIX-Web\"}});}</script>                <script type=\"text/javascript\">window.PlotlyConfig = {MathJaxConfig: 'local'};</script>\n",
              "        <script src=\"https://cdn.plot.ly/plotly-2.8.3.min.js\"></script>                <div id=\"5f16bfed-1d25-4b29-b3a1-effed1392c2c\" class=\"plotly-graph-div\" style=\"height:525px; width:100%;\"></div>            <script type=\"text/javascript\">                                    window.PLOTLYENV=window.PLOTLYENV || {};                                    if (document.getElementById(\"5f16bfed-1d25-4b29-b3a1-effed1392c2c\")) {                    Plotly.newPlot(                        \"5f16bfed-1d25-4b29-b3a1-effed1392c2c\",                        [{\"alignmentgroup\":\"True\",\"hovertemplate\":\"index=%{x}<br>amount=%{y}<extra></extra>\",\"legendgroup\":\"\",\"marker\":{\"color\":\"#636efa\",\"pattern\":{\"shape\":\"\"}},\"name\":\"\",\"offsetgroup\":\"\",\"orientation\":\"v\",\"showlegend\":false,\"textposition\":\"auto\",\"x\":[\"data_in_code_command\",\"data_in_code_command_offset\",\"data_in_code_command_size\",\"data_in_code_data_hash\",\"data_in_code_data_offset\",\"data_in_code_data_size\",\"data_in_code_entries\",\"dyld_info_command\",\"dyld_info_command_offset\",\"dyld_info_command_size\",\"dyld_info_data_hash\",\"dylinker_command\",\"dylinker_command_offset\",\"dylinker_command_size\",\"dylinker_data_hash\",\"dylinker_name\",\"dynamic_symbol_command_command\",\"dynamic_symbol_command_command_offset\",\"dynamic_symbol_command_command_size\",\"dynamic_symbol_command_data_hash\",\"dynamic_symbol_command_external_reference_symbol_offset\",\"dynamic_symbol_command_external_relocation_offset\",\"dynamic_symbol_command_idx_external_define_symbol\",\"dynamic_symbol_command_idx_local_symbol\",\"dynamic_symbol_command_idx_undefined_symbol\",\"dynamic_symbol_command_indirect_symbol_offset\",\"dynamic_symbol_command_local_relocation_offset\",\"dynamic_symbol_command_module_table_offset\",\"dynamic_symbol_command_nb_external_define_symbols\",\"dynamic_symbol_command_nb_external_reference_symbols\",\"dynamic_symbol_command_nb_external_relocations\",\"dynamic_symbol_command_nb_indirect_symbols\",\"dynamic_symbol_command_nb_local_relocations\",\"dynamic_symbol_command_nb_local_symbols\",\"dynamic_symbol_command_nb_module_table\",\"dynamic_symbol_command_nb_toc\",\"dynamic_symbol_command_nb_undefined_symbols\",\"dynamic_symbol_command_toc_offset\",\"function_starts_command\",\"function_starts_command_offset\",\"function_starts_command_size\",\"function_starts_data_hash\",\"function_starts_data_offset\",\"function_starts_data_size\",\"function_starts_functions\",\"header_cpu_subtype\",\"header_cpu_type\",\"header_file_type\",\"header_flags\",\"header_magic\",\"header_nb_cmds\",\"header_reserved\",\"header_sizeof_cmds\",\"libraries_names\",\"main_command_command\",\"main_command_command_offset\",\"main_command_command_size\",\"main_command_data_hash\",\"main_command_entrypoint\",\"main_command_stack_size\",\"relocations_size\",\"rpath_command\",\"rpath_command_offset\",\"rpath_command_size\",\"rpath_data_hash\",\"rpath_path\",\"sections_size\",\"segments___PAGEZERO\",\"segments___TEXT\",\"segments___DATA\",\"segments___LINKEDIT\",\"segments___DATA_CONST\",\"segments___OBJC\",\"source_version_command\",\"source_version_command_offset\",\"source_version_command_size\",\"source_version_data_hash\",\"source_version_version\",\"symbol_command_command\",\"symbol_command_command_offset\",\"symbol_command_command_size\",\"symbol_command_data_hash\",\"symbol_command_numberof_symbols\",\"symbol_command_strings_offset\",\"symbol_command_strings_size\",\"symbol_command_symbol_offset\",\"symbols_names\",\"uuid_command\",\"uuid_command_offset\",\"uuid_command_size\",\"uuid_data_hash\",\"uuid_uuid\"],\"xaxis\":\"x\",\"y\":[2,49,2,56,56,19,28,2,31,2,53,2,24,3,3,2,2,33,2,57,2,3,21,2,34,57,4,2,29,2,3,48,4,21,2,2,49,2,2,49,2,56,55,41,81,5,5,4,8,3,36,1,54,51,2,23,2,61,61,2,47,2,26,4,5,5,84,2,3,3,4,2,2,2,28,2,2,2,2,33,2,58,49,57,51,57,58,2,32,3,92,92],\"yaxis\":\"y\",\"type\":\"bar\"}],                        {\"template\":{\"data\":{\"bar\":[{\"error_x\":{\"color\":\"#2a3f5f\"},\"error_y\":{\"color\":\"#2a3f5f\"},\"marker\":{\"line\":{\"color\":\"#E5ECF6\",\"width\":0.5},\"pattern\":{\"fillmode\":\"overlay\",\"size\":10,\"solidity\":0.2}},\"type\":\"bar\"}],\"barpolar\":[{\"marker\":{\"line\":{\"color\":\"#E5ECF6\",\"width\":0.5},\"pattern\":{\"fillmode\":\"overlay\",\"size\":10,\"solidity\":0.2}},\"type\":\"barpolar\"}],\"carpet\":[{\"aaxis\":{\"endlinecolor\":\"#2a3f5f\",\"gridcolor\":\"white\",\"linecolor\":\"white\",\"minorgridcolor\":\"white\",\"startlinecolor\":\"#2a3f5f\"},\"baxis\":{\"endlinecolor\":\"#2a3f5f\",\"gridcolor\":\"white\",\"linecolor\":\"white\",\"minorgridcolor\":\"white\",\"startlinecolor\":\"#2a3f5f\"},\"type\":\"carpet\"}],\"choropleth\":[{\"colorbar\":{\"outlinewidth\":0,\"ticks\":\"\"},\"type\":\"choropleth\"}],\"contour\":[{\"colorbar\":{\"outlinewidth\":0,\"ticks\":\"\"},\"colorscale\":[[0.0,\"#0d0887\"],[0.1111111111111111,\"#46039f\"],[0.2222222222222222,\"#7201a8\"],[0.3333333333333333,\"#9c179e\"],[0.4444444444444444,\"#bd3786\"],[0.5555555555555556,\"#d8576b\"],[0.6666666666666666,\"#ed7953\"],[0.7777777777777778,\"#fb9f3a\"],[0.8888888888888888,\"#fdca26\"],[1.0,\"#f0f921\"]],\"type\":\"contour\"}],\"contourcarpet\":[{\"colorbar\":{\"outlinewidth\":0,\"ticks\":\"\"},\"type\":\"contourcarpet\"}],\"heatmap\":[{\"colorbar\":{\"outlinewidth\":0,\"ticks\":\"\"},\"colorscale\":[[0.0,\"#0d0887\"],[0.1111111111111111,\"#46039f\"],[0.2222222222222222,\"#7201a8\"],[0.3333333333333333,\"#9c179e\"],[0.4444444444444444,\"#bd3786\"],[0.5555555555555556,\"#d8576b\"],[0.6666666666666666,\"#ed7953\"],[0.7777777777777778,\"#fb9f3a\"],[0.8888888888888888,\"#fdca26\"],[1.0,\"#f0f921\"]],\"type\":\"heatmap\"}],\"heatmapgl\":[{\"colorbar\":{\"outlinewidth\":0,\"ticks\":\"\"},\"colorscale\":[[0.0,\"#0d0887\"],[0.1111111111111111,\"#46039f\"],[0.2222222222222222,\"#7201a8\"],[0.3333333333333333,\"#9c179e\"],[0.4444444444444444,\"#bd3786\"],[0.5555555555555556,\"#d8576b\"],[0.6666666666666666,\"#ed7953\"],[0.7777777777777778,\"#fb9f3a\"],[0.8888888888888888,\"#fdca26\"],[1.0,\"#f0f921\"]],\"type\":\"heatmapgl\"}],\"histogram\":[{\"marker\":{\"pattern\":{\"fillmode\":\"overlay\",\"size\":10,\"solidity\":0.2}},\"type\":\"histogram\"}],\"histogram2d\":[{\"colorbar\":{\"outlinewidth\":0,\"ticks\":\"\"},\"colorscale\":[[0.0,\"#0d0887\"],[0.1111111111111111,\"#46039f\"],[0.2222222222222222,\"#7201a8\"],[0.3333333333333333,\"#9c179e\"],[0.4444444444444444,\"#bd3786\"],[0.5555555555555556,\"#d8576b\"],[0.6666666666666666,\"#ed7953\"],[0.7777777777777778,\"#fb9f3a\"],[0.8888888888888888,\"#fdca26\"],[1.0,\"#f0f921\"]],\"type\":\"histogram2d\"}],\"histogram2dcontour\":[{\"colorbar\":{\"outlinewidth\":0,\"ticks\":\"\"},\"colorscale\":[[0.0,\"#0d0887\"],[0.1111111111111111,\"#46039f\"],[0.2222222222222222,\"#7201a8\"],[0.3333333333333333,\"#9c179e\"],[0.4444444444444444,\"#bd3786\"],[0.5555555555555556,\"#d8576b\"],[0.6666666666666666,\"#ed7953\"],[0.7777777777777778,\"#fb9f3a\"],[0.8888888888888888,\"#fdca26\"],[1.0,\"#f0f921\"]],\"type\":\"histogram2dcontour\"}],\"mesh3d\":[{\"colorbar\":{\"outlinewidth\":0,\"ticks\":\"\"},\"type\":\"mesh3d\"}],\"parcoords\":[{\"line\":{\"colorbar\":{\"outlinewidth\":0,\"ticks\":\"\"}},\"type\":\"parcoords\"}],\"pie\":[{\"automargin\":true,\"type\":\"pie\"}],\"scatter\":[{\"marker\":{\"colorbar\":{\"outlinewidth\":0,\"ticks\":\"\"}},\"type\":\"scatter\"}],\"scatter3d\":[{\"line\":{\"colorbar\":{\"outlinewidth\":0,\"ticks\":\"\"}},\"marker\":{\"colorbar\":{\"outlinewidth\":0,\"ticks\":\"\"}},\"type\":\"scatter3d\"}],\"scattercarpet\":[{\"marker\":{\"colorbar\":{\"outlinewidth\":0,\"ticks\":\"\"}},\"type\":\"scattercarpet\"}],\"scattergeo\":[{\"marker\":{\"colorbar\":{\"outlinewidth\":0,\"ticks\":\"\"}},\"type\":\"scattergeo\"}],\"scattergl\":[{\"marker\":{\"colorbar\":{\"outlinewidth\":0,\"ticks\":\"\"}},\"type\":\"scattergl\"}],\"scattermapbox\":[{\"marker\":{\"colorbar\":{\"outlinewidth\":0,\"ticks\":\"\"}},\"type\":\"scattermapbox\"}],\"scatterpolar\":[{\"marker\":{\"colorbar\":{\"outlinewidth\":0,\"ticks\":\"\"}},\"type\":\"scatterpolar\"}],\"scatterpolargl\":[{\"marker\":{\"colorbar\":{\"outlinewidth\":0,\"ticks\":\"\"}},\"type\":\"scatterpolargl\"}],\"scatterternary\":[{\"marker\":{\"colorbar\":{\"outlinewidth\":0,\"ticks\":\"\"}},\"type\":\"scatterternary\"}],\"surface\":[{\"colorbar\":{\"outlinewidth\":0,\"ticks\":\"\"},\"colorscale\":[[0.0,\"#0d0887\"],[0.1111111111111111,\"#46039f\"],[0.2222222222222222,\"#7201a8\"],[0.3333333333333333,\"#9c179e\"],[0.4444444444444444,\"#bd3786\"],[0.5555555555555556,\"#d8576b\"],[0.6666666666666666,\"#ed7953\"],[0.7777777777777778,\"#fb9f3a\"],[0.8888888888888888,\"#fdca26\"],[1.0,\"#f0f921\"]],\"type\":\"surface\"}],\"table\":[{\"cells\":{\"fill\":{\"color\":\"#EBF0F8\"},\"line\":{\"color\":\"white\"}},\"header\":{\"fill\":{\"color\":\"#C8D4E3\"},\"line\":{\"color\":\"white\"}},\"type\":\"table\"}]},\"layout\":{\"annotationdefaults\":{\"arrowcolor\":\"#2a3f5f\",\"arrowhead\":0,\"arrowwidth\":1},\"autotypenumbers\":\"strict\",\"coloraxis\":{\"colorbar\":{\"outlinewidth\":0,\"ticks\":\"\"}},\"colorscale\":{\"diverging\":[[0,\"#8e0152\"],[0.1,\"#c51b7d\"],[0.2,\"#de77ae\"],[0.3,\"#f1b6da\"],[0.4,\"#fde0ef\"],[0.5,\"#f7f7f7\"],[0.6,\"#e6f5d0\"],[0.7,\"#b8e186\"],[0.8,\"#7fbc41\"],[0.9,\"#4d9221\"],[1,\"#276419\"]],\"sequential\":[[0.0,\"#0d0887\"],[0.1111111111111111,\"#46039f\"],[0.2222222222222222,\"#7201a8\"],[0.3333333333333333,\"#9c179e\"],[0.4444444444444444,\"#bd3786\"],[0.5555555555555556,\"#d8576b\"],[0.6666666666666666,\"#ed7953\"],[0.7777777777777778,\"#fb9f3a\"],[0.8888888888888888,\"#fdca26\"],[1.0,\"#f0f921\"]],\"sequentialminus\":[[0.0,\"#0d0887\"],[0.1111111111111111,\"#46039f\"],[0.2222222222222222,\"#7201a8\"],[0.3333333333333333,\"#9c179e\"],[0.4444444444444444,\"#bd3786\"],[0.5555555555555556,\"#d8576b\"],[0.6666666666666666,\"#ed7953\"],[0.7777777777777778,\"#fb9f3a\"],[0.8888888888888888,\"#fdca26\"],[1.0,\"#f0f921\"]]},\"colorway\":[\"#636efa\",\"#EF553B\",\"#00cc96\",\"#ab63fa\",\"#FFA15A\",\"#19d3f3\",\"#FF6692\",\"#B6E880\",\"#FF97FF\",\"#FECB52\"],\"font\":{\"color\":\"#2a3f5f\"},\"geo\":{\"bgcolor\":\"white\",\"lakecolor\":\"white\",\"landcolor\":\"#E5ECF6\",\"showlakes\":true,\"showland\":true,\"subunitcolor\":\"white\"},\"hoverlabel\":{\"align\":\"left\"},\"hovermode\":\"closest\",\"mapbox\":{\"style\":\"light\"},\"paper_bgcolor\":\"white\",\"plot_bgcolor\":\"#E5ECF6\",\"polar\":{\"angularaxis\":{\"gridcolor\":\"white\",\"linecolor\":\"white\",\"ticks\":\"\"},\"bgcolor\":\"#E5ECF6\",\"radialaxis\":{\"gridcolor\":\"white\",\"linecolor\":\"white\",\"ticks\":\"\"}},\"scene\":{\"xaxis\":{\"backgroundcolor\":\"#E5ECF6\",\"gridcolor\":\"white\",\"gridwidth\":2,\"linecolor\":\"white\",\"showbackground\":true,\"ticks\":\"\",\"zerolinecolor\":\"white\"},\"yaxis\":{\"backgroundcolor\":\"#E5ECF6\",\"gridcolor\":\"white\",\"gridwidth\":2,\"linecolor\":\"white\",\"showbackground\":true,\"ticks\":\"\",\"zerolinecolor\":\"white\"},\"zaxis\":{\"backgroundcolor\":\"#E5ECF6\",\"gridcolor\":\"white\",\"gridwidth\":2,\"linecolor\":\"white\",\"showbackground\":true,\"ticks\":\"\",\"zerolinecolor\":\"white\"}},\"shapedefaults\":{\"line\":{\"color\":\"#2a3f5f\"}},\"ternary\":{\"aaxis\":{\"gridcolor\":\"white\",\"linecolor\":\"white\",\"ticks\":\"\"},\"baxis\":{\"gridcolor\":\"white\",\"linecolor\":\"white\",\"ticks\":\"\"},\"bgcolor\":\"#E5ECF6\",\"caxis\":{\"gridcolor\":\"white\",\"linecolor\":\"white\",\"ticks\":\"\"}},\"title\":{\"x\":0.05},\"xaxis\":{\"automargin\":true,\"gridcolor\":\"white\",\"linecolor\":\"white\",\"ticks\":\"\",\"title\":{\"standoff\":15},\"zerolinecolor\":\"white\",\"zerolinewidth\":2},\"yaxis\":{\"automargin\":true,\"gridcolor\":\"white\",\"linecolor\":\"white\",\"ticks\":\"\",\"title\":{\"standoff\":15},\"zerolinecolor\":\"white\",\"zerolinewidth\":2}}},\"xaxis\":{\"anchor\":\"y\",\"domain\":[0.0,1.0],\"title\":{\"text\":\"index\"}},\"yaxis\":{\"anchor\":\"x\",\"domain\":[0.0,1.0],\"title\":{\"text\":\"amount\"}},\"legend\":{\"tracegroupgap\":0},\"margin\":{\"t\":60},\"barmode\":\"relative\",\"bargap\":0.2},                        {\"responsive\": true}                    ).then(function(){\n",
              "                            \n",
              "var gd = document.getElementById('5f16bfed-1d25-4b29-b3a1-effed1392c2c');\n",
              "var x = new MutationObserver(function (mutations, observer) {{\n",
              "        var display = window.getComputedStyle(gd).display;\n",
              "        if (!display || display === 'none') {{\n",
              "            console.log([gd, 'removed!']);\n",
              "            Plotly.purge(gd);\n",
              "            observer.disconnect();\n",
              "        }}\n",
              "}});\n",
              "\n",
              "// Listen for the removal of the full notebook cells\n",
              "var notebookContainer = gd.closest('#notebook-container');\n",
              "if (notebookContainer) {{\n",
              "    x.observe(notebookContainer, {childList: true});\n",
              "}}\n",
              "\n",
              "// Listen for the clearing of the current output cell\n",
              "var outputEl = gd.closest('.output');\n",
              "if (outputEl) {{\n",
              "    x.observe(outputEl, {childList: true});\n",
              "}}\n",
              "\n",
              "                        })                };                            </script>        </div>\n",
              "</body>\n",
              "</html>"
            ]
          },
          "metadata": {}
        }
      ]
    },
    {
      "cell_type": "markdown",
      "source": [
        "Now, the data set contains values whose type is object, even if they represent some number.\n",
        "Therefore we will convert those columns which describe numerical values to their appropriate type."
      ],
      "metadata": {
        "id": "wwbF2WnnauRr"
      }
    },
    {
      "cell_type": "code",
      "source": [
        "def columns_to_numeric(dataset):\n",
        "  #convert all the elements in the dataset to numeric, if it is not possible to convert an element to a numeric, it will be converted to NaN.\n",
        "  numeric = dataset.apply(pd.to_numeric, errors='coerce')\n",
        "  columns = numeric.columns[numeric.isna().sum() < dataset.shape[0]].tolist()\n",
        "\n",
        "  #after we got the columns that can be a numeric , we convert them in the input dataset.\n",
        "  dataset[columns] = dataset[columns].apply(pd.to_numeric, errors='coerce')\n",
        "  return dataset"
      ],
      "metadata": {
        "id": "dwvFsDkXWMn7"
      },
      "execution_count": 104,
      "outputs": []
    },
    {
      "cell_type": "code",
      "source": [
        "benign_dataset = columns_to_numeric(benign_dataset)\n",
        "malware_dataset = columns_to_numeric(malware_dataset)"
      ],
      "metadata": {
        "id": "pByNe5T8cRMz"
      },
      "execution_count": 110,
      "outputs": []
    },
    {
      "cell_type": "code",
      "source": [
        "# Selecting the columns containing objects after performing the transformation.\n",
        "object_columns = benign_dataset.columns[benign_dataset.dtypes == object]\n",
        "object_columns"
      ],
      "metadata": {
        "colab": {
          "base_uri": "https://localhost:8080/"
        },
        "id": "sjRPnQTMcess",
        "outputId": "80dc980b-24c0-4ae2-d987-3097c7ab3c4b"
      },
      "execution_count": 126,
      "outputs": [
        {
          "output_type": "execute_result",
          "data": {
            "text/plain": [
              "Index(['data_in_code_command', 'data_in_code_entries', 'dyld_info_command',\n",
              "       'dylinker_command', 'dylinker_name', 'dynamic_symbol_command_command',\n",
              "       'function_starts_command', 'function_starts_functions',\n",
              "       'header_cpu_type', 'header_file_type', 'header_flags', 'header_magic',\n",
              "       'libraries_names', 'main_command_command', 'rpath_command',\n",
              "       'rpath_path', 'segments___PAGEZERO', 'segments___TEXT',\n",
              "       'segments___DATA', 'segments___LINKEDIT', 'segments___DATA_CONST',\n",
              "       'segments___XOJO', 'source_version_command', 'source_version_version',\n",
              "       'symbol_command_command', 'symbols_names', 'uuid_command', 'uuid_uuid'],\n",
              "      dtype='object')"
            ]
          },
          "metadata": {},
          "execution_count": 126
        }
      ]
    },
    {
      "cell_type": "code",
      "source": [
        "object_columns = malware_dataset.columns[malware_dataset.dtypes == object]\n",
        "object_columns"
      ],
      "metadata": {
        "colab": {
          "base_uri": "https://localhost:8080/"
        },
        "id": "LS-diTfPc1k7",
        "outputId": "c29cb817-ca46-4a1a-b710-1bf9a610ebb3"
      },
      "execution_count": 125,
      "outputs": [
        {
          "output_type": "execute_result",
          "data": {
            "text/plain": [
              "Index(['data_in_code_command', 'data_in_code_entries', 'dyld_info_command',\n",
              "       'dylinker_command', 'dylinker_name', 'dynamic_symbol_command_command',\n",
              "       'function_starts_command', 'function_starts_functions',\n",
              "       'header_cpu_type', 'header_file_type', 'header_flags', 'header_magic',\n",
              "       'libraries_names', 'main_command_command', 'rpath_command',\n",
              "       'rpath_path', 'segments___PAGEZERO', 'segments___TEXT',\n",
              "       'segments___DATA', 'segments___LINKEDIT', 'segments___DATA_CONST',\n",
              "       'segments___OBJC', 'source_version_command', 'source_version_version',\n",
              "       'symbol_command_command', 'symbols_names', 'uuid_command', 'uuid_uuid'],\n",
              "      dtype='object')"
            ]
          },
          "metadata": {},
          "execution_count": 125
        }
      ]
    }
  ]
}