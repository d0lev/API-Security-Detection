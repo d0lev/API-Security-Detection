{
  "cells": [
    {
      "cell_type": "markdown",
      "metadata": {
        "id": "view-in-github",
        "colab_type": "text"
      },
      "source": [
        "<a href=\"https://colab.research.google.com/github/d0lev/API-Security-Detection/blob/main/challenge_1.ipynb\" target=\"_parent\"><img src=\"https://colab.research.google.com/assets/colab-badge.svg\" alt=\"Open In Colab\"/></a>"
      ]
    },
    {
      "cell_type": "markdown",
      "metadata": {
        "id": "ji1YusWZnj3i"
      },
      "source": [
        "# Cisco - Ariel University API Security Detection Challenge 2023\n",
        "### Imports and global settings"
      ]
    },
    {
      "cell_type": "code",
      "source": [
        "from google.colab import drive\n",
        "drive.mount('/content/drive')"
      ],
      "metadata": {
        "id": "1NwHJKXYntB-"
      },
      "execution_count": null,
      "outputs": []
    },
    {
      "cell_type": "code",
      "source": [
        "# Imports, settings and first dataset view\n",
        "import pandas as pd\n",
        "import seaborn as sns\n",
        "import numpy as np\n",
        "import json\n",
        "import matplotlib.pyplot as plt\n",
        "import matplotlib as mpl\n",
        "import seaborn as sns"
      ],
      "metadata": {
        "id": "y3yqWnwHoE-b"
      },
      "execution_count": 546,
      "outputs": []
    },
    {
      "cell_type": "code",
      "execution_count": 580,
      "metadata": {
        "id": "V9nGWcAXnj3l"
      },
      "outputs": [],
      "source": [
        "# Set pandas to show all columns when you print a dataframe\n",
        "pd.set_option('display.max_columns', None)\n",
        "\n",
        "# Global setting here you choose the dataset number and classification type for the model\n",
        "dataset_path = \"/content/drive/MyDrive/CiscoChallenge/Data/dataset_1_train.json\";\n",
        "test_type = 'label' # Options are ['label', 'attack_type']\n",
        "\n",
        "# Read the json and read it to a pandas dataframe object, you can change these settings\n",
        "with open(dataset_path) as file:\n",
        "    raw_ds = json.load(file)\n",
        "df = pd.json_normalize(raw_ds, max_level=2)"
      ]
    },
    {
      "cell_type": "markdown",
      "metadata": {
        "id": "cijdHMnjnj3n"
      },
      "source": [
        "# **Preprocessing**\n",
        "\n",
        "---\n",
        "At this step we will engineer the various features in the data set,  It involves transforming data to forms that better relate to the underlying target to be learned. \n",
        "In the data set, there are various attacks on the API, for this purpose, we will create a binary column that will describe whether or not any attack was carried out in each record"
      ]
    },
    {
      "cell_type": "code",
      "execution_count": 581,
      "metadata": {
        "id": "g0D-_6b8nj3o"
      },
      "outputs": [],
      "source": [
        "# Fill the black attack tag lines with \"Benign\" string\n",
        "df['request.Attack_Tag'] = df['request.Attack_Tag'].fillna('Benign')\n",
        "df['attack_type'] = df['request.Attack_Tag']\n",
        "\n",
        "for column in df.columns[df.isna().any()].tolist():\n",
        "    df[column] = df[column].fillna('None')\n",
        "\n",
        "# Any entry that contains a particular attack will be labeled malware.\n",
        "def categorize(row):  \n",
        "    if row['request.Attack_Tag'] == 'Benign': \n",
        "        return 'Benign'\n",
        "    return 'Malware'\n",
        "\n",
        "df['label'] = df.apply(lambda row: categorize(row), axis=1)\n",
        "\n",
        "# After finishing the arrangements we delete the irrelevant column\n",
        "df.drop('request.Attack_Tag', axis=1, inplace=True)"
      ]
    },
    {
      "cell_type": "code",
      "source": [
        "df.head(1)"
      ],
      "metadata": {
        "colab": {
          "base_uri": "https://localhost:8080/",
          "height": 197
        },
        "id": "OgXnefTq4M0K",
        "outputId": "e8f80bb7-bfc1-495b-bb04-591d1c40ab88"
      },
      "execution_count": 575,
      "outputs": [
        {
          "output_type": "execute_result",
          "data": {
            "text/plain": [
              "  request.headers.Host                         request.headers.User-Agent  \\\n",
              "0       127.0.0.1:5000  Mozilla/5.0 (X11; Linux i586; rv:31.0) Gecko/2...   \n",
              "\n",
              "  request.headers.Accept-Encoding request.headers.Accept  \\\n",
              "0               gzip, deflate, br                    */*   \n",
              "\n",
              "  request.headers.Connection request.headers.Accept-Language  \\\n",
              "0                 keep-alive                           de-CH   \n",
              "\n",
              "  request.headers.Sec-Fetch-Site request.headers.Sec-Fetch-Mode  \\\n",
              "0                           none                    same-origin   \n",
              "\n",
              "  request.headers.Sec-Fetch-User request.headers.Sec-Fetch-Dest  \\\n",
              "0                             ?1                       document   \n",
              "\n",
              "                          request.headers.Set-Cookie  \\\n",
              "0  ['ck=o_GpTr9HHJJuQyahzYzRI32s-1_JPvkhLtweRRmjP...   \n",
              "\n",
              "            request.headers.Date request.method  \\\n",
              "0  Mon, 21 Nov 2022 18:12:16 GMT            GET   \n",
              "\n",
              "                                         request.url request.body  \\\n",
              "0  http://127.0.0.1:5000/static/download_txt/../....                \n",
              "\n",
              "  response.status response.headers.Content-Type  \\\n",
              "0          200 OK              application/json   \n",
              "\n",
              "  response.headers.Content-Length  response.status_code  \\\n",
              "0                              72                   200   \n",
              "\n",
              "                                       response.body request.headers.Cookie  \\\n",
              "0  {\"error\": \"File ../../../../../../../../window...                   None   \n",
              "\n",
              "  response.headers.Location request.headers.Content-Length  \\\n",
              "0                      None                           None   \n",
              "\n",
              "  response.headers.Set-Cookie          attack_type    label  \n",
              "0                        None  Directory Traversal  Malware  "
            ],
            "text/html": [
              "\n",
              "  <div id=\"df-8745a859-ecf5-4ddb-a670-85c7a51180a3\">\n",
              "    <div class=\"colab-df-container\">\n",
              "      <div>\n",
              "<style scoped>\n",
              "    .dataframe tbody tr th:only-of-type {\n",
              "        vertical-align: middle;\n",
              "    }\n",
              "\n",
              "    .dataframe tbody tr th {\n",
              "        vertical-align: top;\n",
              "    }\n",
              "\n",
              "    .dataframe thead th {\n",
              "        text-align: right;\n",
              "    }\n",
              "</style>\n",
              "<table border=\"1\" class=\"dataframe\">\n",
              "  <thead>\n",
              "    <tr style=\"text-align: right;\">\n",
              "      <th></th>\n",
              "      <th>request.headers.Host</th>\n",
              "      <th>request.headers.User-Agent</th>\n",
              "      <th>request.headers.Accept-Encoding</th>\n",
              "      <th>request.headers.Accept</th>\n",
              "      <th>request.headers.Connection</th>\n",
              "      <th>request.headers.Accept-Language</th>\n",
              "      <th>request.headers.Sec-Fetch-Site</th>\n",
              "      <th>request.headers.Sec-Fetch-Mode</th>\n",
              "      <th>request.headers.Sec-Fetch-User</th>\n",
              "      <th>request.headers.Sec-Fetch-Dest</th>\n",
              "      <th>request.headers.Set-Cookie</th>\n",
              "      <th>request.headers.Date</th>\n",
              "      <th>request.method</th>\n",
              "      <th>request.url</th>\n",
              "      <th>request.body</th>\n",
              "      <th>response.status</th>\n",
              "      <th>response.headers.Content-Type</th>\n",
              "      <th>response.headers.Content-Length</th>\n",
              "      <th>response.status_code</th>\n",
              "      <th>response.body</th>\n",
              "      <th>request.headers.Cookie</th>\n",
              "      <th>response.headers.Location</th>\n",
              "      <th>request.headers.Content-Length</th>\n",
              "      <th>response.headers.Set-Cookie</th>\n",
              "      <th>attack_type</th>\n",
              "      <th>label</th>\n",
              "    </tr>\n",
              "  </thead>\n",
              "  <tbody>\n",
              "    <tr>\n",
              "      <th>0</th>\n",
              "      <td>127.0.0.1:5000</td>\n",
              "      <td>Mozilla/5.0 (X11; Linux i586; rv:31.0) Gecko/2...</td>\n",
              "      <td>gzip, deflate, br</td>\n",
              "      <td>*/*</td>\n",
              "      <td>keep-alive</td>\n",
              "      <td>de-CH</td>\n",
              "      <td>none</td>\n",
              "      <td>same-origin</td>\n",
              "      <td>?1</td>\n",
              "      <td>document</td>\n",
              "      <td>['ck=o_GpTr9HHJJuQyahzYzRI32s-1_JPvkhLtweRRmjP...</td>\n",
              "      <td>Mon, 21 Nov 2022 18:12:16 GMT</td>\n",
              "      <td>GET</td>\n",
              "      <td>http://127.0.0.1:5000/static/download_txt/../....</td>\n",
              "      <td></td>\n",
              "      <td>200 OK</td>\n",
              "      <td>application/json</td>\n",
              "      <td>72</td>\n",
              "      <td>200</td>\n",
              "      <td>{\"error\": \"File ../../../../../../../../window...</td>\n",
              "      <td>None</td>\n",
              "      <td>None</td>\n",
              "      <td>None</td>\n",
              "      <td>None</td>\n",
              "      <td>Directory Traversal</td>\n",
              "      <td>Malware</td>\n",
              "    </tr>\n",
              "  </tbody>\n",
              "</table>\n",
              "</div>\n",
              "      <button class=\"colab-df-convert\" onclick=\"convertToInteractive('df-8745a859-ecf5-4ddb-a670-85c7a51180a3')\"\n",
              "              title=\"Convert this dataframe to an interactive table.\"\n",
              "              style=\"display:none;\">\n",
              "        \n",
              "  <svg xmlns=\"http://www.w3.org/2000/svg\" height=\"24px\"viewBox=\"0 0 24 24\"\n",
              "       width=\"24px\">\n",
              "    <path d=\"M0 0h24v24H0V0z\" fill=\"none\"/>\n",
              "    <path d=\"M18.56 5.44l.94 2.06.94-2.06 2.06-.94-2.06-.94-.94-2.06-.94 2.06-2.06.94zm-11 1L8.5 8.5l.94-2.06 2.06-.94-2.06-.94L8.5 2.5l-.94 2.06-2.06.94zm10 10l.94 2.06.94-2.06 2.06-.94-2.06-.94-.94-2.06-.94 2.06-2.06.94z\"/><path d=\"M17.41 7.96l-1.37-1.37c-.4-.4-.92-.59-1.43-.59-.52 0-1.04.2-1.43.59L10.3 9.45l-7.72 7.72c-.78.78-.78 2.05 0 2.83L4 21.41c.39.39.9.59 1.41.59.51 0 1.02-.2 1.41-.59l7.78-7.78 2.81-2.81c.8-.78.8-2.07 0-2.86zM5.41 20L4 18.59l7.72-7.72 1.47 1.35L5.41 20z\"/>\n",
              "  </svg>\n",
              "      </button>\n",
              "      \n",
              "  <style>\n",
              "    .colab-df-container {\n",
              "      display:flex;\n",
              "      flex-wrap:wrap;\n",
              "      gap: 12px;\n",
              "    }\n",
              "\n",
              "    .colab-df-convert {\n",
              "      background-color: #E8F0FE;\n",
              "      border: none;\n",
              "      border-radius: 50%;\n",
              "      cursor: pointer;\n",
              "      display: none;\n",
              "      fill: #1967D2;\n",
              "      height: 32px;\n",
              "      padding: 0 0 0 0;\n",
              "      width: 32px;\n",
              "    }\n",
              "\n",
              "    .colab-df-convert:hover {\n",
              "      background-color: #E2EBFA;\n",
              "      box-shadow: 0px 1px 2px rgba(60, 64, 67, 0.3), 0px 1px 3px 1px rgba(60, 64, 67, 0.15);\n",
              "      fill: #174EA6;\n",
              "    }\n",
              "\n",
              "    [theme=dark] .colab-df-convert {\n",
              "      background-color: #3B4455;\n",
              "      fill: #D2E3FC;\n",
              "    }\n",
              "\n",
              "    [theme=dark] .colab-df-convert:hover {\n",
              "      background-color: #434B5C;\n",
              "      box-shadow: 0px 1px 3px 1px rgba(0, 0, 0, 0.15);\n",
              "      filter: drop-shadow(0px 1px 2px rgba(0, 0, 0, 0.3));\n",
              "      fill: #FFFFFF;\n",
              "    }\n",
              "  </style>\n",
              "\n",
              "      <script>\n",
              "        const buttonEl =\n",
              "          document.querySelector('#df-8745a859-ecf5-4ddb-a670-85c7a51180a3 button.colab-df-convert');\n",
              "        buttonEl.style.display =\n",
              "          google.colab.kernel.accessAllowed ? 'block' : 'none';\n",
              "\n",
              "        async function convertToInteractive(key) {\n",
              "          const element = document.querySelector('#df-8745a859-ecf5-4ddb-a670-85c7a51180a3');\n",
              "          const dataTable =\n",
              "            await google.colab.kernel.invokeFunction('convertToInteractive',\n",
              "                                                     [key], {});\n",
              "          if (!dataTable) return;\n",
              "\n",
              "          const docLinkHtml = 'Like what you see? Visit the ' +\n",
              "            '<a target=\"_blank\" href=https://colab.research.google.com/notebooks/data_table.ipynb>data table notebook</a>'\n",
              "            + ' to learn more about interactive tables.';\n",
              "          element.innerHTML = '';\n",
              "          dataTable['output_type'] = 'display_data';\n",
              "          await google.colab.output.renderOutput(dataTable, element);\n",
              "          const docLink = document.createElement('div');\n",
              "          docLink.innerHTML = docLinkHtml;\n",
              "          element.appendChild(docLink);\n",
              "        }\n",
              "      </script>\n",
              "    </div>\n",
              "  </div>\n",
              "  "
            ]
          },
          "metadata": {},
          "execution_count": 575
        }
      ]
    },
    {
      "cell_type": "markdown",
      "source": [
        "### **Dataset Description :**\n",
        "\n",
        "---\n",
        "For each record in the data set, some different features describe the request and the response headers."
      ],
      "metadata": {
        "id": "GPQpNuCt2LbX"
      }
    },
    {
      "cell_type": "markdown",
      "source": [
        "#### **Request Header :**\n",
        "---\n",
        "HTTP header that can be used in an HTTP request to provide information about the request context, so that the server can tailor the response.\n",
        "\n",
        "\n",
        "\n",
        ">>\n",
        " \n",
        "  1. <ins>**Host**</ins> : `specifies the host and port number of the server to which the request is being sent. `\n",
        "\n",
        "  2. <ins>**User agent**</ins> : `informs the server which browser and operating system the client is using`\n",
        "\n",
        "  3. <ins>**Accept Encoding**</ins> : `indicates the content encoding that the client can understand.`\n",
        "      \n",
        "  4. <ins>**Accept**</ins> :` indicates which content types, expressed as MIME types, the client is able to understand`\n",
        "\n",
        "  5. <ins>**Connection**</ins> :` indicates whether the network connection stays open after the current transaction finishes.`\n",
        "\n",
        "  6. <ins>**Accept Langauge**</ins> :` indicates the natural language and locale that the client prefers.`\n",
        "\n",
        "  7. <ins>**Sec-Fetch-Site**</ins> :`indicates whether a request for a resource is coming from the same origin, the same site or different site.`\n",
        "\n",
        "  8. <ins>**Sec-Fetch-Mode**</ins> :` indicates the mode of the request.`\n",
        "\n",
        "  9. <ins>**Sec-Fetch-User**</ins> :` sent for requests initiated by user activation, and its value will always be ?1`\n",
        "\n",
        "  10. <ins>**Sec-Fetch-Dest**</ins> :`That is the initiator of the original fetch request, which is where/how the fetched data will be used.`\n",
        "\n",
        "  11. <ins>**Set-Cookie**</ins> :`indicates a cookie that sends from the server to the user agent, so that the user agent can send it back to the server.`\n",
        "\n",
        "  12. <ins>**Date**</ins> :` indicates the date and time at which the message originated.`\n",
        "\n",
        "  13. <ins>**Method**</ins> :`A message to the server to indicate the kind of actions to take.`\n",
        "\n",
        "  14. <ins>**Url**</ins> :`address that contains the information needed to access the server resources.`\n",
        "      \n",
        "  15. <ins>**Body**</ins> :`indicates a readable stream of byte data that represents the contents that have been added to the request. `\n",
        "\n",
        "\n"
      ],
      "metadata": {
        "id": "kd3ij2at2sbh"
      }
    },
    {
      "cell_type": "markdown",
      "source": [
        "### **Classes distribution :**"
      ],
      "metadata": {
        "id": "OzzGlzD9T1eH"
      }
    },
    {
      "cell_type": "code",
      "source": [
        "fig = plt.figure(1, figsize=(28,2))\n",
        "classes_distribution = df['label'].value_counts().to_frame().reset_index().to_numpy()\n",
        "sns.barplot(x = [classes_distribution[0][0],classes_distribution[1][0]] , y = [classes_distribution[0][1] , classes_distribution[1][1]] , color = \"gray\")\n",
        "plt.show()"
      ],
      "metadata": {
        "colab": {
          "base_uri": "https://localhost:8080/",
          "height": 135
        },
        "id": "baEo0l7iT-u-",
        "outputId": "6017a5dd-6d3b-4941-c600-d23899b16021"
      },
      "execution_count": 582,
      "outputs": [
        {
          "output_type": "display_data",
          "data": {
            "text/plain": [
              "<Figure size 2016x144 with 1 Axes>"
            ],
            "image/png": "[encoded data removed]"
          },
          "metadata": {}
        }
      ]
    },
    {
      "cell_type": "code",
      "source": [
        "df.shape"
      ],
      "metadata": {
        "colab": {
          "base_uri": "https://localhost:8080/"
        },
        "id": "cZBtVL8HEh_E",
        "outputId": "837ba59f-bb66-4285-a0d6-4222a9ae930d"
      },
      "execution_count": 583,
      "outputs": [
        {
          "output_type": "execute_result",
          "data": {
            "text/plain": [
              "(4282, 26)"
            ]
          },
          "metadata": {},
          "execution_count": 583
        }
      ]
    },
    {
      "cell_type": "markdown",
      "source": [
        "### **Feature Enginering :**\n"
      ],
      "metadata": {
        "id": "pl2LQLu5Tstu"
      }
    },
    {
      "cell_type": "code",
      "source": [
        "# Iterate through the data set and check for each column what types it contains and their quantities.\n",
        "features , unique_values = ([],[])\n",
        "same_value_features = []\n",
        "for (col_name,col_value) in df.iteritems():\n",
        "    if (col_name != \"label\" and col_name != \"attack_type\"):\n",
        "        features.append(col_name)\n",
        "        unique_values.append(len(np.unique(col_value)))\n",
        "        if(unique_values[-1] == 1):\n",
        "          # add the columns that contains one value for each record in the dataset\n",
        "          same_value_features.append(col_name)\n",
        "\n",
        "counter = 0\n",
        "fig, ax = plt.subplots(figsize =(28, 9)) \n",
        "# Horizontal Bar Plot\n",
        "ax.barh(features, unique_values)\n",
        "# Add x, y gridlines\n",
        "ax.grid(b = True, color ='grey',linestyle ='-.', linewidth = 0.5,alpha = 0.2)\n",
        "# Show top values\n",
        "ax.invert_yaxis()\n",
        "# Add annotation to bars\n",
        "for i in ax.patches:\n",
        "    plt.text(i.get_width() + 15, i.get_y() + 0.5, str(round((i.get_width()), 2)),fontsize = 10, fontweight ='bold', color ='grey')\n",
        "    col_name = features[counter]\n",
        "    plt.text(i.get_width() + 100, i.get_y() + 0.5, df[str(col_name)].dtype ,fontsize = 11, color ='black')\n",
        "    counter = counter + 1\n",
        "\n",
        "# Show Plot\n",
        "plt.show()"
      ],
      "metadata": {
        "colab": {
          "base_uri": "https://localhost:8080/",
          "height": 412
        },
        "id": "CfWqy38XS9v2",
        "outputId": "d63aac77-b83e-4728-e8b6-e3a936ea89d9"
      },
      "execution_count": 584,
      "outputs": [
        {
          "output_type": "display_data",
          "data": {
            "text/plain": [
              "<Figure size 2016x648 with 1 Axes>"
            ],
            "image/png": "[encoded data removed]"
          },
          "metadata": {}
        }
      ]
    },
    {
      "cell_type": "markdown",
      "source": [
        "As you can see, there are five attributes that contain the same value for all records in the dataset:\n",
        "1. `Host ip` from the request header\n",
        "2. `HTTP Accept` from the request header\n",
        "3. `Connection type` from the request header\n",
        "4. `Sec-Fetch-User` fetch metadata from the request header\n",
        "5. `Request body` from the request header\n",
        "\n",
        "It's not useful for building the model because it doesn't provide information that can help distinguish one record from another. In this case, we will remove the features from the dataset."
      ],
      "metadata": {
        "id": "j2DwDNDTTnl2"
      }
    },
    {
      "cell_type": "code",
      "source": [
        "dataset = df.drop(same_value_features, axis = 1)\n",
        "dataset.head(4)"
      ],
      "metadata": {
        "colab": {
          "base_uri": "https://localhost:8080/",
          "height": 395
        },
        "id": "RxDlg11NBw32",
        "outputId": "32f9fb47-0b11-4bd2-ba51-ecaad303e579"
      },
      "execution_count": 585,
      "outputs": [
        {
          "output_type": "execute_result",
          "data": {
            "text/plain": [
              "                          request.headers.User-Agent  \\\n",
              "0  Mozilla/5.0 (X11; Linux i586; rv:31.0) Gecko/2...   \n",
              "1  Mozilla/5.0 (X11; OpenBSD amd64; rv:28.0) Geck...   \n",
              "2  Mozilla/5.0 (X11; Ubuntu; Linux x86_64; rv:24....   \n",
              "3  Mozilla/5.0 (Windows NT 6.1; rv:27.3) Gecko/20...   \n",
              "\n",
              "  request.headers.Accept-Encoding request.headers.Accept-Language  \\\n",
              "0               gzip, deflate, br                           de-CH   \n",
              "1               gzip, deflate, br                              de   \n",
              "2               gzip, deflate, br                              de   \n",
              "3               gzip, deflate, br                           de-CH   \n",
              "\n",
              "  request.headers.Sec-Fetch-Site request.headers.Sec-Fetch-Mode  \\\n",
              "0                           none                    same-origin   \n",
              "1                           none                    same-origin   \n",
              "2                           none                    same-origin   \n",
              "3                           none                    same-origin   \n",
              "\n",
              "  request.headers.Sec-Fetch-Dest  \\\n",
              "0                       document   \n",
              "1                       document   \n",
              "2                       document   \n",
              "3                       document   \n",
              "\n",
              "                          request.headers.Set-Cookie  \\\n",
              "0  ['ck=o_GpTr9HHJJuQyahzYzRI32s-1_JPvkhLtweRRmjP...   \n",
              "1  ['ck=UYrrg74Ph7dWrlCA9rgXy6qtYSwxuCZK_nBsCp-j5...   \n",
              "2  ['ck=wiMIulyT7VOEQKT-4D5ChZAjxiTdRXAYUaz_OQ3Rc...   \n",
              "3  ['ck=pQiHhJSsvZ9vw-yR8NmaTGKzqUBsn583t3Q6zWEoz...   \n",
              "\n",
              "            request.headers.Date request.method  \\\n",
              "0  Mon, 21 Nov 2022 18:12:16 GMT            GET   \n",
              "1  Mon, 21 Nov 2022 18:12:16 GMT            GET   \n",
              "2  Mon, 21 Nov 2022 18:12:16 GMT            GET   \n",
              "3  Mon, 21 Nov 2022 18:12:16 GMT            GET   \n",
              "\n",
              "                                         request.url response.status  \\\n",
              "0  http://127.0.0.1:5000/static/download_txt/../....          200 OK   \n",
              "1   http://127.0.0.1:5000/categories/check/name/2467   404 NOT FOUND   \n",
              "2                  http://127.0.0.1:5000/cookielogin          200 OK   \n",
              "3       http://127.0.0.1:5000/states/get/region/6117   404 NOT FOUND   \n",
              "\n",
              "  response.headers.Content-Type response.headers.Content-Length  \\\n",
              "0              application/json                              72   \n",
              "1              application/json                              41   \n",
              "2      text/html; charset=utf-8                             105   \n",
              "3              application/json                              30   \n",
              "\n",
              "   response.status_code                                      response.body  \\\n",
              "0                   200  {\"error\": \"File ../../../../../../../../window...   \n",
              "1                   404               {\"error\": \"Category name not found\"}   \n",
              "2                   200  <h1>Logged in as Cedric</h1><form method='POST...   \n",
              "3                   404                          {\"error\": \"Not a region\"}   \n",
              "\n",
              "                              request.headers.Cookie  \\\n",
              "0                                               None   \n",
              "1                                               None   \n",
              "2  username=gASVyQAAAAAAAACMCGJ1aWx0aW5zlIwEZXZhb...   \n",
              "3                                               None   \n",
              "\n",
              "  response.headers.Location request.headers.Content-Length  \\\n",
              "0                      None                           None   \n",
              "1                      None                           None   \n",
              "2                      None                           None   \n",
              "3                      None                           None   \n",
              "\n",
              "  response.headers.Set-Cookie          attack_type    label  \n",
              "0                        None  Directory Traversal  Malware  \n",
              "1                        None               Benign   Benign  \n",
              "2                        None     Cookie Injection  Malware  \n",
              "3                        None               Benign   Benign  "
            ],
            "text/html": [
              "\n",
              "  <div id=\"df-de2651c0-b35d-46ad-80ff-977dfc3cb10d\">\n",
              "    <div class=\"colab-df-container\">\n",
              "      <div>\n",
              "<style scoped>\n",
              "    .dataframe tbody tr th:only-of-type {\n",
              "        vertical-align: middle;\n",
              "    }\n",
              "\n",
              "    .dataframe tbody tr th {\n",
              "        vertical-align: top;\n",
              "    }\n",
              "\n",
              "    .dataframe thead th {\n",
              "        text-align: right;\n",
              "    }\n",
              "</style>\n",
              "<table border=\"1\" class=\"dataframe\">\n",
              "  <thead>\n",
              "    <tr style=\"text-align: right;\">\n",
              "      <th></th>\n",
              "      <th>request.headers.User-Agent</th>\n",
              "      <th>request.headers.Accept-Encoding</th>\n",
              "      <th>request.headers.Accept-Language</th>\n",
              "      <th>request.headers.Sec-Fetch-Site</th>\n",
              "      <th>request.headers.Sec-Fetch-Mode</th>\n",
              "      <th>request.headers.Sec-Fetch-Dest</th>\n",
              "      <th>request.headers.Set-Cookie</th>\n",
              "      <th>request.headers.Date</th>\n",
              "      <th>request.method</th>\n",
              "      <th>request.url</th>\n",
              "      <th>response.status</th>\n",
              "      <th>response.headers.Content-Type</th>\n",
              "      <th>response.headers.Content-Length</th>\n",
              "      <th>response.status_code</th>\n",
              "      <th>response.body</th>\n",
              "      <th>request.headers.Cookie</th>\n",
              "      <th>response.headers.Location</th>\n",
              "      <th>request.headers.Content-Length</th>\n",
              "      <th>response.headers.Set-Cookie</th>\n",
              "      <th>attack_type</th>\n",
              "      <th>label</th>\n",
              "    </tr>\n",
              "  </thead>\n",
              "  <tbody>\n",
              "    <tr>\n",
              "      <th>0</th>\n",
              "      <td>Mozilla/5.0 (X11; Linux i586; rv:31.0) Gecko/2...</td>\n",
              "      <td>gzip, deflate, br</td>\n",
              "      <td>de-CH</td>\n",
              "      <td>none</td>\n",
              "      <td>same-origin</td>\n",
              "      <td>document</td>\n",
              "      <td>['ck=o_GpTr9HHJJuQyahzYzRI32s-1_JPvkhLtweRRmjP...</td>\n",
              "      <td>Mon, 21 Nov 2022 18:12:16 GMT</td>\n",
              "      <td>GET</td>\n",
              "      <td>http://127.0.0.1:5000/static/download_txt/../....</td>\n",
              "      <td>200 OK</td>\n",
              "      <td>application/json</td>\n",
              "      <td>72</td>\n",
              "      <td>200</td>\n",
              "      <td>{\"error\": \"File ../../../../../../../../window...</td>\n",
              "      <td>None</td>\n",
              "      <td>None</td>\n",
              "      <td>None</td>\n",
              "      <td>None</td>\n",
              "      <td>Directory Traversal</td>\n",
              "      <td>Malware</td>\n",
              "    </tr>\n",
              "    <tr>\n",
              "      <th>1</th>\n",
              "      <td>Mozilla/5.0 (X11; OpenBSD amd64; rv:28.0) Geck...</td>\n",
              "      <td>gzip, deflate, br</td>\n",
              "      <td>de</td>\n",
              "      <td>none</td>\n",
              "      <td>same-origin</td>\n",
              "      <td>document</td>\n",
              "      <td>['ck=UYrrg74Ph7dWrlCA9rgXy6qtYSwxuCZK_nBsCp-j5...</td>\n",
              "      <td>Mon, 21 Nov 2022 18:12:16 GMT</td>\n",
              "      <td>GET</td>\n",
              "      <td>http://127.0.0.1:5000/categories/check/name/2467</td>\n",
              "      <td>404 NOT FOUND</td>\n",
              "      <td>application/json</td>\n",
              "      <td>41</td>\n",
              "      <td>404</td>\n",
              "      <td>{\"error\": \"Category name not found\"}</td>\n",
              "      <td>None</td>\n",
              "      <td>None</td>\n",
              "      <td>None</td>\n",
              "      <td>None</td>\n",
              "      <td>Benign</td>\n",
              "      <td>Benign</td>\n",
              "    </tr>\n",
              "    <tr>\n",
              "      <th>2</th>\n",
              "      <td>Mozilla/5.0 (X11; Ubuntu; Linux x86_64; rv:24....</td>\n",
              "      <td>gzip, deflate, br</td>\n",
              "      <td>de</td>\n",
              "      <td>none</td>\n",
              "      <td>same-origin</td>\n",
              "      <td>document</td>\n",
              "      <td>['ck=wiMIulyT7VOEQKT-4D5ChZAjxiTdRXAYUaz_OQ3Rc...</td>\n",
              "      <td>Mon, 21 Nov 2022 18:12:16 GMT</td>\n",
              "      <td>GET</td>\n",
              "      <td>http://127.0.0.1:5000/cookielogin</td>\n",
              "      <td>200 OK</td>\n",
              "      <td>text/html; charset=utf-8</td>\n",
              "      <td>105</td>\n",
              "      <td>200</td>\n",
              "      <td>&lt;h1&gt;Logged in as Cedric&lt;/h1&gt;&lt;form method='POST...</td>\n",
              "      <td>username=gASVyQAAAAAAAACMCGJ1aWx0aW5zlIwEZXZhb...</td>\n",
              "      <td>None</td>\n",
              "      <td>None</td>\n",
              "      <td>None</td>\n",
              "      <td>Cookie Injection</td>\n",
              "      <td>Malware</td>\n",
              "    </tr>\n",
              "    <tr>\n",
              "      <th>3</th>\n",
              "      <td>Mozilla/5.0 (Windows NT 6.1; rv:27.3) Gecko/20...</td>\n",
              "      <td>gzip, deflate, br</td>\n",
              "      <td>de-CH</td>\n",
              "      <td>none</td>\n",
              "      <td>same-origin</td>\n",
              "      <td>document</td>\n",
              "      <td>['ck=pQiHhJSsvZ9vw-yR8NmaTGKzqUBsn583t3Q6zWEoz...</td>\n",
              "      <td>Mon, 21 Nov 2022 18:12:16 GMT</td>\n",
              "      <td>GET</td>\n",
              "      <td>http://127.0.0.1:5000/states/get/region/6117</td>\n",
              "      <td>404 NOT FOUND</td>\n",
              "      <td>application/json</td>\n",
              "      <td>30</td>\n",
              "      <td>404</td>\n",
              "      <td>{\"error\": \"Not a region\"}</td>\n",
              "      <td>None</td>\n",
              "      <td>None</td>\n",
              "      <td>None</td>\n",
              "      <td>None</td>\n",
              "      <td>Benign</td>\n",
              "      <td>Benign</td>\n",
              "    </tr>\n",
              "  </tbody>\n",
              "</table>\n",
              "</div>\n",
              "      <button class=\"colab-df-convert\" onclick=\"convertToInteractive('df-de2651c0-b35d-46ad-80ff-977dfc3cb10d')\"\n",
              "              title=\"Convert this dataframe to an interactive table.\"\n",
              "              style=\"display:none;\">\n",
              "        \n",
              "  <svg xmlns=\"http://www.w3.org/2000/svg\" height=\"24px\"viewBox=\"0 0 24 24\"\n",
              "       width=\"24px\">\n",
              "    <path d=\"M0 0h24v24H0V0z\" fill=\"none\"/>\n",
              "    <path d=\"M18.56 5.44l.94 2.06.94-2.06 2.06-.94-2.06-.94-.94-2.06-.94 2.06-2.06.94zm-11 1L8.5 8.5l.94-2.06 2.06-.94-2.06-.94L8.5 2.5l-.94 2.06-2.06.94zm10 10l.94 2.06.94-2.06 2.06-.94-2.06-.94-.94-2.06-.94 2.06-2.06.94z\"/><path d=\"M17.41 7.96l-1.37-1.37c-.4-.4-.92-.59-1.43-.59-.52 0-1.04.2-1.43.59L10.3 9.45l-7.72 7.72c-.78.78-.78 2.05 0 2.83L4 21.41c.39.39.9.59 1.41.59.51 0 1.02-.2 1.41-.59l7.78-7.78 2.81-2.81c.8-.78.8-2.07 0-2.86zM5.41 20L4 18.59l7.72-7.72 1.47 1.35L5.41 20z\"/>\n",
              "  </svg>\n",
              "      </button>\n",
              "      \n",
              "  <style>\n",
              "    .colab-df-container {\n",
              "      display:flex;\n",
              "      flex-wrap:wrap;\n",
              "      gap: 12px;\n",
              "    }\n",
              "\n",
              "    .colab-df-convert {\n",
              "      background-color: #E8F0FE;\n",
              "      border: none;\n",
              "      border-radius: 50%;\n",
              "      cursor: pointer;\n",
              "      display: none;\n",
              "      fill: #1967D2;\n",
              "      height: 32px;\n",
              "      padding: 0 0 0 0;\n",
              "      width: 32px;\n",
              "    }\n",
              "\n",
              "    .colab-df-convert:hover {\n",
              "      background-color: #E2EBFA;\n",
              "      box-shadow: 0px 1px 2px rgba(60, 64, 67, 0.3), 0px 1px 3px 1px rgba(60, 64, 67, 0.15);\n",
              "      fill: #174EA6;\n",
              "    }\n",
              "\n",
              "    [theme=dark] .colab-df-convert {\n",
              "      background-color: #3B4455;\n",
              "      fill: #D2E3FC;\n",
              "    }\n",
              "\n",
              "    [theme=dark] .colab-df-convert:hover {\n",
              "      background-color: #434B5C;\n",
              "      box-shadow: 0px 1px 3px 1px rgba(0, 0, 0, 0.15);\n",
              "      filter: drop-shadow(0px 1px 2px rgba(0, 0, 0, 0.3));\n",
              "      fill: #FFFFFF;\n",
              "    }\n",
              "  </style>\n",
              "\n",
              "      <script>\n",
              "        const buttonEl =\n",
              "          document.querySelector('#df-de2651c0-b35d-46ad-80ff-977dfc3cb10d button.colab-df-convert');\n",
              "        buttonEl.style.display =\n",
              "          google.colab.kernel.accessAllowed ? 'block' : 'none';\n",
              "\n",
              "        async function convertToInteractive(key) {\n",
              "          const element = document.querySelector('#df-de2651c0-b35d-46ad-80ff-977dfc3cb10d');\n",
              "          const dataTable =\n",
              "            await google.colab.kernel.invokeFunction('convertToInteractive',\n",
              "                                                     [key], {});\n",
              "          if (!dataTable) return;\n",
              "\n",
              "          const docLinkHtml = 'Like what you see? Visit the ' +\n",
              "            '<a target=\"_blank\" href=https://colab.research.google.com/notebooks/data_table.ipynb>data table notebook</a>'\n",
              "            + ' to learn more about interactive tables.';\n",
              "          element.innerHTML = '';\n",
              "          dataTable['output_type'] = 'display_data';\n",
              "          await google.colab.output.renderOutput(dataTable, element);\n",
              "          const docLink = document.createElement('div');\n",
              "          docLink.innerHTML = docLinkHtml;\n",
              "          element.appendChild(docLink);\n",
              "        }\n",
              "      </script>\n",
              "    </div>\n",
              "  </div>\n",
              "  "
            ]
          },
          "metadata": {},
          "execution_count": 585
        }
      ]
    },
    {
      "cell_type": "code",
      "source": [
        "from urllib.parse import urlparse\n",
        "import gensim\n",
        "\n",
        "def parsing_url_dataset(dataframe):\n",
        "  urls = dataframe['request.url'].tolist()\n",
        "  columns = [\"scheme\",\"netloc\",\"path\",\"params\",\"query\",\"fragment\"]\n",
        "  url_dataset = []\n",
        "\n",
        "  for url in urls:\n",
        "    parsed_url = []\n",
        "    url_p = urlparse(url)\n",
        "    for index in range(len(url_p)):\n",
        "      parsed_url.append(url_p[index])\n",
        "\n",
        "    url_dataset.append(parsed_url)\n",
        "\n",
        "  url_dataset = pd.DataFrame(url_dataset, columns = columns,dtype = object) \n",
        "  url_dataset.drop(['params','fragment'],axis = 1,inplace = True)\n",
        "\n",
        "  path_split = url_dataset['path'].str.split('/', expand=True)\n",
        "  query_split = url_dataset['query'].str.split('=', expand=True)\n",
        "  url_dataset.drop(['path','query'],axis = 1, inplace = True)\n",
        "  url_dataset = url_dataset.merge(path_split,left_index=True, right_index=True)\n",
        "  url_dataset = url_dataset.merge(query_split,left_index=True, right_index=True)\n",
        "  url_dataset = url_dataset.fillna(0)\n",
        "\n",
        "  url_tokens = []\n",
        "  for tokens in url_dataset.to_numpy():\n",
        "    tokens_withoutzero = list(filter(lambda num: num != 0, tokens))\n",
        "    url_tokens.append(tokens_withoutzero)\n",
        "\n",
        "  max_length = max(len(x) for x in url_tokens)\n",
        "  print(max_length)\n",
        "  \n",
        "\n",
        "  for url_token in url_tokens:  \n",
        "    while len(url_token) < max_length:\n",
        "        url_token.append(\"<PAD>\")\n",
        "\n",
        "\n",
        "  model = gensim.models.Word2Vec(url_tokens, size= 32, window = 5, min_count = 1, workers= 4)\n",
        "  new_url_vectors = [model.wv[tokens] for tokens in url_tokens]\n",
        "  new_url_vectors = np.array(new_url_vectors)\n",
        "\n",
        "  new_url_vectors = new_url_vectors.reshape(dataframe.shape[0], 544)\n",
        "\n",
        "  columns = []\n",
        "  col_name = \"url_embedding \"\n",
        "  for i in range (len(new_url_vectors[0])):\n",
        "    columns.append(col_name + str(i))\n",
        "\n",
        "  embeddings = pd.DataFrame(new_url_vectors, columns = columns)\n",
        "  return embeddings"
      ],
      "metadata": {
        "id": "t3iyrWU_qedH"
      },
      "execution_count": 605,
      "outputs": []
    },
    {
      "cell_type": "code",
      "source": [
        "# embeddings = parsing_url_dataset(urls)"
      ],
      "metadata": {
        "id": "s_mlnA7EQ1X5"
      },
      "execution_count": 556,
      "outputs": []
    },
    {
      "cell_type": "code",
      "source": [
        "def dataset_arrange(dataframe , embeddings):\n",
        "  first_n_column  = dataframe.iloc[: , :9]\n",
        "  second_n_column = dataframe.iloc[: ,10:]\n",
        "  first_n_column = first_n_column.join(embeddings)\n",
        "  dataframe = first_n_column.join(second_n_column)\n",
        "\n",
        "  return dataframe"
      ],
      "metadata": {
        "id": "NasHSjHdsPPq"
      },
      "execution_count": 587,
      "outputs": []
    },
    {
      "cell_type": "code",
      "source": [
        "# dataset  = dataset_arrange(dataset , embeddings)"
      ],
      "metadata": {
        "id": "_ApafDkuofjB"
      },
      "execution_count": 558,
      "outputs": []
    },
    {
      "cell_type": "code",
      "source": [
        "dataset.shape"
      ],
      "metadata": {
        "colab": {
          "base_uri": "https://localhost:8080/"
        },
        "id": "gH8mhAUfuRip",
        "outputId": "ff0a9901-90b9-4770-9735-c3f57ca86c8f"
      },
      "execution_count": 588,
      "outputs": [
        {
          "output_type": "execute_result",
          "data": {
            "text/plain": [
              "(4282, 21)"
            ]
          },
          "metadata": {},
          "execution_count": 588
        }
      ]
    },
    {
      "cell_type": "markdown",
      "source": [
        "The `response.headers.Content-Length` feature contains multiple string that represents the length of the content that send from the host, therfore we will convert them to numeric values."
      ],
      "metadata": {
        "id": "mUa46oTWeDmP"
      }
    },
    {
      "cell_type": "code",
      "source": [
        "def content_length_numeric(dataframe):\n",
        "  dataframe['response.headers.Content-Length'] = pd.to_numeric(dataframe['response.headers.Content-Length'])\n",
        "  return dataframe"
      ],
      "metadata": {
        "id": "5R3U6Citdyj4"
      },
      "execution_count": 589,
      "outputs": []
    },
    {
      "cell_type": "markdown",
      "source": [
        "There are some features that contain in their content two different types of information, one with a URL address and the other without. We will try to turn these columns into numeric values by setting 1 for a record that contains a URL in the same feature, and 0 otherwise."
      ],
      "metadata": {
        "id": "UEIUHAj4FzVF"
      }
    },
    {
      "cell_type": "code",
      "source": [
        "def contain_url(dataframe):\n",
        "  columns = ['request.headers.Accept-Encoding','request.headers.Sec-Fetch-Dest','request.headers.Sec-Fetch-Site']\n",
        "\n",
        "\n",
        "  for col_name in columns:\n",
        "      dataframe[col_name] = np.where(dataframe[col_name].str.contains(\"jndi\"), 1, 0)\n",
        "\n",
        "  return dataframe"
      ],
      "metadata": {
        "id": "acMmx5M1unB5"
      },
      "execution_count": 590,
      "outputs": []
    },
    {
      "cell_type": "markdown",
      "source": [
        "### **Dealing with missing values :**\n"
      ],
      "metadata": {
        "id": "Wr1VpKXTOTkm"
      }
    },
    {
      "cell_type": "code",
      "source": [
        "means = df.isnull().mean()\n",
        "percentages = means[means > 0].round(4).mul(100).sort_values(ascending=False)\n",
        "percentages"
      ],
      "metadata": {
        "colab": {
          "base_uri": "https://localhost:8080/"
        },
        "id": "HDeraf0D9Le3",
        "outputId": "da551052-dde7-41c5-ad52-54813fa55720"
      },
      "execution_count": 591,
      "outputs": [
        {
          "output_type": "execute_result",
          "data": {
            "text/plain": [
              "Series([], dtype: float64)"
            ]
          },
          "metadata": {},
          "execution_count": 591
        }
      ]
    },
    {
      "cell_type": "markdown",
      "source": [
        "> ### Dealing with categorical features"
      ],
      "metadata": {
        "id": "IA_6J8JxdS2V"
      }
    },
    {
      "cell_type": "code",
      "source": [
        "# Setting features for further feature extraction by choosing columns\n",
        "# Some will be \"simply\" encoded via label encoding and others with HashingVectorizer\n",
        "from sklearn.feature_extraction.text import CountVectorizer, HashingVectorizer\n",
        "from sklearn.preprocessing import LabelEncoder\n",
        "from sklearn.model_selection import train_test_split\n",
        "from sklearn.metrics import confusion_matrix, classification_report\n",
        "from collections import Counter\n",
        "import xgboost as xgb"
      ],
      "metadata": {
        "id": "TsCtHc8ItWhS"
      },
      "execution_count": 592,
      "outputs": []
    },
    {
      "cell_type": "code",
      "execution_count": 593,
      "metadata": {
        "id": "YptHJ3P-nj3p"
      },
      "outputs": [],
      "source": [
        "# Setting features for further feature extraction by choosing columns\n",
        "# Some will be \"simply\" encoded via label encoding and others with HashingVectorizer\n",
        "\n",
        "# On these headers we will run a \"simple\" BOW\n",
        "SIMPLE_HEADERS = [\n",
        "                'request.headers.Accept-Language',\n",
        "                'response.headers.Content-Type',\n",
        "                'request.headers.Sec-Fetch-Mode',\n",
        "                ]\n",
        "\n",
        "# On these headers we will run HashingVectorizer\n",
        "COMPLEX_HEADERS = ['request.headers.User-Agent',\n",
        "                    'request.headers.Set-Cookie',\n",
        "                    'response.body',\n",
        "                    'response.headers.Location',\n",
        "                    'request.headers.Cookie',\n",
        "                    ]\n",
        "\n",
        "COLUMNS_TO_REMOVE = ['request.headers.Date', 'request.method','response.status','response.status_code','response.headers.Set-Cookie','request.headers.Content-Length']\n",
        "\n",
        "# This is our main preprocessing function that will iterate over all of the chosen \n",
        "# columns and run some feature extraction models\n",
        "def vectorize_df(df):\n",
        "    embeddings = parsing_url_dataset(df)\n",
        "    df = dataset_arrange(df , embeddings)\n",
        "    df = content_length_numeric(df) ## change the response content length to numeric data\n",
        "    df = contain_url(df)\n",
        "\n",
        "    # df = one_hot_content_type(df)\n",
        "\n",
        "    le = LabelEncoder()\n",
        "    h_vec = HashingVectorizer(n_features=4)\n",
        "\n",
        "    # Run LabelEncoder on the chosen features\n",
        "    for column in SIMPLE_HEADERS: \n",
        "        df[column] = le.fit_transform(df[column])\n",
        "    \n",
        "    # Run HashingVectorizer on the chosen features\n",
        "    for column in COMPLEX_HEADERS: \n",
        "        newHVec = h_vec.fit_transform(df[column])\n",
        "        df[column] = newHVec.todense()\n",
        "\n",
        "    # Remove some columns that may be needed.. (Or not, you decide)\n",
        "    for column in COLUMNS_TO_REMOVE:\n",
        "        df.drop(column, axis=1, inplace=True)\n",
        "    return df"
      ]
    },
    {
      "cell_type": "code",
      "source": [
        "df = vectorize_df(dataset)"
      ],
      "metadata": {
        "id": "0zIQP2GEXsPI"
      },
      "execution_count": 594,
      "outputs": []
    },
    {
      "cell_type": "code",
      "source": [
        "# from sklearn.feature_selection import chi2\n",
        "# from sklearn.feature_selection import SelectKBest\n",
        "\n",
        "# X = dataset.drop(['label','attack_type'],axis=1)\n",
        "# y = dataset['label']\n",
        "# X = (X-X.min())/(X.max()-X.min())\n",
        "\n",
        "# # k tells k top features to be selected\n",
        "# # Score function Chi2 tells the feature to be selected using Chi Square\n",
        "# test = SelectKBest(score_func=chi2, k= 200)\n",
        "# fit = test.fit(X, y)"
      ],
      "metadata": {
        "id": "w2B1NdvIZ4rv"
      },
      "execution_count": null,
      "outputs": []
    },
    {
      "cell_type": "code",
      "source": [
        "# delete_features = pd.DataFrame({'columns': X.columns, 'Kept': test.get_support()})\n",
        "# delete_features = delete_features[(delete_features['Kept'] == False)]['columns'].to_list()\n",
        "# df.drop(delete_features , axis = 1 , inplace = True)"
      ],
      "metadata": {
        "id": "YftbCtDahQEg"
      },
      "execution_count": null,
      "outputs": []
    },
    {
      "cell_type": "code",
      "execution_count": null,
      "metadata": {
        "id": "tBJ-EWb-nj3q"
      },
      "outputs": [],
      "source": [
        "# Memory check (For large datasets sometimes the dataframe will exceed the computers resources)\n",
        "df.info(memory_usage=\"deep\")"
      ]
    },
    {
      "cell_type": "code",
      "execution_count": null,
      "metadata": {
        "id": "FeoVlAgdnj3r"
      },
      "outputs": [],
      "source": [
        "# Choose the right features\n",
        "# In our example code we choose all the columns as our feature this can be the right or wrong way to approach the model, you choose.\n",
        "features_list = df.columns.to_list()\n",
        "features_list.remove('label')\n",
        "features_list.remove('attack_type')\n",
        "\n",
        "print(features_list)\n",
        "\n",
        "# Recheck all datatype before training to see we don't have any objects in our features\n",
        "# In this example our model must get features containing only numbers so we recheck to see if we missed anything during preprocessing\n",
        "df.dtypes"
      ]
    },
    {
      "cell_type": "markdown",
      "metadata": {
        "id": "2WOKVzq_nj3s"
      },
      "source": [
        "## Train test split"
      ]
    },
    {
      "cell_type": "code",
      "execution_count": 597,
      "metadata": {
        "id": "9LvNO9s1nj3s",
        "outputId": "857d5c96-9987-448a-edcd-64c791bb4155",
        "colab": {
          "base_uri": "https://localhost:8080/"
        }
      },
      "outputs": [
        {
          "output_type": "stream",
          "name": "stdout",
          "text": [
            "(3526, 556) (3526,)\n",
            "(756, 556) (756,)\n"
          ]
        },
        {
          "output_type": "execute_result",
          "data": {
            "text/plain": [
              "Counter({'Malware': 2264, 'Benign': 2018})"
            ]
          },
          "metadata": {},
          "execution_count": 597
        }
      ],
      "source": [
        "# Data train and test split preparations. Here we will insert our feature list and label list.\n",
        "# Afterwards the data will be trained and fitted on the amazing XGBoost model\n",
        "# X_Train and y_Train will be used for training\n",
        "# X_test and y_test.T will be used for over fitting checking and overall score testing\n",
        "\n",
        "# We convert the feature list to a numpy array, this is required for the model fitting\n",
        "X = df[features_list].to_numpy()\n",
        "\n",
        "# This column is the desired prediction we will train our model on\n",
        "y = np.stack(df[test_type])\n",
        "\n",
        "# We split the dataset to train and test according to the required ration\n",
        "# Do not change the test_size -> you can change anything else\n",
        "X_train, X_test, y_train, y_test = train_test_split(X, y, test_size=0.1765, random_state=42, stratify=y)\n",
        "\n",
        "# We print the resulted datasets and count the difference \n",
        "print(X_train.shape, y_train.shape)\n",
        "print(X_test.shape, y_test.shape)\n",
        "counter = Counter(y)\n",
        "counter"
      ]
    },
    {
      "cell_type": "markdown",
      "metadata": {
        "id": "KRAxZcjYnj3t"
      },
      "source": [
        "## Model choosing and fitting"
      ]
    },
    {
      "cell_type": "code",
      "execution_count": 598,
      "metadata": {
        "id": "kqWp03Iwnj3t",
        "outputId": "64a7f601-3d64-4f6d-c94f-a074b912501a",
        "colab": {
          "base_uri": "https://localhost:8080/"
        }
      },
      "outputs": [
        {
          "output_type": "stream",
          "name": "stdout",
          "text": [
            "[('Benign', 1662), ('Malware', 1864)]\n"
          ]
        }
      ],
      "source": [
        "# We choose our model of choice and set it's hyper parameters you can change anything\n",
        "clf = xgb.XGBClassifier(objective=\"binary:logistic\", random_state=45)\n",
        "clf.fit(X_train, y_train)\n",
        "\n",
        "# Check data balance and variety\n",
        "print(sorted(Counter(y_train).items()))"
      ]
    },
    {
      "cell_type": "markdown",
      "metadata": {
        "id": "mrG5psvbnj3t"
      },
      "source": [
        "## Result printout"
      ]
    },
    {
      "cell_type": "code",
      "execution_count": 599,
      "metadata": {
        "id": "7hfzRIhFnj3u",
        "outputId": "38c92f4c-3679-4257-fd39-94c602f568d8",
        "colab": {
          "base_uri": "https://localhost:8080/",
          "height": 641
        }
      },
      "outputs": [
        {
          "output_type": "stream",
          "name": "stdout",
          "text": [
            "              precision    recall  f1-score   support\n",
            "\n",
            "      Benign    0.94681   1.00000   0.97268       356\n",
            "     Malware    1.00000   0.95000   0.97436       400\n",
            "\n",
            "    accuracy                        0.97354       756\n",
            "   macro avg    0.97340   0.97500   0.97352       756\n",
            "weighted avg    0.97495   0.97354   0.97357       756\n",
            "\n"
          ]
        },
        {
          "output_type": "display_data",
          "data": {
            "text/plain": [
              "<Figure size 1080x576 with 2 Axes>"
            ],
            "image/png": "[encoded data removed]"
          },
          "metadata": {}
        }
      ],
      "source": [
        "# We print our results\n",
        "sns.set(rc={'figure.figsize':(15,8)})\n",
        "predictions = clf.predict(X_test)\n",
        "true_labels = y_test\n",
        "cf_matrix = confusion_matrix(true_labels, predictions)\n",
        "clf_report = classification_report(true_labels, predictions, digits=5)\n",
        "heatmap = sns.heatmap(cf_matrix, annot=True, cmap='Blues', fmt='g', \n",
        "                      xticklabels=np.unique(true_labels), \n",
        "                      yticklabels=np.unique(true_labels)) \n",
        "\n",
        "# The heatmap is cool but this is the most important result\n",
        "print(clf_report)"
      ]
    },
    {
      "cell_type": "markdown",
      "metadata": {
        "id": "Z-izNF_xnj3u"
      },
      "source": [
        "# Test"
      ]
    },
    {
      "cell_type": "code",
      "execution_count": null,
      "metadata": {
        "id": "IuvHz-TKnj3v"
      },
      "outputs": [],
      "source": [
        "# Now it's your turn, use the model you have just created :)\n",
        "\n",
        "# Read the valuation json, preprocess it and run your model \n",
        "with open(\"/content/drive/MyDrive/CiscoChallenge/Data/dataset_1_val.json\") as file:\n",
        "    raw_ds = json.load(file)\n",
        "test_df = pd.json_normalize(raw_ds, max_level=2)\n",
        "\n",
        "# Preprocess the validation dataset, remember that here you don't have the labels\n",
        "test_df.drop(same_value_features ,axis=1, inplace=True )\n",
        "print(test_df.shape)\n",
        "for column in test_df.columns[test_df.isna().any()].tolist():\n",
        "    test_df[column] = test_df[column].fillna('None')\n",
        "\n",
        "test_df = vectorize_df(test_df)\n",
        "# Predict with your model\n",
        "X = test_df[features_list].to_numpy()\n",
        "predictions = clf.predict(X)"
      ]
    },
    {
      "cell_type": "code",
      "source": [
        "malware = 0\n",
        "benign = 0\n",
        "for p in predictions:\n",
        "  if p == \"Malware\":\n",
        "     malware = malware + 1\n",
        "  else:\n",
        "     benign = benign + 1"
      ],
      "metadata": {
        "id": "pxussZ4IJLrK"
      },
      "execution_count": 613,
      "outputs": []
    },
    {
      "cell_type": "code",
      "source": [
        "print(malware)\n",
        "print(benign)"
      ],
      "metadata": {
        "colab": {
          "base_uri": "https://localhost:8080/"
        },
        "id": "X1_Oxsu3JbVy",
        "outputId": "50a4b950-c39f-4fbb-dd65-73c7ff75d229"
      },
      "execution_count": 614,
      "outputs": [
        {
          "output_type": "stream",
          "name": "stdout",
          "text": [
            "71\n",
            "684\n"
          ]
        }
      ]
    },
    {
      "cell_type": "markdown",
      "metadata": {
        "id": "B6un2EOBnj3v"
      },
      "source": [
        "# Save your predictions"
      ]
    },
    {
      "cell_type": "code",
      "execution_count": 615,
      "metadata": {
        "id": "xHgdaQktnj3v"
      },
      "outputs": [],
      "source": [
        "# Save your preditions\n",
        "enc = LabelEncoder()\n",
        "np.savetxt(f'/content/drive/MyDrive/CiscoChallenge/dataset_1_{test_type}_result.txt', enc.fit_transform(predictions), fmt='%2d')"
      ]
    }
  ],
  "metadata": {
    "kernelspec": {
      "display_name": "Python 3",
      "language": "python",
      "name": "python3"
    },
    "language_info": {
      "codemirror_mode": {
        "name": "ipython",
        "version": 3
      },
      "file_extension": ".py",
      "mimetype": "text/x-python",
      "name": "python",
      "nbconvert_exporter": "python",
      "pygments_lexer": "ipython3",
      "version": "3.11.0 (main, Oct 24 2022, 18:26:48) [MSC v.1933 64 bit (AMD64)]"
    },
    "orig_nbformat": 4,
    "vscode": {
      "interpreter": {
        "hash": "dca27059b152db865dddc081daf6ee342367340671c15704bb42fb4fcf7d14fd"
      }
    },
    "colab": {
      "provenance": [],
      "include_colab_link": true
    }
  },
  "nbformat": 4,
  "nbformat_minor": 0
}