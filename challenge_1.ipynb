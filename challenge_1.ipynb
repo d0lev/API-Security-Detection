{
  "cells": [
    {
      "cell_type": "markdown",
      "metadata": {
        "id": "view-in-github",
        "colab_type": "text"
      },
      "source": [
        "<a href=\"https://colab.research.google.com/github/d0lev/API-Security-Detection/blob/main/challenge_1.ipynb\" target=\"_parent\"><img src=\"https://colab.research.google.com/assets/colab-badge.svg\" alt=\"Open In Colab\"/></a>"
      ]
    },
    {
      "cell_type": "markdown",
      "metadata": {
        "id": "ji1YusWZnj3i"
      },
      "source": [
        "# Cisco - Ariel University API Security Detection Challenge 2023\n",
        "### Imports and global settings"
      ]
    },
    {
      "cell_type": "code",
      "source": [
        "from google.colab import drive\n",
        "drive.mount('/content/drive')"
      ],
      "metadata": {
        "id": "1NwHJKXYntB-",
        "colab": {
          "base_uri": "https://localhost:8080/"
        },
        "outputId": "2e9c3be7-32b3-4f2c-938c-d405b9ea21f9"
      },
      "execution_count": 1,
      "outputs": [
        {
          "output_type": "stream",
          "name": "stdout",
          "text": [
            "Drive already mounted at /content/drive; to attempt to forcibly remount, call drive.mount(\"/content/drive\", force_remount=True).\n"
          ]
        }
      ]
    },
    {
      "cell_type": "code",
      "source": [
        "# Imports, settings and first dataset view\n",
        "import pandas as pd\n",
        "import seaborn as sns\n",
        "import numpy as np\n",
        "import json\n",
        "import matplotlib.pyplot as plt\n",
        "import matplotlib as mpl\n",
        "import seaborn as sns"
      ],
      "metadata": {
        "id": "y3yqWnwHoE-b"
      },
      "execution_count": 2,
      "outputs": []
    },
    {
      "cell_type": "code",
      "execution_count": 3,
      "metadata": {
        "id": "V9nGWcAXnj3l"
      },
      "outputs": [],
      "source": [
        "# Set pandas to show all columns when you print a dataframe\n",
        "pd.set_option('display.max_columns', None)\n",
        "\n",
        "# Global setting here you choose the dataset number and classification type for the model\n",
        "dataset_path = \"/content/drive/MyDrive/CiscoChallenge/Data/dataset_1_train.json\";\n",
        "test_type = 'label' # Options are ['label', 'attack_type']\n",
        "\n",
        "# Read the json and read it to a pandas dataframe object, you can change these settings\n",
        "with open(dataset_path) as file:\n",
        "    raw_ds = json.load(file)\n",
        "df = pd.json_normalize(raw_ds, max_level=2)"
      ]
    },
    {
      "cell_type": "markdown",
      "metadata": {
        "id": "cijdHMnjnj3n"
      },
      "source": [
        "# **Preprocessing**\n",
        "\n",
        "---\n",
        "At this step we will engineer the various features in the data set,  It involves transforming data to forms that better relate to the underlying target to be learned. \n",
        "In the data set, there are various attacks on the API, for this purpose, we will create a binary column that will describe whether or not any attack was carried out in each record"
      ]
    },
    {
      "cell_type": "code",
      "execution_count": 4,
      "metadata": {
        "id": "g0D-_6b8nj3o"
      },
      "outputs": [],
      "source": [
        "# Fill the black attack tag lines with \"Benign\" string\n",
        "df['request.Attack_Tag'] = df['request.Attack_Tag'].fillna('Benign')\n",
        "df['attack_type'] = df['request.Attack_Tag']\n",
        "\n",
        "for column in df.columns[df.isna().any()].tolist():\n",
        "    df[column] = df[column].fillna('None')\n",
        "\n",
        "# Any entry that contains a particular attack will be labeled malware.\n",
        "def categorize(row):  \n",
        "    if row['request.Attack_Tag'] == 'Benign': \n",
        "        return 'Benign'\n",
        "    return 'Malware'\n",
        "\n",
        "df['label'] = df.apply(lambda row: categorize(row), axis=1)\n",
        "\n",
        "# After finishing the arrangements we delete the irrelevant column\n",
        "df.drop('request.Attack_Tag', axis=1, inplace=True)"
      ]
    },
    {
      "cell_type": "code",
      "source": [
        "df.head(1)"
      ],
      "metadata": {
        "colab": {
          "base_uri": "https://localhost:8080/",
          "height": 197
        },
        "id": "OgXnefTq4M0K",
        "outputId": "3f2785b8-8bd6-4803-89a3-f173cc669558"
      },
      "execution_count": 5,
      "outputs": [
        {
          "output_type": "execute_result",
          "data": {
            "text/plain": [
              "  request.headers.Host                         request.headers.User-Agent  \\\n",
              "0       127.0.0.1:5000  Mozilla/5.0 (X11; Linux i586; rv:31.0) Gecko/2...   \n",
              "\n",
              "  request.headers.Accept-Encoding request.headers.Accept  \\\n",
              "0               gzip, deflate, br                    */*   \n",
              "\n",
              "  request.headers.Connection request.headers.Accept-Language  \\\n",
              "0                 keep-alive                           de-CH   \n",
              "\n",
              "  request.headers.Sec-Fetch-Site request.headers.Sec-Fetch-Mode  \\\n",
              "0                           none                    same-origin   \n",
              "\n",
              "  request.headers.Sec-Fetch-User request.headers.Sec-Fetch-Dest  \\\n",
              "0                             ?1                       document   \n",
              "\n",
              "                          request.headers.Set-Cookie  \\\n",
              "0  ['ck=o_GpTr9HHJJuQyahzYzRI32s-1_JPvkhLtweRRmjP...   \n",
              "\n",
              "            request.headers.Date request.method  \\\n",
              "0  Mon, 21 Nov 2022 18:12:16 GMT            GET   \n",
              "\n",
              "                                         request.url request.body  \\\n",
              "0  http://127.0.0.1:5000/static/download_txt/../....                \n",
              "\n",
              "  response.status response.headers.Content-Type  \\\n",
              "0          200 OK              application/json   \n",
              "\n",
              "  response.headers.Content-Length  response.status_code  \\\n",
              "0                              72                   200   \n",
              "\n",
              "                                       response.body request.headers.Cookie  \\\n",
              "0  {\"error\": \"File ../../../../../../../../window...                   None   \n",
              "\n",
              "  response.headers.Location request.headers.Content-Length  \\\n",
              "0                      None                           None   \n",
              "\n",
              "  response.headers.Set-Cookie          attack_type    label  \n",
              "0                        None  Directory Traversal  Malware  "
            ],
            "text/html": [
              "\n",
              "  <div id=\"df-5afe2718-bd7f-4247-83ba-9f5f62c33be1\">\n",
              "    <div class=\"colab-df-container\">\n",
              "      <div>\n",
              "<style scoped>\n",
              "    .dataframe tbody tr th:only-of-type {\n",
              "        vertical-align: middle;\n",
              "    }\n",
              "\n",
              "    .dataframe tbody tr th {\n",
              "        vertical-align: top;\n",
              "    }\n",
              "\n",
              "    .dataframe thead th {\n",
              "        text-align: right;\n",
              "    }\n",
              "</style>\n",
              "<table border=\"1\" class=\"dataframe\">\n",
              "  <thead>\n",
              "    <tr style=\"text-align: right;\">\n",
              "      <th></th>\n",
              "      <th>request.headers.Host</th>\n",
              "      <th>request.headers.User-Agent</th>\n",
              "      <th>request.headers.Accept-Encoding</th>\n",
              "      <th>request.headers.Accept</th>\n",
              "      <th>request.headers.Connection</th>\n",
              "      <th>request.headers.Accept-Language</th>\n",
              "      <th>request.headers.Sec-Fetch-Site</th>\n",
              "      <th>request.headers.Sec-Fetch-Mode</th>\n",
              "      <th>request.headers.Sec-Fetch-User</th>\n",
              "      <th>request.headers.Sec-Fetch-Dest</th>\n",
              "      <th>request.headers.Set-Cookie</th>\n",
              "      <th>request.headers.Date</th>\n",
              "      <th>request.method</th>\n",
              "      <th>request.url</th>\n",
              "      <th>request.body</th>\n",
              "      <th>response.status</th>\n",
              "      <th>response.headers.Content-Type</th>\n",
              "      <th>response.headers.Content-Length</th>\n",
              "      <th>response.status_code</th>\n",
              "      <th>response.body</th>\n",
              "      <th>request.headers.Cookie</th>\n",
              "      <th>response.headers.Location</th>\n",
              "      <th>request.headers.Content-Length</th>\n",
              "      <th>response.headers.Set-Cookie</th>\n",
              "      <th>attack_type</th>\n",
              "      <th>label</th>\n",
              "    </tr>\n",
              "  </thead>\n",
              "  <tbody>\n",
              "    <tr>\n",
              "      <th>0</th>\n",
              "      <td>127.0.0.1:5000</td>\n",
              "      <td>Mozilla/5.0 (X11; Linux i586; rv:31.0) Gecko/2...</td>\n",
              "      <td>gzip, deflate, br</td>\n",
              "      <td>*/*</td>\n",
              "      <td>keep-alive</td>\n",
              "      <td>de-CH</td>\n",
              "      <td>none</td>\n",
              "      <td>same-origin</td>\n",
              "      <td>?1</td>\n",
              "      <td>document</td>\n",
              "      <td>['ck=o_GpTr9HHJJuQyahzYzRI32s-1_JPvkhLtweRRmjP...</td>\n",
              "      <td>Mon, 21 Nov 2022 18:12:16 GMT</td>\n",
              "      <td>GET</td>\n",
              "      <td>http://127.0.0.1:5000/static/download_txt/../....</td>\n",
              "      <td></td>\n",
              "      <td>200 OK</td>\n",
              "      <td>application/json</td>\n",
              "      <td>72</td>\n",
              "      <td>200</td>\n",
              "      <td>{\"error\": \"File ../../../../../../../../window...</td>\n",
              "      <td>None</td>\n",
              "      <td>None</td>\n",
              "      <td>None</td>\n",
              "      <td>None</td>\n",
              "      <td>Directory Traversal</td>\n",
              "      <td>Malware</td>\n",
              "    </tr>\n",
              "  </tbody>\n",
              "</table>\n",
              "</div>\n",
              "      <button class=\"colab-df-convert\" onclick=\"convertToInteractive('df-5afe2718-bd7f-4247-83ba-9f5f62c33be1')\"\n",
              "              title=\"Convert this dataframe to an interactive table.\"\n",
              "              style=\"display:none;\">\n",
              "        \n",
              "  <svg xmlns=\"http://www.w3.org/2000/svg\" height=\"24px\"viewBox=\"0 0 24 24\"\n",
              "       width=\"24px\">\n",
              "    <path d=\"M0 0h24v24H0V0z\" fill=\"none\"/>\n",
              "    <path d=\"M18.56 5.44l.94 2.06.94-2.06 2.06-.94-2.06-.94-.94-2.06-.94 2.06-2.06.94zm-11 1L8.5 8.5l.94-2.06 2.06-.94-2.06-.94L8.5 2.5l-.94 2.06-2.06.94zm10 10l.94 2.06.94-2.06 2.06-.94-2.06-.94-.94-2.06-.94 2.06-2.06.94z\"/><path d=\"M17.41 7.96l-1.37-1.37c-.4-.4-.92-.59-1.43-.59-.52 0-1.04.2-1.43.59L10.3 9.45l-7.72 7.72c-.78.78-.78 2.05 0 2.83L4 21.41c.39.39.9.59 1.41.59.51 0 1.02-.2 1.41-.59l7.78-7.78 2.81-2.81c.8-.78.8-2.07 0-2.86zM5.41 20L4 18.59l7.72-7.72 1.47 1.35L5.41 20z\"/>\n",
              "  </svg>\n",
              "      </button>\n",
              "      \n",
              "  <style>\n",
              "    .colab-df-container {\n",
              "      display:flex;\n",
              "      flex-wrap:wrap;\n",
              "      gap: 12px;\n",
              "    }\n",
              "\n",
              "    .colab-df-convert {\n",
              "      background-color: #E8F0FE;\n",
              "      border: none;\n",
              "      border-radius: 50%;\n",
              "      cursor: pointer;\n",
              "      display: none;\n",
              "      fill: #1967D2;\n",
              "      height: 32px;\n",
              "      padding: 0 0 0 0;\n",
              "      width: 32px;\n",
              "    }\n",
              "\n",
              "    .colab-df-convert:hover {\n",
              "      background-color: #E2EBFA;\n",
              "      box-shadow: 0px 1px 2px rgba(60, 64, 67, 0.3), 0px 1px 3px 1px rgba(60, 64, 67, 0.15);\n",
              "      fill: #174EA6;\n",
              "    }\n",
              "\n",
              "    [theme=dark] .colab-df-convert {\n",
              "      background-color: #3B4455;\n",
              "      fill: #D2E3FC;\n",
              "    }\n",
              "\n",
              "    [theme=dark] .colab-df-convert:hover {\n",
              "      background-color: #434B5C;\n",
              "      box-shadow: 0px 1px 3px 1px rgba(0, 0, 0, 0.15);\n",
              "      filter: drop-shadow(0px 1px 2px rgba(0, 0, 0, 0.3));\n",
              "      fill: #FFFFFF;\n",
              "    }\n",
              "  </style>\n",
              "\n",
              "      <script>\n",
              "        const buttonEl =\n",
              "          document.querySelector('#df-5afe2718-bd7f-4247-83ba-9f5f62c33be1 button.colab-df-convert');\n",
              "        buttonEl.style.display =\n",
              "          google.colab.kernel.accessAllowed ? 'block' : 'none';\n",
              "\n",
              "        async function convertToInteractive(key) {\n",
              "          const element = document.querySelector('#df-5afe2718-bd7f-4247-83ba-9f5f62c33be1');\n",
              "          const dataTable =\n",
              "            await google.colab.kernel.invokeFunction('convertToInteractive',\n",
              "                                                     [key], {});\n",
              "          if (!dataTable) return;\n",
              "\n",
              "          const docLinkHtml = 'Like what you see? Visit the ' +\n",
              "            '<a target=\"_blank\" href=https://colab.research.google.com/notebooks/data_table.ipynb>data table notebook</a>'\n",
              "            + ' to learn more about interactive tables.';\n",
              "          element.innerHTML = '';\n",
              "          dataTable['output_type'] = 'display_data';\n",
              "          await google.colab.output.renderOutput(dataTable, element);\n",
              "          const docLink = document.createElement('div');\n",
              "          docLink.innerHTML = docLinkHtml;\n",
              "          element.appendChild(docLink);\n",
              "        }\n",
              "      </script>\n",
              "    </div>\n",
              "  </div>\n",
              "  "
            ]
          },
          "metadata": {},
          "execution_count": 5
        }
      ]
    },
    {
      "cell_type": "markdown",
      "source": [
        "### **Dataset Description :**\n",
        "\n",
        "---\n",
        "For each record in the data set, some different features describe the request and the response headers."
      ],
      "metadata": {
        "id": "GPQpNuCt2LbX"
      }
    },
    {
      "cell_type": "markdown",
      "source": [
        "#### **Request Header :**\n",
        "---\n",
        "HTTP header that can be used in an HTTP request to provide information about the request context, so that the server can tailor the response.\n",
        "\n",
        "\n",
        "\n",
        ">>\n",
        " \n",
        "  1. <ins>**Host**</ins> : `specifies the host and port number of the server to which the request is being sent. `\n",
        "\n",
        "  2. <ins>**User agent**</ins> : `informs the server which browser and operating system the client is using`\n",
        "\n",
        "  3. <ins>**Accept Encoding**</ins> : `indicates the content encoding that the client can understand.`\n",
        "      \n",
        "  4. <ins>**Accept**</ins> :` indicates which content types, expressed as MIME types, the client is able to understand`\n",
        "\n",
        "  5. <ins>**Connection**</ins> :` indicates whether the network connection stays open after the current transaction finishes.`\n",
        "\n",
        "  6. <ins>**Accept Langauge**</ins> :` indicates the natural language and locale that the client prefers.`\n",
        "\n",
        "  7. <ins>**Sec-Fetch-Site**</ins> :`indicates whether a request for a resource is coming from the same origin, the same site or different site.`\n",
        "\n",
        "  8. <ins>**Sec-Fetch-Mode**</ins> :` indicates the mode of the request.`\n",
        "\n",
        "  9. <ins>**Sec-Fetch-User**</ins> :` sent for requests initiated by user activation, and its value will always be ?1`\n",
        "\n",
        "  10. <ins>**Sec-Fetch-Dest**</ins> :`That is the initiator of the original fetch request, which is where/how the fetched data will be used.`\n",
        "\n",
        "  11. <ins>**Set-Cookie**</ins> :`indicates a cookie that sends from the server to the user agent, so that the user agent can send it back to the server.`\n",
        "\n",
        "  12. <ins>**Date**</ins> :` indicates the date and time at which the message originated.`\n",
        "\n",
        "  13. <ins>**Method**</ins> :`A message to the server to indicate the kind of actions to take.`\n",
        "\n",
        "  14. <ins>**Url**</ins> :`address that contains the information needed to access the server resources.`\n",
        "      \n",
        "  15. <ins>**Body**</ins> :`indicates a readable stream of byte data that represents the contents that have been added to the request. `\n",
        "\n",
        "\n"
      ],
      "metadata": {
        "id": "kd3ij2at2sbh"
      }
    },
    {
      "cell_type": "markdown",
      "source": [
        "### **Classes distribution :**"
      ],
      "metadata": {
        "id": "OzzGlzD9T1eH"
      }
    },
    {
      "cell_type": "code",
      "source": [
        "fig = plt.figure(1, figsize=(28,2))\n",
        "classes_distribution = df['label'].value_counts().to_frame().reset_index().to_numpy()\n",
        "sns.barplot(x = [classes_distribution[0][0],classes_distribution[1][0]] , y = [classes_distribution[0][1] , classes_distribution[1][1]] , color = \"gray\")\n",
        "plt.show()"
      ],
      "metadata": {
        "colab": {
          "base_uri": "https://localhost:8080/",
          "height": 155
        },
        "id": "baEo0l7iT-u-",
        "outputId": "736d75d4-38c3-4dd2-d14b-0689a98d1517"
      },
      "execution_count": 6,
      "outputs": [
        {
          "output_type": "display_data",
          "data": {
            "text/plain": [
              "<Figure size 2016x144 with 1 Axes>"
            ],
            "image/png": "[encoded data removed]"
          },
          "metadata": {
            "needs_background": "light"
          }
        }
      ]
    },
    {
      "cell_type": "code",
      "source": [
        "df.shape"
      ],
      "metadata": {
        "colab": {
          "base_uri": "https://localhost:8080/"
        },
        "id": "cZBtVL8HEh_E",
        "outputId": "0adfe2b4-da8c-4d6c-8478-aa9a10f676b8"
      },
      "execution_count": 7,
      "outputs": [
        {
          "output_type": "execute_result",
          "data": {
            "text/plain": [
              "(4282, 26)"
            ]
          },
          "metadata": {},
          "execution_count": 7
        }
      ]
    },
    {
      "cell_type": "markdown",
      "source": [
        "### **Feature Enginering :**\n"
      ],
      "metadata": {
        "id": "pl2LQLu5Tstu"
      }
    },
    {
      "cell_type": "code",
      "source": [
        "# Iterate through the data set and check for each column what types it contains and their quantities.\n",
        "features , unique_values = ([],[])\n",
        "same_value_features = []\n",
        "for (col_name,col_value) in df.iteritems():\n",
        "    if (col_name != \"label\" and col_name != \"attack_type\"):\n",
        "        features.append(col_name)\n",
        "        unique_values.append(len(np.unique(col_value)))\n",
        "        if(unique_values[-1] == 1):\n",
        "          # add the columns that contains one value for each record in the dataset\n",
        "          same_value_features.append(col_name)\n",
        "\n",
        "counter = 0\n",
        "fig, ax = plt.subplots(figsize =(28, 9)) \n",
        "# Horizontal Bar Plot\n",
        "ax.barh(features, unique_values)\n",
        "# Add x, y gridlines\n",
        "ax.grid(b = True, color ='grey',linestyle ='-.', linewidth = 0.5,alpha = 0.2)\n",
        "# Show top values\n",
        "ax.invert_yaxis()\n",
        "# Add annotation to bars\n",
        "for i in ax.patches:\n",
        "    plt.text(i.get_width() + 15, i.get_y() + 0.5, str(round((i.get_width()), 2)),fontsize = 10, fontweight ='bold', color ='grey')\n",
        "    col_name = features[counter]\n",
        "    plt.text(i.get_width() + 100, i.get_y() + 0.5, df[str(col_name)].dtype ,fontsize = 11, color ='black')\n",
        "    counter = counter + 1\n",
        "\n",
        "# Show Plot\n",
        "plt.show()"
      ],
      "metadata": {
        "colab": {
          "base_uri": "https://localhost:8080/",
          "height": 487
        },
        "id": "CfWqy38XS9v2",
        "outputId": "14a5be94-05b1-489f-afd4-0d623b158d71"
      },
      "execution_count": 8,
      "outputs": [
        {
          "output_type": "display_data",
          "data": {
            "text/plain": [
              "<Figure size 2016x648 with 1 Axes>"
            ],
            "image/png": "[encoded data removed]"
          },
          "metadata": {
            "needs_background": "light"
          }
        }
      ]
    },
    {
      "cell_type": "markdown",
      "source": [
        "As you can see, there are five attributes that contain the same value for all records in the dataset:\n",
        "1. `Host ip` from the request header\n",
        "2. `HTTP Accept` from the request header\n",
        "3. `Connection type` from the request header\n",
        "4. `Sec-Fetch-User` fetch metadata from the request header\n",
        "5. `Request body` from the request header\n",
        "\n",
        "It's not useful for building the model because it doesn't provide information that can help distinguish one record from another. In this case, we will remove the features from the dataset."
      ],
      "metadata": {
        "id": "j2DwDNDTTnl2"
      }
    },
    {
      "cell_type": "code",
      "source": [
        "dataset = df.drop(same_value_features, axis = 1)\n",
        "dataset.head(4)"
      ],
      "metadata": {
        "colab": {
          "base_uri": "https://localhost:8080/",
          "height": 395
        },
        "id": "RxDlg11NBw32",
        "outputId": "08c5c65d-1eed-4906-8c50-07482157c536"
      },
      "execution_count": 9,
      "outputs": [
        {
          "output_type": "execute_result",
          "data": {
            "text/plain": [
              "                          request.headers.User-Agent  \\\n",
              "0  Mozilla/5.0 (X11; Linux i586; rv:31.0) Gecko/2...   \n",
              "1  Mozilla/5.0 (X11; OpenBSD amd64; rv:28.0) Geck...   \n",
              "2  Mozilla/5.0 (X11; Ubuntu; Linux x86_64; rv:24....   \n",
              "3  Mozilla/5.0 (Windows NT 6.1; rv:27.3) Gecko/20...   \n",
              "\n",
              "  request.headers.Accept-Encoding request.headers.Accept-Language  \\\n",
              "0               gzip, deflate, br                           de-CH   \n",
              "1               gzip, deflate, br                              de   \n",
              "2               gzip, deflate, br                              de   \n",
              "3               gzip, deflate, br                           de-CH   \n",
              "\n",
              "  request.headers.Sec-Fetch-Site request.headers.Sec-Fetch-Mode  \\\n",
              "0                           none                    same-origin   \n",
              "1                           none                    same-origin   \n",
              "2                           none                    same-origin   \n",
              "3                           none                    same-origin   \n",
              "\n",
              "  request.headers.Sec-Fetch-Dest  \\\n",
              "0                       document   \n",
              "1                       document   \n",
              "2                       document   \n",
              "3                       document   \n",
              "\n",
              "                          request.headers.Set-Cookie  \\\n",
              "0  ['ck=o_GpTr9HHJJuQyahzYzRI32s-1_JPvkhLtweRRmjP...   \n",
              "1  ['ck=UYrrg74Ph7dWrlCA9rgXy6qtYSwxuCZK_nBsCp-j5...   \n",
              "2  ['ck=wiMIulyT7VOEQKT-4D5ChZAjxiTdRXAYUaz_OQ3Rc...   \n",
              "3  ['ck=pQiHhJSsvZ9vw-yR8NmaTGKzqUBsn583t3Q6zWEoz...   \n",
              "\n",
              "            request.headers.Date request.method  \\\n",
              "0  Mon, 21 Nov 2022 18:12:16 GMT            GET   \n",
              "1  Mon, 21 Nov 2022 18:12:16 GMT            GET   \n",
              "2  Mon, 21 Nov 2022 18:12:16 GMT            GET   \n",
              "3  Mon, 21 Nov 2022 18:12:16 GMT            GET   \n",
              "\n",
              "                                         request.url response.status  \\\n",
              "0  http://127.0.0.1:5000/static/download_txt/../....          200 OK   \n",
              "1   http://127.0.0.1:5000/categories/check/name/2467   404 NOT FOUND   \n",
              "2                  http://127.0.0.1:5000/cookielogin          200 OK   \n",
              "3       http://127.0.0.1:5000/states/get/region/6117   404 NOT FOUND   \n",
              "\n",
              "  response.headers.Content-Type response.headers.Content-Length  \\\n",
              "0              application/json                              72   \n",
              "1              application/json                              41   \n",
              "2      text/html; charset=utf-8                             105   \n",
              "3              application/json                              30   \n",
              "\n",
              "   response.status_code                                      response.body  \\\n",
              "0                   200  {\"error\": \"File ../../../../../../../../window...   \n",
              "1                   404               {\"error\": \"Category name not found\"}   \n",
              "2                   200  <h1>Logged in as Cedric</h1><form method='POST...   \n",
              "3                   404                          {\"error\": \"Not a region\"}   \n",
              "\n",
              "                              request.headers.Cookie  \\\n",
              "0                                               None   \n",
              "1                                               None   \n",
              "2  username=gASVyQAAAAAAAACMCGJ1aWx0aW5zlIwEZXZhb...   \n",
              "3                                               None   \n",
              "\n",
              "  response.headers.Location request.headers.Content-Length  \\\n",
              "0                      None                           None   \n",
              "1                      None                           None   \n",
              "2                      None                           None   \n",
              "3                      None                           None   \n",
              "\n",
              "  response.headers.Set-Cookie          attack_type    label  \n",
              "0                        None  Directory Traversal  Malware  \n",
              "1                        None               Benign   Benign  \n",
              "2                        None     Cookie Injection  Malware  \n",
              "3                        None               Benign   Benign  "
            ],
            "text/html": [
              "\n",
              "  <div id=\"df-bbb468e8-a30d-4f31-b69d-609cb333dd33\">\n",
              "    <div class=\"colab-df-container\">\n",
              "      <div>\n",
              "<style scoped>\n",
              "    .dataframe tbody tr th:only-of-type {\n",
              "        vertical-align: middle;\n",
              "    }\n",
              "\n",
              "    .dataframe tbody tr th {\n",
              "        vertical-align: top;\n",
              "    }\n",
              "\n",
              "    .dataframe thead th {\n",
              "        text-align: right;\n",
              "    }\n",
              "</style>\n",
              "<table border=\"1\" class=\"dataframe\">\n",
              "  <thead>\n",
              "    <tr style=\"text-align: right;\">\n",
              "      <th></th>\n",
              "      <th>request.headers.User-Agent</th>\n",
              "      <th>request.headers.Accept-Encoding</th>\n",
              "      <th>request.headers.Accept-Language</th>\n",
              "      <th>request.headers.Sec-Fetch-Site</th>\n",
              "      <th>request.headers.Sec-Fetch-Mode</th>\n",
              "      <th>request.headers.Sec-Fetch-Dest</th>\n",
              "      <th>request.headers.Set-Cookie</th>\n",
              "      <th>request.headers.Date</th>\n",
              "      <th>request.method</th>\n",
              "      <th>request.url</th>\n",
              "      <th>response.status</th>\n",
              "      <th>response.headers.Content-Type</th>\n",
              "      <th>response.headers.Content-Length</th>\n",
              "      <th>response.status_code</th>\n",
              "      <th>response.body</th>\n",
              "      <th>request.headers.Cookie</th>\n",
              "      <th>response.headers.Location</th>\n",
              "      <th>request.headers.Content-Length</th>\n",
              "      <th>response.headers.Set-Cookie</th>\n",
              "      <th>attack_type</th>\n",
              "      <th>label</th>\n",
              "    </tr>\n",
              "  </thead>\n",
              "  <tbody>\n",
              "    <tr>\n",
              "      <th>0</th>\n",
              "      <td>Mozilla/5.0 (X11; Linux i586; rv:31.0) Gecko/2...</td>\n",
              "      <td>gzip, deflate, br</td>\n",
              "      <td>de-CH</td>\n",
              "      <td>none</td>\n",
              "      <td>same-origin</td>\n",
              "      <td>document</td>\n",
              "      <td>['ck=o_GpTr9HHJJuQyahzYzRI32s-1_JPvkhLtweRRmjP...</td>\n",
              "      <td>Mon, 21 Nov 2022 18:12:16 GMT</td>\n",
              "      <td>GET</td>\n",
              "      <td>http://127.0.0.1:5000/static/download_txt/../....</td>\n",
              "      <td>200 OK</td>\n",
              "      <td>application/json</td>\n",
              "      <td>72</td>\n",
              "      <td>200</td>\n",
              "      <td>{\"error\": \"File ../../../../../../../../window...</td>\n",
              "      <td>None</td>\n",
              "      <td>None</td>\n",
              "      <td>None</td>\n",
              "      <td>None</td>\n",
              "      <td>Directory Traversal</td>\n",
              "      <td>Malware</td>\n",
              "    </tr>\n",
              "    <tr>\n",
              "      <th>1</th>\n",
              "      <td>Mozilla/5.0 (X11; OpenBSD amd64; rv:28.0) Geck...</td>\n",
              "      <td>gzip, deflate, br</td>\n",
              "      <td>de</td>\n",
              "      <td>none</td>\n",
              "      <td>same-origin</td>\n",
              "      <td>document</td>\n",
              "      <td>['ck=UYrrg74Ph7dWrlCA9rgXy6qtYSwxuCZK_nBsCp-j5...</td>\n",
              "      <td>Mon, 21 Nov 2022 18:12:16 GMT</td>\n",
              "      <td>GET</td>\n",
              "      <td>http://127.0.0.1:5000/categories/check/name/2467</td>\n",
              "      <td>404 NOT FOUND</td>\n",
              "      <td>application/json</td>\n",
              "      <td>41</td>\n",
              "      <td>404</td>\n",
              "      <td>{\"error\": \"Category name not found\"}</td>\n",
              "      <td>None</td>\n",
              "      <td>None</td>\n",
              "      <td>None</td>\n",
              "      <td>None</td>\n",
              "      <td>Benign</td>\n",
              "      <td>Benign</td>\n",
              "    </tr>\n",
              "    <tr>\n",
              "      <th>2</th>\n",
              "      <td>Mozilla/5.0 (X11; Ubuntu; Linux x86_64; rv:24....</td>\n",
              "      <td>gzip, deflate, br</td>\n",
              "      <td>de</td>\n",
              "      <td>none</td>\n",
              "      <td>same-origin</td>\n",
              "      <td>document</td>\n",
              "      <td>['ck=wiMIulyT7VOEQKT-4D5ChZAjxiTdRXAYUaz_OQ3Rc...</td>\n",
              "      <td>Mon, 21 Nov 2022 18:12:16 GMT</td>\n",
              "      <td>GET</td>\n",
              "      <td>http://127.0.0.1:5000/cookielogin</td>\n",
              "      <td>200 OK</td>\n",
              "      <td>text/html; charset=utf-8</td>\n",
              "      <td>105</td>\n",
              "      <td>200</td>\n",
              "      <td>&lt;h1&gt;Logged in as Cedric&lt;/h1&gt;&lt;form method='POST...</td>\n",
              "      <td>username=gASVyQAAAAAAAACMCGJ1aWx0aW5zlIwEZXZhb...</td>\n",
              "      <td>None</td>\n",
              "      <td>None</td>\n",
              "      <td>None</td>\n",
              "      <td>Cookie Injection</td>\n",
              "      <td>Malware</td>\n",
              "    </tr>\n",
              "    <tr>\n",
              "      <th>3</th>\n",
              "      <td>Mozilla/5.0 (Windows NT 6.1; rv:27.3) Gecko/20...</td>\n",
              "      <td>gzip, deflate, br</td>\n",
              "      <td>de-CH</td>\n",
              "      <td>none</td>\n",
              "      <td>same-origin</td>\n",
              "      <td>document</td>\n",
              "      <td>['ck=pQiHhJSsvZ9vw-yR8NmaTGKzqUBsn583t3Q6zWEoz...</td>\n",
              "      <td>Mon, 21 Nov 2022 18:12:16 GMT</td>\n",
              "      <td>GET</td>\n",
              "      <td>http://127.0.0.1:5000/states/get/region/6117</td>\n",
              "      <td>404 NOT FOUND</td>\n",
              "      <td>application/json</td>\n",
              "      <td>30</td>\n",
              "      <td>404</td>\n",
              "      <td>{\"error\": \"Not a region\"}</td>\n",
              "      <td>None</td>\n",
              "      <td>None</td>\n",
              "      <td>None</td>\n",
              "      <td>None</td>\n",
              "      <td>Benign</td>\n",
              "      <td>Benign</td>\n",
              "    </tr>\n",
              "  </tbody>\n",
              "</table>\n",
              "</div>\n",
              "      <button class=\"colab-df-convert\" onclick=\"convertToInteractive('df-bbb468e8-a30d-4f31-b69d-609cb333dd33')\"\n",
              "              title=\"Convert this dataframe to an interactive table.\"\n",
              "              style=\"display:none;\">\n",
              "        \n",
              "  <svg xmlns=\"http://www.w3.org/2000/svg\" height=\"24px\"viewBox=\"0 0 24 24\"\n",
              "       width=\"24px\">\n",
              "    <path d=\"M0 0h24v24H0V0z\" fill=\"none\"/>\n",
              "    <path d=\"M18.56 5.44l.94 2.06.94-2.06 2.06-.94-2.06-.94-.94-2.06-.94 2.06-2.06.94zm-11 1L8.5 8.5l.94-2.06 2.06-.94-2.06-.94L8.5 2.5l-.94 2.06-2.06.94zm10 10l.94 2.06.94-2.06 2.06-.94-2.06-.94-.94-2.06-.94 2.06-2.06.94z\"/><path d=\"M17.41 7.96l-1.37-1.37c-.4-.4-.92-.59-1.43-.59-.52 0-1.04.2-1.43.59L10.3 9.45l-7.72 7.72c-.78.78-.78 2.05 0 2.83L4 21.41c.39.39.9.59 1.41.59.51 0 1.02-.2 1.41-.59l7.78-7.78 2.81-2.81c.8-.78.8-2.07 0-2.86zM5.41 20L4 18.59l7.72-7.72 1.47 1.35L5.41 20z\"/>\n",
              "  </svg>\n",
              "      </button>\n",
              "      \n",
              "  <style>\n",
              "    .colab-df-container {\n",
              "      display:flex;\n",
              "      flex-wrap:wrap;\n",
              "      gap: 12px;\n",
              "    }\n",
              "\n",
              "    .colab-df-convert {\n",
              "      background-color: #E8F0FE;\n",
              "      border: none;\n",
              "      border-radius: 50%;\n",
              "      cursor: pointer;\n",
              "      display: none;\n",
              "      fill: #1967D2;\n",
              "      height: 32px;\n",
              "      padding: 0 0 0 0;\n",
              "      width: 32px;\n",
              "    }\n",
              "\n",
              "    .colab-df-convert:hover {\n",
              "      background-color: #E2EBFA;\n",
              "      box-shadow: 0px 1px 2px rgba(60, 64, 67, 0.3), 0px 1px 3px 1px rgba(60, 64, 67, 0.15);\n",
              "      fill: #174EA6;\n",
              "    }\n",
              "\n",
              "    [theme=dark] .colab-df-convert {\n",
              "      background-color: #3B4455;\n",
              "      fill: #D2E3FC;\n",
              "    }\n",
              "\n",
              "    [theme=dark] .colab-df-convert:hover {\n",
              "      background-color: #434B5C;\n",
              "      box-shadow: 0px 1px 3px 1px rgba(0, 0, 0, 0.15);\n",
              "      filter: drop-shadow(0px 1px 2px rgba(0, 0, 0, 0.3));\n",
              "      fill: #FFFFFF;\n",
              "    }\n",
              "  </style>\n",
              "\n",
              "      <script>\n",
              "        const buttonEl =\n",
              "          document.querySelector('#df-bbb468e8-a30d-4f31-b69d-609cb333dd33 button.colab-df-convert');\n",
              "        buttonEl.style.display =\n",
              "          google.colab.kernel.accessAllowed ? 'block' : 'none';\n",
              "\n",
              "        async function convertToInteractive(key) {\n",
              "          const element = document.querySelector('#df-bbb468e8-a30d-4f31-b69d-609cb333dd33');\n",
              "          const dataTable =\n",
              "            await google.colab.kernel.invokeFunction('convertToInteractive',\n",
              "                                                     [key], {});\n",
              "          if (!dataTable) return;\n",
              "\n",
              "          const docLinkHtml = 'Like what you see? Visit the ' +\n",
              "            '<a target=\"_blank\" href=https://colab.research.google.com/notebooks/data_table.ipynb>data table notebook</a>'\n",
              "            + ' to learn more about interactive tables.';\n",
              "          element.innerHTML = '';\n",
              "          dataTable['output_type'] = 'display_data';\n",
              "          await google.colab.output.renderOutput(dataTable, element);\n",
              "          const docLink = document.createElement('div');\n",
              "          docLink.innerHTML = docLinkHtml;\n",
              "          element.appendChild(docLink);\n",
              "        }\n",
              "      </script>\n",
              "    </div>\n",
              "  </div>\n",
              "  "
            ]
          },
          "metadata": {},
          "execution_count": 9
        }
      ]
    },
    {
      "cell_type": "code",
      "source": [
        "dataset.shape"
      ],
      "metadata": {
        "colab": {
          "base_uri": "https://localhost:8080/"
        },
        "id": "O3XnkcEyEsZU",
        "outputId": "6eb7fb95-908d-4f78-e45f-57b2de2f16e5"
      },
      "execution_count": 10,
      "outputs": [
        {
          "output_type": "execute_result",
          "data": {
            "text/plain": [
              "(4282, 21)"
            ]
          },
          "metadata": {},
          "execution_count": 10
        }
      ]
    },
    {
      "cell_type": "markdown",
      "source": [
        "The `response.headers.Content-Length` feature contains multiple string that represents the length of the content that send from the host, therfore we will convert them to numeric values."
      ],
      "metadata": {
        "id": "mUa46oTWeDmP"
      }
    },
    {
      "cell_type": "code",
      "source": [
        "def content_length_numeric(dataframe):\n",
        "  dataframe['response.headers.Content-Length'] = pd.to_numeric(dataframe['response.headers.Content-Length'])\n",
        "  return dataframe"
      ],
      "metadata": {
        "id": "5R3U6Citdyj4"
      },
      "execution_count": 11,
      "outputs": []
    },
    {
      "cell_type": "markdown",
      "source": [
        "The `response.headers.Content-Type` feature contains two different types such as text/html and json contents. Therefore, we will create two columns that will indicate which type of content the request means."
      ],
      "metadata": {
        "id": "MB53DBR1PFn4"
      }
    },
    {
      "cell_type": "code",
      "source": [
        "dataset['response.headers.Content-Type'].unique().tolist()"
      ],
      "metadata": {
        "colab": {
          "base_uri": "https://localhost:8080/"
        },
        "id": "YglIjf4ZVPrm",
        "outputId": "356174dd-6133-4ca5-fb0c-409717a7d758"
      },
      "execution_count": 12,
      "outputs": [
        {
          "output_type": "execute_result",
          "data": {
            "text/plain": [
              "['application/json', 'text/html; charset=utf-8']"
            ]
          },
          "metadata": {},
          "execution_count": 12
        }
      ]
    },
    {
      "cell_type": "code",
      "source": [
        "def one_hot_content_type (dataframe):\n",
        "  content_type_onehot = pd.get_dummies(dataframe['response.headers.Content-Type'])\n",
        "  dataframe.drop(['response.headers.Content-Type'] , axis = 1, inplace = True)\n",
        "  dataframe.insert(11,'content_type_application/json',content_type_onehot['application/json'])\n",
        "  dataframe.insert(12,'content_type_text/html',content_type_onehot['text/html; charset=utf-8'])\n",
        "  return dataframe"
      ],
      "metadata": {
        "id": "X4ofFpy1SSTP"
      },
      "execution_count": 13,
      "outputs": []
    },
    {
      "cell_type": "markdown",
      "source": [
        "The `request.headers.Accept-Encoding` feature contains information about how the client can understand the data received from the server.\n",
        "\n",
        "We saw that there are 46 unique values for that feature, we will check them and see if it is possible to split them in order to improve the understanding of that value."
      ],
      "metadata": {
        "id": "UEIUHAj4FzVF"
      }
    },
    {
      "cell_type": "code",
      "source": [
        "dataset['request.headers.Accept-Encoding'].unique()[:3].tolist()"
      ],
      "metadata": {
        "colab": {
          "base_uri": "https://localhost:8080/"
        },
        "id": "wEawFhROGSXF",
        "outputId": "e8e41770-3b7d-4642-bb28-3e4e4604d2a2"
      },
      "execution_count": 14,
      "outputs": [
        {
          "output_type": "execute_result",
          "data": {
            "text/plain": [
              "['gzip, deflate, br',\n",
              " 'gzip, deflate, br${jndi:ldapamazon.com/Kennedys-American-Drama-Peter-Collier/dp/0671447939}',\n",
              " 'gzip, deflate, br${jndi:ldaphttp://www.primascan.fr/PrimaScan/mailto/component?link=36146e3a61450de4c6d6621558cdbed67990cd98}']"
            ]
          },
          "metadata": {},
          "execution_count": 14
        }
      ]
    },
    {
      "cell_type": "markdown",
      "source": [
        "The values of this attribute contain the following sequence: \n",
        "`gzip, deflate, br`\n",
        "And there are 48 values for which the `br` value contains some URL, therefore in order to describe the data in a more effective way we will add a column that will describe whether the following record contains a URL within the`br`."
      ],
      "metadata": {
        "id": "MbEJjY9tHtV8"
      }
    },
    {
      "cell_type": "code",
      "source": [
        "def br_contain_url(dataframe):\n",
        "  contains_url = []\n",
        "  for col_value in dataframe['request.headers.Accept-Encoding']:\n",
        "      if \"jndi\" in col_value:\n",
        "        contains_url.append(1)\n",
        "      else:\n",
        "        contains_url.append(0)\n",
        "\n",
        "  dataframe.insert(2,'br_with_url',contains_url)\n",
        "  dataframe.drop(['request.headers.Accept-Encoding'],axis = 1,inplace = True)\n",
        "  return dataframe"
      ],
      "metadata": {
        "id": "3HVxxYdAMEA8"
      },
      "execution_count": 15,
      "outputs": []
    },
    {
      "cell_type": "code",
      "source": [
        "dataset['request.headers.Sec-Fetch-Dest'].unique()[:3].tolist()"
      ],
      "metadata": {
        "colab": {
          "base_uri": "https://localhost:8080/"
        },
        "id": "JdVUq18TuHc7",
        "outputId": "70e96cd6-4971-4e29-b39e-a6d3bfec1c28"
      },
      "execution_count": 16,
      "outputs": [
        {
          "output_type": "execute_result",
          "data": {
            "text/plain": [
              "['document',\n",
              " 'document${jndi:ldaphttps://mitsui-jyuku.mixh.jp/uploads/20313687ead846bae3d6dc2187ebf1d00be.exe}',\n",
              " 'document${jndi:ldaphttp://www.timali.com/listings?cur_page=2&action=searchresults&sortby=City&sorttype=ASC&cmsrealty=user}']"
            ]
          },
          "metadata": {},
          "execution_count": 16
        }
      ]
    },
    {
      "cell_type": "code",
      "source": [
        "def fetchdest_contain_url(dataframe):\n",
        "  contains_url = []\n",
        "  for col_value in dataframe['request.headers.Sec-Fetch-Dest']:\n",
        "      if \"jndi\" in col_value:\n",
        "        contains_url.append(1)\n",
        "      else:\n",
        "        contains_url.append(0)\n",
        "\n",
        "  dataframe.insert(7,'Sec-Fetch-Dest_with_url',contains_url)\n",
        "  dataframe.drop(['request.headers.Sec-Fetch-Dest'],axis = 1,inplace = True)\n",
        "\n",
        "  return dataframe"
      ],
      "metadata": {
        "id": "acMmx5M1unB5"
      },
      "execution_count": 17,
      "outputs": []
    },
    {
      "cell_type": "markdown",
      "source": [
        "There are two columns which describe the same case where an answer is received for a certain request.\n",
        "I will check if the values are equal in both columns, if so I will leave one column instead of using both."
      ],
      "metadata": {
        "id": "SEiN6JPMUbdu"
      }
    },
    {
      "cell_type": "code",
      "source": [
        "response_check = dataset[['response.status' , 'response.status_code']]\n",
        "response_check = response_check.replace({'response.status': {'200 OK': 200,'302 FOUND':302,'308 PERMANENT REDIRECT':308,'401 UNAUTHORIZED':401,'404 NOT FOUND': 404}})\n",
        "print(response_check['response.status'].equals(response_check['response.status_code']))"
      ],
      "metadata": {
        "colab": {
          "base_uri": "https://localhost:8080/"
        },
        "id": "HZuhysdlUiee",
        "outputId": "10fea3c4-312e-4a89-a33d-6dc6a8fe7db1"
      },
      "execution_count": 18,
      "outputs": [
        {
          "output_type": "stream",
          "name": "stdout",
          "text": [
            "True\n"
          ]
        }
      ]
    },
    {
      "cell_type": "markdown",
      "source": [
        "### **Dealing with missing values :**\n"
      ],
      "metadata": {
        "id": "Wr1VpKXTOTkm"
      }
    },
    {
      "cell_type": "code",
      "source": [
        "means = df.isnull().mean()\n",
        "percentages = means[means > 0].round(4).mul(100).sort_values(ascending=False)\n",
        "percentages"
      ],
      "metadata": {
        "colab": {
          "base_uri": "https://localhost:8080/"
        },
        "id": "HDeraf0D9Le3",
        "outputId": "89f204fc-a2b9-4daa-882b-9f822bb0a147"
      },
      "execution_count": 19,
      "outputs": [
        {
          "output_type": "execute_result",
          "data": {
            "text/plain": [
              "Series([], dtype: float64)"
            ]
          },
          "metadata": {},
          "execution_count": 19
        }
      ]
    },
    {
      "cell_type": "markdown",
      "source": [
        "> ### Dealing with categorical features"
      ],
      "metadata": {
        "id": "IA_6J8JxdS2V"
      }
    },
    {
      "cell_type": "code",
      "source": [
        "# Setting features for further feature extraction by choosing columns\n",
        "# Some will be \"simply\" encoded via label encoding and others with HashingVectorizer\n",
        "from sklearn.feature_extraction.text import CountVectorizer, HashingVectorizer\n",
        "from sklearn.preprocessing import LabelEncoder\n",
        "from sklearn.model_selection import train_test_split\n",
        "from sklearn.metrics import confusion_matrix, classification_report\n",
        "from collections import Counter\n",
        "import xgboost as xgb"
      ],
      "metadata": {
        "id": "TsCtHc8ItWhS"
      },
      "execution_count": 20,
      "outputs": []
    },
    {
      "cell_type": "code",
      "execution_count": 21,
      "metadata": {
        "id": "YptHJ3P-nj3p"
      },
      "outputs": [],
      "source": [
        "# Setting features for further feature extraction by choosing columns\n",
        "# Some will be \"simply\" encoded via label encoding and others with HashingVectorizer\n",
        "\n",
        "# On these headers we will run a \"simple\" BOW\n",
        "SIMPLE_HEADERS = [\n",
        "                'request.method',\n",
        "                'request.headers.Accept-Language',\n",
        "                'response.headers.Content-Type',\n",
        "                'request.headers.Sec-Fetch-Site',\n",
        "                'request.headers.Sec-Fetch-Mode',\n",
        "                'response.status',\n",
        "                ]\n",
        "\n",
        "# On these headers we will run HashingVectorizer\n",
        "COMPLEX_HEADERS = ['request.headers.User-Agent',\n",
        "                    'request.headers.Set-Cookie',\n",
        "                    'request.url',\n",
        "                    'response.body',\n",
        "                    'response.headers.Location',\n",
        "                    'request.headers.Content-Length',\n",
        "                    'request.headers.Cookie',\n",
        "                    'response.headers.Set-Cookie'\n",
        "                    ]\n",
        "\n",
        "COLUMNS_TO_REMOVE = ['request.headers.Date']\n",
        "\n",
        "# This is our main preprocessing function that will iterate over all of the chosen \n",
        "# columns and run some feature extraction models\n",
        "def vectorize_df(df):\n",
        "    df = br_contain_url(df) ## create a column that represent indicator for url in the accept encoding\n",
        "    df = fetchdest_contain_url(df)\n",
        "    df = content_length_numeric(df) ## change the response content length to numeric data\n",
        "    # df = one_hot_content_type(df)\n",
        "\n",
        "    le = LabelEncoder()\n",
        "    h_vec = HashingVectorizer(n_features=4)\n",
        "\n",
        "    # Run LabelEncoder on the chosen features\n",
        "    for column in SIMPLE_HEADERS: \n",
        "        df[column] = le.fit_transform(df[column])\n",
        "    \n",
        "    # Run HashingVectorizer on the chosen features\n",
        "    for column in COMPLEX_HEADERS: \n",
        "        newHVec = h_vec.fit_transform(df[column])\n",
        "        df[column] = newHVec.todense()\n",
        "\n",
        "    # Remove some columns that may be needed.. (Or not, you decide)\n",
        "    for column in COLUMNS_TO_REMOVE: \n",
        "        df.drop(column, axis=1, inplace=True)\n",
        "    return df"
      ]
    },
    {
      "cell_type": "code",
      "source": [
        "df = vectorize_df(dataset)"
      ],
      "metadata": {
        "id": "0zIQP2GEXsPI"
      },
      "execution_count": 22,
      "outputs": []
    },
    {
      "cell_type": "code",
      "source": [
        "from matplotlib import rcParams\n",
        "rcParams['figure.figsize'] = 20,15\n",
        "dataset_correlation = df.replace({'label': {'Malware': 1,'Benign':0}})\n",
        "sns.heatmap(dataset_correlation.corr())"
      ],
      "metadata": {
        "colab": {
          "base_uri": "https://localhost:8080/",
          "height": 1000
        },
        "id": "2CVQoyHjIZV1",
        "outputId": "3eb5a5ae-bfd9-4018-943c-33806c2cd1f8"
      },
      "execution_count": 23,
      "outputs": [
        {
          "output_type": "execute_result",
          "data": {
            "text/plain": [
              "<matplotlib.axes._subplots.AxesSubplot at 0x7ff6d32c78b0>"
            ]
          },
          "metadata": {},
          "execution_count": 23
        },
        {
          "output_type": "display_data",
          "data": {
            "text/plain": [
              "<Figure size 1440x1080 with 2 Axes>"
            ],
            "image/png": "[encoded data removed]"
          },
          "metadata": {
            "needs_background": "light"
          }
        }
      ]
    },
    {
      "cell_type": "code",
      "source": [
        "# from sklearn.feature_selection import chi2\n",
        "# from sklearn.feature_selection import SelectKBest\n",
        "\n",
        "# X = dataset.drop(['label','attack_type'],axis=1)\n",
        "# y = dataset['label']\n",
        "# X = (X-X.min())/(X.max()-X.min())\n",
        "\n",
        "# # k tells k top features to be selected\n",
        "# # Score function Chi2 tells the feature to be selected using Chi Square\n",
        "# test = SelectKBest(score_func=chi2, k= 17)\n",
        "# fit = test.fit(X, y)"
      ],
      "metadata": {
        "id": "w2B1NdvIZ4rv"
      },
      "execution_count": 24,
      "outputs": []
    },
    {
      "cell_type": "code",
      "source": [
        "# delete_features = pd.DataFrame({'columns': X.columns, 'Kept': test.get_support()})\n",
        "# delete_features = delete_features[(delete_features['Kept'] == False)]['columns'].to_list()\n",
        "# df.drop(delete_features , axis = 1 , inplace = True)"
      ],
      "metadata": {
        "id": "YftbCtDahQEg"
      },
      "execution_count": 25,
      "outputs": []
    },
    {
      "cell_type": "code",
      "execution_count": 26,
      "metadata": {
        "id": "tBJ-EWb-nj3q",
        "colab": {
          "base_uri": "https://localhost:8080/"
        },
        "outputId": "802b3e22-9437-4a84-d9ce-bb197e0049c8"
      },
      "outputs": [
        {
          "output_type": "stream",
          "name": "stdout",
          "text": [
            "<class 'pandas.core.frame.DataFrame'>\n",
            "RangeIndex: 4282 entries, 0 to 4281\n",
            "Data columns (total 20 columns):\n",
            " #   Column                           Non-Null Count  Dtype  \n",
            "---  ------                           --------------  -----  \n",
            " 0   request.headers.User-Agent       4282 non-null   float64\n",
            " 1   br_with_url                      4282 non-null   int64  \n",
            " 2   request.headers.Accept-Language  4282 non-null   int64  \n",
            " 3   request.headers.Sec-Fetch-Site   4282 non-null   int64  \n",
            " 4   request.headers.Sec-Fetch-Mode   4282 non-null   int64  \n",
            " 5   request.headers.Set-Cookie       4282 non-null   float64\n",
            " 6   Sec-Fetch-Dest_with_url          4282 non-null   int64  \n",
            " 7   request.method                   4282 non-null   int64  \n",
            " 8   request.url                      4282 non-null   float64\n",
            " 9   response.status                  4282 non-null   int64  \n",
            " 10  response.headers.Content-Type    4282 non-null   int64  \n",
            " 11  response.headers.Content-Length  4282 non-null   int64  \n",
            " 12  response.status_code             4282 non-null   int64  \n",
            " 13  response.body                    4282 non-null   float64\n",
            " 14  request.headers.Cookie           4282 non-null   float64\n",
            " 15  response.headers.Location        4282 non-null   float64\n",
            " 16  request.headers.Content-Length   4282 non-null   float64\n",
            " 17  response.headers.Set-Cookie      4282 non-null   float64\n",
            " 18  attack_type                      4282 non-null   object \n",
            " 19  label                            4282 non-null   object \n",
            "dtypes: float64(8), int64(10), object(2)\n",
            "memory usage: 1.3 MB\n"
          ]
        }
      ],
      "source": [
        "# Memory check (For large datasets sometimes the dataframe will exceed the computers resources)\n",
        "df.info(memory_usage=\"deep\")"
      ]
    },
    {
      "cell_type": "code",
      "execution_count": 27,
      "metadata": {
        "id": "FeoVlAgdnj3r",
        "colab": {
          "base_uri": "https://localhost:8080/"
        },
        "outputId": "0eb31c5c-6cac-4378-bcef-8f9821e75f01"
      },
      "outputs": [
        {
          "output_type": "stream",
          "name": "stdout",
          "text": [
            "['request.headers.User-Agent', 'br_with_url', 'request.headers.Accept-Language', 'request.headers.Sec-Fetch-Site', 'request.headers.Sec-Fetch-Mode', 'request.headers.Set-Cookie', 'Sec-Fetch-Dest_with_url', 'request.method', 'request.url', 'response.status', 'response.headers.Content-Type', 'response.headers.Content-Length', 'response.status_code', 'response.body', 'request.headers.Cookie', 'response.headers.Location', 'request.headers.Content-Length', 'response.headers.Set-Cookie']\n"
          ]
        },
        {
          "output_type": "execute_result",
          "data": {
            "text/plain": [
              "request.headers.User-Agent         float64\n",
              "br_with_url                          int64\n",
              "request.headers.Accept-Language      int64\n",
              "request.headers.Sec-Fetch-Site       int64\n",
              "request.headers.Sec-Fetch-Mode       int64\n",
              "request.headers.Set-Cookie         float64\n",
              "Sec-Fetch-Dest_with_url              int64\n",
              "request.method                       int64\n",
              "request.url                        float64\n",
              "response.status                      int64\n",
              "response.headers.Content-Type        int64\n",
              "response.headers.Content-Length      int64\n",
              "response.status_code                 int64\n",
              "response.body                      float64\n",
              "request.headers.Cookie             float64\n",
              "response.headers.Location          float64\n",
              "request.headers.Content-Length     float64\n",
              "response.headers.Set-Cookie        float64\n",
              "attack_type                         object\n",
              "label                               object\n",
              "dtype: object"
            ]
          },
          "metadata": {},
          "execution_count": 27
        }
      ],
      "source": [
        "# Choose the right features\n",
        "# In our example code we choose all the columns as our feature this can be the right or wrong way to approach the model, you choose.\n",
        "features_list = df.columns.to_list()\n",
        "features_list.remove('label')\n",
        "features_list.remove('attack_type')\n",
        "\n",
        "print(features_list)\n",
        "\n",
        "# Recheck all datatype before training to see we don't have any objects in our features\n",
        "# In this example our model must get features containing only numbers so we recheck to see if we missed anything during preprocessing\n",
        "df.dtypes"
      ]
    },
    {
      "cell_type": "markdown",
      "metadata": {
        "id": "2WOKVzq_nj3s"
      },
      "source": [
        "## Train test split"
      ]
    },
    {
      "cell_type": "code",
      "execution_count": 28,
      "metadata": {
        "id": "9LvNO9s1nj3s",
        "outputId": "851a3525-9202-40f4-8c26-938b1b7ad8a1",
        "colab": {
          "base_uri": "https://localhost:8080/"
        }
      },
      "outputs": [
        {
          "output_type": "stream",
          "name": "stdout",
          "text": [
            "(3526, 18) (3526,)\n",
            "(756, 18) (756,)\n"
          ]
        },
        {
          "output_type": "execute_result",
          "data": {
            "text/plain": [
              "Counter({'Malware': 2264, 'Benign': 2018})"
            ]
          },
          "metadata": {},
          "execution_count": 28
        }
      ],
      "source": [
        "# Data train and test split preparations. Here we will insert our feature list and label list.\n",
        "# Afterwards the data will be trained and fitted on the amazing XGBoost model\n",
        "# X_Train and y_Train will be used for training\n",
        "# X_test and y_test.T will be used for over fitting checking and overall score testing\n",
        "\n",
        "# We convert the feature list to a numpy array, this is required for the model fitting\n",
        "X = df[features_list].to_numpy()\n",
        "\n",
        "# This column is the desired prediction we will train our model on\n",
        "y = np.stack(df[test_type])\n",
        "\n",
        "# We split the dataset to train and test according to the required ration\n",
        "# Do not change the test_size -> you can change anything else\n",
        "X_train, X_test, y_train, y_test = train_test_split(X, y, test_size=0.1765, random_state=42, stratify=y)\n",
        "\n",
        "# We print the resulted datasets and count the difference \n",
        "print(X_train.shape, y_train.shape)\n",
        "print(X_test.shape, y_test.shape)\n",
        "counter = Counter(y)\n",
        "counter"
      ]
    },
    {
      "cell_type": "markdown",
      "metadata": {
        "id": "KRAxZcjYnj3t"
      },
      "source": [
        "## Model choosing and fitting"
      ]
    },
    {
      "cell_type": "code",
      "execution_count": 29,
      "metadata": {
        "id": "kqWp03Iwnj3t",
        "outputId": "8a4565c5-5a57-4af4-e2dc-e42a56968d81",
        "colab": {
          "base_uri": "https://localhost:8080/"
        }
      },
      "outputs": [
        {
          "output_type": "stream",
          "name": "stdout",
          "text": [
            "[('Benign', 1662), ('Malware', 1864)]\n"
          ]
        }
      ],
      "source": [
        "# We choose our model of choice and set it's hyper parameters you can change anything\n",
        "clf = xgb.XGBClassifier(objective=\"binary:logistic\", random_state=45)\n",
        "clf.fit(X_train, y_train)\n",
        "\n",
        "# Check data balance and variety\n",
        "print(sorted(Counter(y_train).items()))"
      ]
    },
    {
      "cell_type": "markdown",
      "metadata": {
        "id": "mrG5psvbnj3t"
      },
      "source": [
        "## Result printout"
      ]
    },
    {
      "cell_type": "code",
      "execution_count": 30,
      "metadata": {
        "id": "7hfzRIhFnj3u",
        "outputId": "c78f55ed-64f3-44f0-94ed-ae63436f19f5",
        "colab": {
          "base_uri": "https://localhost:8080/",
          "height": 641
        }
      },
      "outputs": [
        {
          "output_type": "stream",
          "name": "stdout",
          "text": [
            "              precision    recall  f1-score   support\n",
            "\n",
            "      Benign    0.91777   0.97191   0.94407       356\n",
            "     Malware    0.97361   0.92250   0.94737       400\n",
            "\n",
            "    accuracy                        0.94577       756\n",
            "   macro avg    0.94569   0.94721   0.94572       756\n",
            "weighted avg    0.94732   0.94577   0.94581       756\n",
            "\n"
          ]
        },
        {
          "output_type": "display_data",
          "data": {
            "text/plain": [
              "<Figure size 1080x576 with 2 Axes>"
            ],
            "image/png": "[encoded data removed]"
          },
          "metadata": {}
        }
      ],
      "source": [
        "# We print our results\n",
        "sns.set(rc={'figure.figsize':(15,8)})\n",
        "predictions = clf.predict(X_test)\n",
        "true_labels = y_test\n",
        "cf_matrix = confusion_matrix(true_labels, predictions)\n",
        "clf_report = classification_report(true_labels, predictions, digits=5)\n",
        "heatmap = sns.heatmap(cf_matrix, annot=True, cmap='Blues', fmt='g', \n",
        "                      xticklabels=np.unique(true_labels), \n",
        "                      yticklabels=np.unique(true_labels)) \n",
        "\n",
        "# The heatmap is cool but this is the most important result\n",
        "print(clf_report)"
      ]
    },
    {
      "cell_type": "markdown",
      "metadata": {
        "id": "Z-izNF_xnj3u"
      },
      "source": [
        "# Test"
      ]
    },
    {
      "cell_type": "code",
      "execution_count": 31,
      "metadata": {
        "id": "IuvHz-TKnj3v"
      },
      "outputs": [],
      "source": [
        "# Now it's your turn, use the model you have just created :)\n",
        "\n",
        "# Read the valuation json, preprocess it and run your model \n",
        "with open(\"/content/drive/MyDrive/CiscoChallenge/Data/dataset_1_val.json\") as file:\n",
        "    raw_ds = json.load(file)\n",
        "test_df = pd.json_normalize(raw_ds, max_level=2)\n",
        "\n",
        "# Preprocess the validation dataset, remember that here you don't have the labels\n",
        "test_df.drop(same_value_features ,axis=1, inplace=True )\n",
        "\n",
        "for column in test_df.columns[test_df.isna().any()].tolist():\n",
        "    test_df[column] = test_df[column].fillna('None')\n",
        "\n",
        "test_df = vectorize_df(test_df)\n",
        "# Predict with your model\n",
        "X = test_df[features_list].to_numpy()\n",
        "predictions = clf.predict(X)"
      ]
    },
    {
      "cell_type": "markdown",
      "metadata": {
        "id": "B6un2EOBnj3v"
      },
      "source": [
        "# Save your predictions"
      ]
    },
    {
      "cell_type": "code",
      "execution_count": 32,
      "metadata": {
        "id": "xHgdaQktnj3v"
      },
      "outputs": [],
      "source": [
        "# Save your preditions\n",
        "enc = LabelEncoder()\n",
        "np.savetxt(f'/content/drive/MyDrive/CiscoChallenge/dataset_1_{test_type}_result.txt', enc.fit_transform(predictions), fmt='%2d')"
      ]
    }
  ],
  "metadata": {
    "kernelspec": {
      "display_name": "Python 3",
      "language": "python",
      "name": "python3"
    },
    "language_info": {
      "codemirror_mode": {
        "name": "ipython",
        "version": 3
      },
      "file_extension": ".py",
      "mimetype": "text/x-python",
      "name": "python",
      "nbconvert_exporter": "python",
      "pygments_lexer": "ipython3",
      "version": "3.11.0 (main, Oct 24 2022, 18:26:48) [MSC v.1933 64 bit (AMD64)]"
    },
    "orig_nbformat": 4,
    "vscode": {
      "interpreter": {
        "hash": "dca27059b152db865dddc081daf6ee342367340671c15704bb42fb4fcf7d14fd"
      }
    },
    "colab": {
      "provenance": [],
      "include_colab_link": true
    }
  },
  "nbformat": 4,
  "nbformat_minor": 0
}