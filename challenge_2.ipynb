{
  "cells": [
    {
      "cell_type": "markdown",
      "metadata": {
        "id": "view-in-github",
        "colab_type": "text"
      },
      "source": [
        "<a href=\"https://colab.research.google.com/github/d0lev/API-Security-Detection/blob/main/challenge_2.ipynb\" target=\"_parent\"><img src=\"https://colab.research.google.com/assets/colab-badge.svg\" alt=\"Open In Colab\"/></a>"
      ]
    },
    {
      "cell_type": "markdown",
      "metadata": {
        "id": "ji1YusWZnj3i"
      },
      "source": [
        "# Cisco - Ariel University API Security Detection Challenge 2023\n",
        "### Imports and global settings"
      ]
    },
    {
      "cell_type": "code",
      "execution_count": null,
      "metadata": {
        "id": "1NwHJKXYntB-"
      },
      "outputs": [],
      "source": [
        "from google.colab import drive\n",
        "drive.mount('/content/drive')"
      ]
    },
    {
      "cell_type": "code",
      "execution_count": 3,
      "metadata": {
        "id": "y3yqWnwHoE-b"
      },
      "outputs": [],
      "source": [
        "import pandas as pd\n",
        "import seaborn as sns\n",
        "import numpy as np\n",
        "import json\n",
        "import matplotlib.pyplot as plt\n",
        "import matplotlib as mpl\n",
        "import seaborn as sns"
      ]
    },
    {
      "cell_type": "code",
      "execution_count": 4,
      "metadata": {
        "id": "gOctpCP4p7Xs"
      },
      "outputs": [],
      "source": [
        "from sklearn.feature_extraction.text import CountVectorizer, HashingVectorizer\n",
        "from sklearn.preprocessing import LabelEncoder\n",
        "from nltk import flatten\n",
        "from urllib.parse import urlparse"
      ]
    },
    {
      "cell_type": "code",
      "execution_count": 28,
      "metadata": {
        "id": "V9nGWcAXnj3l"
      },
      "outputs": [],
      "source": [
        "# Set pandas to show all columns when you print a dataframe\n",
        "pd.set_option('display.max_columns', None)\n",
        "\n",
        "# Global setting here you choose the dataset number and classification type for the model\n",
        "dataset_path = \"/content/drive/MyDrive/CiscoChallenge/Data/dataset_2_train.json\";\n",
        "test_type = 'label' # Options are ['label', 'attack_type']\n",
        "\n",
        "# Read the json and read it to a pandas dataframe object, you can change these settings\n",
        "with open(dataset_path) as file:\n",
        "    raw_ds = json.load(file)\n",
        "df = pd.json_normalize(raw_ds, max_level=2)"
      ]
    },
    {
      "cell_type": "markdown",
      "metadata": {
        "id": "cijdHMnjnj3n"
      },
      "source": [
        "# **Preprocessing**\n",
        "\n",
        "---\n",
        "At this step we will engineer the various features in the data set,  It involves transforming data to forms that better relate to the underlying target to be learned. \n",
        "In the data set, there are various attacks on the API, for this purpose, we will create a binary column that will describe whether or not any attack was carried out in each record"
      ]
    },
    {
      "cell_type": "code",
      "execution_count": 29,
      "metadata": {
        "id": "g0D-_6b8nj3o"
      },
      "outputs": [],
      "source": [
        "# Fill the black attack tag lines with \"Benign\" string\n",
        "df['request.Attack_Tag'] = df['request.Attack_Tag'].fillna('Benign')\n",
        "df['attack_type'] = df['request.Attack_Tag']\n",
        "\n",
        "for column in df.columns[df.isna().any()].tolist():\n",
        "    df[column] = df[column].fillna('None')\n",
        "\n",
        "# Any entry that contains a particular attack will be labeled malware.\n",
        "def categorize(row):  \n",
        "    if row['request.Attack_Tag'] == 'Benign': \n",
        "        return 'Benign'\n",
        "    return 'Malware'\n",
        "\n",
        "df['label'] = df.apply(lambda row: categorize(row), axis=1)\n",
        "\n",
        "# After finishing the arrangements we delete the irrelevant column\n",
        "df.drop('request.Attack_Tag', axis=1, inplace=True)"
      ]
    },
    {
      "cell_type": "code",
      "execution_count": 30,
      "metadata": {
        "colab": {
          "base_uri": "https://localhost:8080/",
          "height": 197
        },
        "id": "OgXnefTq4M0K",
        "outputId": "6f1fb581-b3b2-4c99-fdd4-4e5328580930"
      },
      "outputs": [
        {
          "output_type": "execute_result",
          "data": {
            "text/plain": [
              "  request.headers.Host                         request.headers.User-Agent  \\\n",
              "0       127.0.0.1:5000  Mozilla/5.0 (Windows NT 5.1; rv:31.0) Gecko/20...   \n",
              "\n",
              "  request.headers.Accept-Encoding request.headers.Accept  \\\n",
              "0               gzip, deflate, br                    */*   \n",
              "\n",
              "  request.headers.Connection request.headers.Accept-Language  \\\n",
              "0                 keep-alive                           de-CH   \n",
              "\n",
              "  request.headers.Sec-Fetch-Site request.headers.Sec-Fetch-Mode  \\\n",
              "0                           none                    same-origin   \n",
              "\n",
              "  request.headers.Sec-Fetch-User request.headers.Sec-Fetch-Dest  \\\n",
              "0                             ?1                       document   \n",
              "\n",
              "                          request.headers.Set-Cookie  \\\n",
              "0  ['ck=w6oM9XV_jvWjuuVd3hLe3eSdXXPydbyfsLwTlj4Mc...   \n",
              "\n",
              "            request.headers.Date request.method  \\\n",
              "0  Fri, 11 Nov 2022 03:12:09 GMT            GET   \n",
              "\n",
              "                                      request.url request.body  \\\n",
              "0  http://127.0.0.1:5000/static/download_txt/7115                \n",
              "\n",
              "  response.status response.headers.Content-Type  \\\n",
              "0   404 NOT FOUND              application/json   \n",
              "\n",
              "  response.headers.Content-Length  response.status_code  \\\n",
              "0                              32                   404   \n",
              "\n",
              "                 response.body response.headers.Location  \\\n",
              "0  {\"error\": \"File not found\"}                      None   \n",
              "\n",
              "  request.headers.Cookie request.headers.Content-Length  \\\n",
              "0                   None                           None   \n",
              "\n",
              "  response.headers.Set-Cookie attack_type   label  \n",
              "0                        None      Benign  Benign  "
            ],
            "text/html": [
              "\n",
              "  <div id=\"df-751fe45e-a8d1-4aca-908d-5a2359df37fa\">\n",
              "    <div class=\"colab-df-container\">\n",
              "      <div>\n",
              "<style scoped>\n",
              "    .dataframe tbody tr th:only-of-type {\n",
              "        vertical-align: middle;\n",
              "    }\n",
              "\n",
              "    .dataframe tbody tr th {\n",
              "        vertical-align: top;\n",
              "    }\n",
              "\n",
              "    .dataframe thead th {\n",
              "        text-align: right;\n",
              "    }\n",
              "</style>\n",
              "<table border=\"1\" class=\"dataframe\">\n",
              "  <thead>\n",
              "    <tr style=\"text-align: right;\">\n",
              "      <th></th>\n",
              "      <th>request.headers.Host</th>\n",
              "      <th>request.headers.User-Agent</th>\n",
              "      <th>request.headers.Accept-Encoding</th>\n",
              "      <th>request.headers.Accept</th>\n",
              "      <th>request.headers.Connection</th>\n",
              "      <th>request.headers.Accept-Language</th>\n",
              "      <th>request.headers.Sec-Fetch-Site</th>\n",
              "      <th>request.headers.Sec-Fetch-Mode</th>\n",
              "      <th>request.headers.Sec-Fetch-User</th>\n",
              "      <th>request.headers.Sec-Fetch-Dest</th>\n",
              "      <th>request.headers.Set-Cookie</th>\n",
              "      <th>request.headers.Date</th>\n",
              "      <th>request.method</th>\n",
              "      <th>request.url</th>\n",
              "      <th>request.body</th>\n",
              "      <th>response.status</th>\n",
              "      <th>response.headers.Content-Type</th>\n",
              "      <th>response.headers.Content-Length</th>\n",
              "      <th>response.status_code</th>\n",
              "      <th>response.body</th>\n",
              "      <th>response.headers.Location</th>\n",
              "      <th>request.headers.Cookie</th>\n",
              "      <th>request.headers.Content-Length</th>\n",
              "      <th>response.headers.Set-Cookie</th>\n",
              "      <th>attack_type</th>\n",
              "      <th>label</th>\n",
              "    </tr>\n",
              "  </thead>\n",
              "  <tbody>\n",
              "    <tr>\n",
              "      <th>0</th>\n",
              "      <td>127.0.0.1:5000</td>\n",
              "      <td>Mozilla/5.0 (Windows NT 5.1; rv:31.0) Gecko/20...</td>\n",
              "      <td>gzip, deflate, br</td>\n",
              "      <td>*/*</td>\n",
              "      <td>keep-alive</td>\n",
              "      <td>de-CH</td>\n",
              "      <td>none</td>\n",
              "      <td>same-origin</td>\n",
              "      <td>?1</td>\n",
              "      <td>document</td>\n",
              "      <td>['ck=w6oM9XV_jvWjuuVd3hLe3eSdXXPydbyfsLwTlj4Mc...</td>\n",
              "      <td>Fri, 11 Nov 2022 03:12:09 GMT</td>\n",
              "      <td>GET</td>\n",
              "      <td>http://127.0.0.1:5000/static/download_txt/7115</td>\n",
              "      <td></td>\n",
              "      <td>404 NOT FOUND</td>\n",
              "      <td>application/json</td>\n",
              "      <td>32</td>\n",
              "      <td>404</td>\n",
              "      <td>{\"error\": \"File not found\"}</td>\n",
              "      <td>None</td>\n",
              "      <td>None</td>\n",
              "      <td>None</td>\n",
              "      <td>None</td>\n",
              "      <td>Benign</td>\n",
              "      <td>Benign</td>\n",
              "    </tr>\n",
              "  </tbody>\n",
              "</table>\n",
              "</div>\n",
              "      <button class=\"colab-df-convert\" onclick=\"convertToInteractive('df-751fe45e-a8d1-4aca-908d-5a2359df37fa')\"\n",
              "              title=\"Convert this dataframe to an interactive table.\"\n",
              "              style=\"display:none;\">\n",
              "        \n",
              "  <svg xmlns=\"http://www.w3.org/2000/svg\" height=\"24px\"viewBox=\"0 0 24 24\"\n",
              "       width=\"24px\">\n",
              "    <path d=\"M0 0h24v24H0V0z\" fill=\"none\"/>\n",
              "    <path d=\"M18.56 5.44l.94 2.06.94-2.06 2.06-.94-2.06-.94-.94-2.06-.94 2.06-2.06.94zm-11 1L8.5 8.5l.94-2.06 2.06-.94-2.06-.94L8.5 2.5l-.94 2.06-2.06.94zm10 10l.94 2.06.94-2.06 2.06-.94-2.06-.94-.94-2.06-.94 2.06-2.06.94z\"/><path d=\"M17.41 7.96l-1.37-1.37c-.4-.4-.92-.59-1.43-.59-.52 0-1.04.2-1.43.59L10.3 9.45l-7.72 7.72c-.78.78-.78 2.05 0 2.83L4 21.41c.39.39.9.59 1.41.59.51 0 1.02-.2 1.41-.59l7.78-7.78 2.81-2.81c.8-.78.8-2.07 0-2.86zM5.41 20L4 18.59l7.72-7.72 1.47 1.35L5.41 20z\"/>\n",
              "  </svg>\n",
              "      </button>\n",
              "      \n",
              "  <style>\n",
              "    .colab-df-container {\n",
              "      display:flex;\n",
              "      flex-wrap:wrap;\n",
              "      gap: 12px;\n",
              "    }\n",
              "\n",
              "    .colab-df-convert {\n",
              "      background-color: #E8F0FE;\n",
              "      border: none;\n",
              "      border-radius: 50%;\n",
              "      cursor: pointer;\n",
              "      display: none;\n",
              "      fill: #1967D2;\n",
              "      height: 32px;\n",
              "      padding: 0 0 0 0;\n",
              "      width: 32px;\n",
              "    }\n",
              "\n",
              "    .colab-df-convert:hover {\n",
              "      background-color: #E2EBFA;\n",
              "      box-shadow: 0px 1px 2px rgba(60, 64, 67, 0.3), 0px 1px 3px 1px rgba(60, 64, 67, 0.15);\n",
              "      fill: #174EA6;\n",
              "    }\n",
              "\n",
              "    [theme=dark] .colab-df-convert {\n",
              "      background-color: #3B4455;\n",
              "      fill: #D2E3FC;\n",
              "    }\n",
              "\n",
              "    [theme=dark] .colab-df-convert:hover {\n",
              "      background-color: #434B5C;\n",
              "      box-shadow: 0px 1px 3px 1px rgba(0, 0, 0, 0.15);\n",
              "      filter: drop-shadow(0px 1px 2px rgba(0, 0, 0, 0.3));\n",
              "      fill: #FFFFFF;\n",
              "    }\n",
              "  </style>\n",
              "\n",
              "      <script>\n",
              "        const buttonEl =\n",
              "          document.querySelector('#df-751fe45e-a8d1-4aca-908d-5a2359df37fa button.colab-df-convert');\n",
              "        buttonEl.style.display =\n",
              "          google.colab.kernel.accessAllowed ? 'block' : 'none';\n",
              "\n",
              "        async function convertToInteractive(key) {\n",
              "          const element = document.querySelector('#df-751fe45e-a8d1-4aca-908d-5a2359df37fa');\n",
              "          const dataTable =\n",
              "            await google.colab.kernel.invokeFunction('convertToInteractive',\n",
              "                                                     [key], {});\n",
              "          if (!dataTable) return;\n",
              "\n",
              "          const docLinkHtml = 'Like what you see? Visit the ' +\n",
              "            '<a target=\"_blank\" href=https://colab.research.google.com/notebooks/data_table.ipynb>data table notebook</a>'\n",
              "            + ' to learn more about interactive tables.';\n",
              "          element.innerHTML = '';\n",
              "          dataTable['output_type'] = 'display_data';\n",
              "          await google.colab.output.renderOutput(dataTable, element);\n",
              "          const docLink = document.createElement('div');\n",
              "          docLink.innerHTML = docLinkHtml;\n",
              "          element.appendChild(docLink);\n",
              "        }\n",
              "      </script>\n",
              "    </div>\n",
              "  </div>\n",
              "  "
            ]
          },
          "metadata": {},
          "execution_count": 30
        }
      ],
      "source": [
        "df.head(1)"
      ]
    },
    {
      "cell_type": "markdown",
      "metadata": {
        "id": "GPQpNuCt2LbX"
      },
      "source": [
        "### **Dataset Description :**\n",
        "\n",
        "---\n",
        "Since the following data set is identical in its components compared to the first data set, the explanation of the data set and the methods can be found here: [notebook](https://github.com/d0lev/API-Security-Detection/blob/main/challenge_1.ipynb)"
      ]
    },
    {
      "cell_type": "markdown",
      "metadata": {
        "id": "OzzGlzD9T1eH"
      },
      "source": [
        "### **Classes distribution :**"
      ]
    },
    {
      "cell_type": "code",
      "execution_count": 8,
      "metadata": {
        "colab": {
          "base_uri": "https://localhost:8080/",
          "height": 265
        },
        "id": "baEo0l7iT-u-",
        "outputId": "cb38e533-84aa-4941-fc7c-216989610e8a"
      },
      "outputs": [
        {
          "output_type": "display_data",
          "data": {
            "text/plain": [
              "<Figure size 2016x288 with 1 Axes>"
            ],
            "image/png": "[encoded data removed]"
          },
          "metadata": {
            "needs_background": "light"
          }
        }
      ],
      "source": [
        "classes_distribution = df['label'].value_counts().to_frame().reset_index().to_numpy()\n",
        "\n",
        "features = [classes_distribution[0][0],classes_distribution[1][0]]\n",
        "values = [classes_distribution[0][1] , classes_distribution[1][1]]\n",
        "\n",
        "fig, ax = plt.subplots(figsize =(28, 4)) \n",
        "# Horizontal Bar Plot\n",
        "ax.barh(features, values)\n",
        "# Add x, y gridlines\n",
        "ax.grid(b = True, color ='grey',linestyle ='-.', linewidth = 0.5,alpha = 0.2)\n",
        "# Show top values\n",
        "ax.invert_yaxis()\n",
        "# Add annotation to bars\n",
        "counter = 0\n",
        "for i in ax.patches:\n",
        "    plt.text(i.get_width() + 100, i.get_y() + 0.5, str(round((i.get_width()), 2)),fontsize = 15, fontweight ='bold', color ='black')\n",
        "\n",
        "# Show Plot\n",
        "plt.show()\n"
      ]
    },
    {
      "cell_type": "markdown",
      "metadata": {
        "id": "mxqcBiQmirXy"
      },
      "source": [
        "As you can see, the data set is not balanced at all, and therefore we will have to use methods that handle this problem."
      ]
    },
    {
      "cell_type": "code",
      "execution_count": 9,
      "metadata": {
        "colab": {
          "base_uri": "https://localhost:8080/"
        },
        "id": "cZBtVL8HEh_E",
        "outputId": "bf254cbc-a6a9-4a2d-dde1-a07c50ec70a8"
      },
      "outputs": [
        {
          "output_type": "execute_result",
          "data": {
            "text/plain": [
              "(127500, 26)"
            ]
          },
          "metadata": {},
          "execution_count": 9
        }
      ],
      "source": [
        "df.shape"
      ]
    },
    {
      "cell_type": "markdown",
      "metadata": {
        "id": "pl2LQLu5Tstu"
      },
      "source": [
        "### **Feature Enginering :**\n"
      ]
    },
    {
      "cell_type": "code",
      "execution_count": 10,
      "metadata": {
        "id": "m9MdNC2nn_Sg"
      },
      "outputs": [],
      "source": [
        "# Iterate through the data set and check for each column what types it contains and their quantities.\n",
        "def non_unique_features(dataframe):\n",
        "  features , unique_values = ([],[])\n",
        "  same_value_features = []\n",
        "  for (col_name,col_value) in dataframe.iteritems():\n",
        "      if (col_name != \"label\" and col_name != \"attack_type\"):\n",
        "          features.append(col_name)\n",
        "          unique_values.append(len(np.unique(col_value)))\n",
        "          if(unique_values[-1] == 1):\n",
        "            # add the columns that contains one value for each record in the dataset\n",
        "            same_value_features.append(col_name)\n",
        "\n",
        "  return same_value_features"
      ]
    },
    {
      "cell_type": "markdown",
      "source": [
        "there are five attributes that contain the same value for all records in the dataset:\n",
        "1. `Host ip` from the request header\n",
        "2. `HTTP Accept` from the request header\n",
        "3. `Connection type` from the request header\n",
        "4. `Sec-Fetch-User` fetch metadata from the request header\n",
        "5. `Request body` from the request header\n",
        "\n",
        "It's not useful for building the model because it doesn't provide information that can help distinguish one record from another. In this case, we will remove the features from the dataset."
      ],
      "metadata": {
        "id": "2UeNUAIYEGWJ"
      }
    },
    {
      "cell_type": "code",
      "execution_count": 49,
      "metadata": {
        "colab": {
          "base_uri": "https://localhost:8080/",
          "height": 197
        },
        "id": "RxDlg11NBw32",
        "outputId": "41ba2ae3-61ce-436f-af34-567be8c9b921"
      },
      "outputs": [
        {
          "output_type": "execute_result",
          "data": {
            "text/plain": [
              "                          request.headers.User-Agent  \\\n",
              "0  Mozilla/5.0 (Windows NT 5.1; rv:31.0) Gecko/20...   \n",
              "\n",
              "  request.headers.Accept-Encoding request.headers.Accept-Language  \\\n",
              "0               gzip, deflate, br                           de-CH   \n",
              "\n",
              "  request.headers.Sec-Fetch-Site request.headers.Sec-Fetch-Mode  \\\n",
              "0                           none                    same-origin   \n",
              "\n",
              "  request.headers.Sec-Fetch-Dest  \\\n",
              "0                       document   \n",
              "\n",
              "                          request.headers.Set-Cookie  \\\n",
              "0  ['ck=w6oM9XV_jvWjuuVd3hLe3eSdXXPydbyfsLwTlj4Mc...   \n",
              "\n",
              "            request.headers.Date request.method  \\\n",
              "0  Fri, 11 Nov 2022 03:12:09 GMT            GET   \n",
              "\n",
              "                                      request.url response.status  \\\n",
              "0  http://127.0.0.1:5000/static/download_txt/7115   404 NOT FOUND   \n",
              "\n",
              "  response.headers.Content-Type response.headers.Content-Length  \\\n",
              "0              application/json                              32   \n",
              "\n",
              "   response.status_code                response.body  \\\n",
              "0                   404  {\"error\": \"File not found\"}   \n",
              "\n",
              "  response.headers.Location request.headers.Cookie  \\\n",
              "0                      None                   None   \n",
              "\n",
              "  request.headers.Content-Length response.headers.Set-Cookie attack_type  \\\n",
              "0                           None                        None      Benign   \n",
              "\n",
              "    label  \n",
              "0  Benign  "
            ],
            "text/html": [
              "\n",
              "  <div id=\"df-bd80aafa-072f-4352-b617-bf96fe9f2b0d\">\n",
              "    <div class=\"colab-df-container\">\n",
              "      <div>\n",
              "<style scoped>\n",
              "    .dataframe tbody tr th:only-of-type {\n",
              "        vertical-align: middle;\n",
              "    }\n",
              "\n",
              "    .dataframe tbody tr th {\n",
              "        vertical-align: top;\n",
              "    }\n",
              "\n",
              "    .dataframe thead th {\n",
              "        text-align: right;\n",
              "    }\n",
              "</style>\n",
              "<table border=\"1\" class=\"dataframe\">\n",
              "  <thead>\n",
              "    <tr style=\"text-align: right;\">\n",
              "      <th></th>\n",
              "      <th>request.headers.User-Agent</th>\n",
              "      <th>request.headers.Accept-Encoding</th>\n",
              "      <th>request.headers.Accept-Language</th>\n",
              "      <th>request.headers.Sec-Fetch-Site</th>\n",
              "      <th>request.headers.Sec-Fetch-Mode</th>\n",
              "      <th>request.headers.Sec-Fetch-Dest</th>\n",
              "      <th>request.headers.Set-Cookie</th>\n",
              "      <th>request.headers.Date</th>\n",
              "      <th>request.method</th>\n",
              "      <th>request.url</th>\n",
              "      <th>response.status</th>\n",
              "      <th>response.headers.Content-Type</th>\n",
              "      <th>response.headers.Content-Length</th>\n",
              "      <th>response.status_code</th>\n",
              "      <th>response.body</th>\n",
              "      <th>response.headers.Location</th>\n",
              "      <th>request.headers.Cookie</th>\n",
              "      <th>request.headers.Content-Length</th>\n",
              "      <th>response.headers.Set-Cookie</th>\n",
              "      <th>attack_type</th>\n",
              "      <th>label</th>\n",
              "    </tr>\n",
              "  </thead>\n",
              "  <tbody>\n",
              "    <tr>\n",
              "      <th>0</th>\n",
              "      <td>Mozilla/5.0 (Windows NT 5.1; rv:31.0) Gecko/20...</td>\n",
              "      <td>gzip, deflate, br</td>\n",
              "      <td>de-CH</td>\n",
              "      <td>none</td>\n",
              "      <td>same-origin</td>\n",
              "      <td>document</td>\n",
              "      <td>['ck=w6oM9XV_jvWjuuVd3hLe3eSdXXPydbyfsLwTlj4Mc...</td>\n",
              "      <td>Fri, 11 Nov 2022 03:12:09 GMT</td>\n",
              "      <td>GET</td>\n",
              "      <td>http://127.0.0.1:5000/static/download_txt/7115</td>\n",
              "      <td>404 NOT FOUND</td>\n",
              "      <td>application/json</td>\n",
              "      <td>32</td>\n",
              "      <td>404</td>\n",
              "      <td>{\"error\": \"File not found\"}</td>\n",
              "      <td>None</td>\n",
              "      <td>None</td>\n",
              "      <td>None</td>\n",
              "      <td>None</td>\n",
              "      <td>Benign</td>\n",
              "      <td>Benign</td>\n",
              "    </tr>\n",
              "  </tbody>\n",
              "</table>\n",
              "</div>\n",
              "      <button class=\"colab-df-convert\" onclick=\"convertToInteractive('df-bd80aafa-072f-4352-b617-bf96fe9f2b0d')\"\n",
              "              title=\"Convert this dataframe to an interactive table.\"\n",
              "              style=\"display:none;\">\n",
              "        \n",
              "  <svg xmlns=\"http://www.w3.org/2000/svg\" height=\"24px\"viewBox=\"0 0 24 24\"\n",
              "       width=\"24px\">\n",
              "    <path d=\"M0 0h24v24H0V0z\" fill=\"none\"/>\n",
              "    <path d=\"M18.56 5.44l.94 2.06.94-2.06 2.06-.94-2.06-.94-.94-2.06-.94 2.06-2.06.94zm-11 1L8.5 8.5l.94-2.06 2.06-.94-2.06-.94L8.5 2.5l-.94 2.06-2.06.94zm10 10l.94 2.06.94-2.06 2.06-.94-2.06-.94-.94-2.06-.94 2.06-2.06.94z\"/><path d=\"M17.41 7.96l-1.37-1.37c-.4-.4-.92-.59-1.43-.59-.52 0-1.04.2-1.43.59L10.3 9.45l-7.72 7.72c-.78.78-.78 2.05 0 2.83L4 21.41c.39.39.9.59 1.41.59.51 0 1.02-.2 1.41-.59l7.78-7.78 2.81-2.81c.8-.78.8-2.07 0-2.86zM5.41 20L4 18.59l7.72-7.72 1.47 1.35L5.41 20z\"/>\n",
              "  </svg>\n",
              "      </button>\n",
              "      \n",
              "  <style>\n",
              "    .colab-df-container {\n",
              "      display:flex;\n",
              "      flex-wrap:wrap;\n",
              "      gap: 12px;\n",
              "    }\n",
              "\n",
              "    .colab-df-convert {\n",
              "      background-color: #E8F0FE;\n",
              "      border: none;\n",
              "      border-radius: 50%;\n",
              "      cursor: pointer;\n",
              "      display: none;\n",
              "      fill: #1967D2;\n",
              "      height: 32px;\n",
              "      padding: 0 0 0 0;\n",
              "      width: 32px;\n",
              "    }\n",
              "\n",
              "    .colab-df-convert:hover {\n",
              "      background-color: #E2EBFA;\n",
              "      box-shadow: 0px 1px 2px rgba(60, 64, 67, 0.3), 0px 1px 3px 1px rgba(60, 64, 67, 0.15);\n",
              "      fill: #174EA6;\n",
              "    }\n",
              "\n",
              "    [theme=dark] .colab-df-convert {\n",
              "      background-color: #3B4455;\n",
              "      fill: #D2E3FC;\n",
              "    }\n",
              "\n",
              "    [theme=dark] .colab-df-convert:hover {\n",
              "      background-color: #434B5C;\n",
              "      box-shadow: 0px 1px 3px 1px rgba(0, 0, 0, 0.15);\n",
              "      filter: drop-shadow(0px 1px 2px rgba(0, 0, 0, 0.3));\n",
              "      fill: #FFFFFF;\n",
              "    }\n",
              "  </style>\n",
              "\n",
              "      <script>\n",
              "        const buttonEl =\n",
              "          document.querySelector('#df-bd80aafa-072f-4352-b617-bf96fe9f2b0d button.colab-df-convert');\n",
              "        buttonEl.style.display =\n",
              "          google.colab.kernel.accessAllowed ? 'block' : 'none';\n",
              "\n",
              "        async function convertToInteractive(key) {\n",
              "          const element = document.querySelector('#df-bd80aafa-072f-4352-b617-bf96fe9f2b0d');\n",
              "          const dataTable =\n",
              "            await google.colab.kernel.invokeFunction('convertToInteractive',\n",
              "                                                     [key], {});\n",
              "          if (!dataTable) return;\n",
              "\n",
              "          const docLinkHtml = 'Like what you see? Visit the ' +\n",
              "            '<a target=\"_blank\" href=https://colab.research.google.com/notebooks/data_table.ipynb>data table notebook</a>'\n",
              "            + ' to learn more about interactive tables.';\n",
              "          element.innerHTML = '';\n",
              "          dataTable['output_type'] = 'display_data';\n",
              "          await google.colab.output.renderOutput(dataTable, element);\n",
              "          const docLink = document.createElement('div');\n",
              "          docLink.innerHTML = docLinkHtml;\n",
              "          element.appendChild(docLink);\n",
              "        }\n",
              "      </script>\n",
              "    </div>\n",
              "  </div>\n",
              "  "
            ]
          },
          "metadata": {},
          "execution_count": 49
        }
      ],
      "source": [
        "dataset = df.drop(non_unique_features(df), axis = 1)\n",
        "dataset.head(1)"
      ]
    },
    {
      "cell_type": "code",
      "execution_count": 12,
      "metadata": {
        "id": "8aIfme0dQJF9"
      },
      "outputs": [],
      "source": [
        "from sklearn.decomposition import PCA\n",
        "from sklearn.feature_extraction.text import CountVectorizer\n",
        "from sklearn import preprocessing\n",
        "from sklearn.feature_extraction.text import TfidfVectorizer\n",
        "\n",
        "\n",
        "# We tried to use Tf-Idf encoding in order to better describe the categorical features,\n",
        "# and we saw that the results were lower for this method.\n",
        "def n_gram(dataframe , column):  \n",
        "    # Create the n-grams\n",
        "    ngram_vectorizer = CountVectorizer(ngram_range=(1, 2))\n",
        "    X_ngrams = ngram_vectorizer.fit_transform(dataframe[column])\n",
        "\n",
        "    # Convert the n-grams to a DataFrame\n",
        "    X_ngrams_df = pd.DataFrame(X_ngrams.toarray(), columns=ngram_vectorizer.get_feature_names_out())\n",
        "    min_max_scaler = preprocessing.MinMaxScaler()\n",
        "\n",
        "    X_ngrams_df = min_max_scaler.fit_transform(X_ngrams_df)\n",
        "\n",
        "    plt.rcParams[\"figure.figsize\"] = (15,3)\n",
        "    pca_test = PCA(n_components = 0.99)\n",
        "    pca_test.fit(X_ngrams_df)\n",
        "    plt.plot(np.cumsum(pca_test.explained_variance_ratio_))\n",
        "\n",
        "    pca = PCA(n_components = 25)\n",
        "    principal_components = pca.fit_transform(X_ngrams_df)\n",
        "\n",
        "    reduced_dataset = pd.DataFrame(data = principal_components , columns = [\"pca\" + str(i + 1) for i in range(0,25)])\n",
        "    return reduced_dataset\n",
        "    \n",
        "def tf_idf_user_agent(dataframe):\n",
        "    dataframe.reset_index(drop=True, inplace=True)\n",
        "    v = TfidfVectorizer()\n",
        "    x = v.fit_transform(dataframe['request.headers.User-Agent'])\n",
        "    df1 = pd.DataFrame(x.toarray(), columns=v.get_feature_names())\n",
        "    df1.reset_index(drop=True, inplace=True)\n",
        "    dataframe.drop('request.headers.User-Agent',axis=1, inplace=True)\n",
        "    dataframe = pd.concat([df1 , dataframe], axis=1)\n",
        "\n",
        "    return dataframe"
      ]
    },
    {
      "cell_type": "markdown",
      "source": [
        "The `request.headers.Cookie` , contains more than 39 unique values which represent stored HTTP cookies associated with the server, Therefore,I thought of splitting the feature into three features: the first user's name, the second user's name, and the number of users.\n",
        "\n",
        "---\n"
      ],
      "metadata": {
        "id": "eNbHbBs1EqcV"
      }
    },
    {
      "cell_type": "code",
      "execution_count": 13,
      "metadata": {
        "id": "lwXrEb05JSfc"
      },
      "outputs": [],
      "source": [
        "def cookie_parsing(dataframe):\n",
        "  cookies = dataframe['request.headers.Cookie'].tolist()\n",
        "  columns = ['user1','user2',\"n_users\"]\n",
        "  cookie_dataset = []\n",
        "\n",
        "  for cookie in cookies:\n",
        "    if cookie == \"None\":\n",
        "      cookie_dataset.append([0,0,0])\n",
        "    else:\n",
        "      cookie = cookie.replace(\"username=\",\"\")\n",
        "      cookie_p = cookie.split(\";\")\n",
        "      if len(cookie_p) == 2:\n",
        "        cookie_p.append(2)\n",
        "        cookie_dataset.append(cookie_p)\n",
        "      else:\n",
        "        cookie_p.append(0)\n",
        "        cookie_p.append(1)\n",
        "        cookie_dataset.append(cookie_p)\n",
        "\n",
        "  cookie_dataset = pd.DataFrame(cookie_dataset, columns = columns,dtype = str) \n",
        "  cookie_dataset['n_users'] = pd.to_numeric(cookie_dataset['n_users'])\n",
        "\n",
        "  return cookie_dataset"
      ]
    },
    {
      "cell_type": "markdown",
      "source": [
        "The `request.url` is an address that contains the information needed to access the server resources.I thought about taking the same address and splitting it according to its different characteristics by a library called urlparse, each address will be represented by the following four attributes:\n",
        "the scheme, netloc, path, params, query, and fragment.\n",
        "After this conversion was done, we noticed that the attributes params and fragments contain only values for each address, so we preferred to delete them.\n",
        "\n",
        "---\n",
        "\n"
      ],
      "metadata": {
        "id": "2U48Yzt1Et0I"
      }
    },
    {
      "cell_type": "code",
      "execution_count": 14,
      "metadata": {
        "id": "EaSAo0G6zbBN"
      },
      "outputs": [],
      "source": [
        "def url_parsing(dataframe):\n",
        "  urls = dataframe['request.url'].tolist()\n",
        "  columns = [\"scheme\",\"netloc\",\"path\",\"params\",\"query\",\"fragment\"]\n",
        "  url_dataset = []\n",
        "\n",
        "  for url in urls:\n",
        "    parsed_url = []\n",
        "    url_p = urlparse(url)\n",
        "    for index in range(len(url_p)):\n",
        "        parsed_url.append(url_p[index])\n",
        "    \n",
        "    flattened_list = flatten(parsed_url)\n",
        "    url_dataset.append(flattened_list)\n",
        "\n",
        "  url_dataset = pd.DataFrame(url_dataset, columns = columns,dtype = str) \n",
        "  url_dataset.drop(['params','fragment'],axis = 1,inplace = True)\n",
        "\n",
        "  return url_dataset"
      ]
    },
    {
      "cell_type": "markdown",
      "source": [
        "This function used to arrange the data set in such a way that if one column splits into several columns - it takes care of uniting them back into one data set.\n",
        "\n",
        "---\n"
      ],
      "metadata": {
        "id": "LY213AyEE9G5"
      }
    },
    {
      "cell_type": "code",
      "execution_count": 15,
      "metadata": {
        "id": "R-Cnkt3lShZV"
      },
      "outputs": [],
      "source": [
        "def dataset_arrange(dataframe , embeddings ,index):\n",
        "  first_n_column  = dataframe.iloc[: , : index]\n",
        "  second_n_column = dataframe.iloc[: ,index + 1:]\n",
        "  first_n_column = first_n_column.join(embeddings)\n",
        "  dataframe = first_n_column.join(second_n_column)\n",
        "\n",
        "  return dataframe"
      ]
    },
    {
      "cell_type": "markdown",
      "metadata": {
        "id": "mUa46oTWeDmP"
      },
      "source": [
        "The `response.headers.Content-Length` feature contains multiple string that represents the length of the content that send from the host, therfore we will convert them to numeric values.\n",
        "\n",
        "Also, we will convert the `response.status_code` feature which contains the code that represents the host's successful or unsuccessful response.\n",
        "\n",
        "---\n"
      ]
    },
    {
      "cell_type": "code",
      "execution_count": 16,
      "metadata": {
        "id": "5R3U6Citdyj4"
      },
      "outputs": [],
      "source": [
        "def numeric_transform(dataframe):\n",
        "  columns = ['response.headers.Content-Length','response.status_code']\n",
        "  for col_name in columns:\n",
        "      dataframe[col_name] = pd.to_numeric(dataframe[col_name])\n",
        "  return dataframe"
      ]
    },
    {
      "cell_type": "markdown",
      "metadata": {
        "id": "UEIUHAj4FzVF"
      },
      "source": [
        "There are some features that contain in their content two different types of information, one with a URL address and the other without. We will try to turn these columns into numeric values by setting 1 for a record that contains a URL in the same feature, and 0 otherwise."
      ]
    },
    {
      "cell_type": "code",
      "execution_count": 17,
      "metadata": {
        "id": "acMmx5M1unB5"
      },
      "outputs": [],
      "source": [
        "def contain_url(dataframe):\n",
        "  columns = ['request.headers.Sec-Fetch-Dest','request.headers.Sec-Fetch-Site']\n",
        "  for col_name in columns:\n",
        "      dataframe[col_name] = np.where(dataframe[col_name].str.contains(\"jndi\"), 1, 0)\n",
        "\n",
        "  return dataframe"
      ]
    },
    {
      "cell_type": "markdown",
      "metadata": {
        "id": "Wr1VpKXTOTkm"
      },
      "source": [
        "### **Dealing with missing values :**\n"
      ]
    },
    {
      "cell_type": "code",
      "execution_count": 18,
      "metadata": {
        "colab": {
          "base_uri": "https://localhost:8080/"
        },
        "id": "HDeraf0D9Le3",
        "outputId": "31144a83-6258-4296-b499-9ca93144b817"
      },
      "outputs": [
        {
          "output_type": "execute_result",
          "data": {
            "text/plain": [
              "Series([], dtype: float64)"
            ]
          },
          "metadata": {},
          "execution_count": 18
        }
      ],
      "source": [
        "means = dataset.isnull().mean()\n",
        "percentages = means[means > 0].round(4).mul(100).sort_values(ascending=False)\n",
        "percentages"
      ]
    },
    {
      "cell_type": "markdown",
      "metadata": {
        "id": "IA_6J8JxdS2V"
      },
      "source": [
        "### **Dealing with categorical features**"
      ]
    },
    {
      "cell_type": "code",
      "execution_count": 19,
      "metadata": {
        "id": "TsCtHc8ItWhS"
      },
      "outputs": [],
      "source": [
        "from sklearn.model_selection import train_test_split\n",
        "from sklearn.metrics import confusion_matrix, classification_report\n",
        "from collections import Counter\n",
        "import xgboost as xgb"
      ]
    },
    {
      "cell_type": "code",
      "execution_count": 48,
      "metadata": {
        "id": "YptHJ3P-nj3p"
      },
      "outputs": [],
      "source": [
        "# Setting features for further feature extraction by choosing columns\n",
        "# Some will be \"simply\" encoded via label encoding and others with HashingVectorizer\n",
        "\n",
        "# On these headers we will run a \"simple\" BOW\n",
        "SIMPLE_HEADERS = [\n",
        "                'request.headers.User-Agent','request.headers.Accept-Encoding',\n",
        "                'request.headers.Accept-Language',\n",
        "                'response.headers.Content-Type',\n",
        "                'request.headers.Sec-Fetch-Site',\n",
        "                'n_users',\n",
        "                'request.headers.Sec-Fetch-Mode',\n",
        "                ]\n",
        "\n",
        "# On these headers we will run HashingVectorizer\n",
        "COMPLEX_HEADERS = [\n",
        "                    'user1','user2','path','query','response.headers.Set-Cookie',\n",
        "                    'response.headers.Location','request.method',\n",
        "                    'request.headers.Set-Cookie',\n",
        "                    'response.body',\n",
        "                    ]\n",
        "\n",
        "COLUMNS_TO_REMOVE = ['request.headers.Date','response.status','scheme','netloc','request.headers.Content-Length']\n",
        "\n",
        "# This is our main preprocessing function that will iterate over all of the chosen \n",
        "# columns and run some feature extraction models\n",
        "def vectorize_df(df):\n",
        "    cookies = cookie_parsing(df)\n",
        "    urls = url_parsing(df)\n",
        "    df = dataset_arrange(df , cookies ,df.columns.get_loc(\"request.headers.Cookie\"))\n",
        "    df = dataset_arrange(df , urls ,df.columns.get_loc(\"request.url\"))\n",
        "    df = contain_url(df) ## create a column that represent indicator for url in the accept encoding\n",
        "    df = numeric_transform(df)\n",
        "    # df = one_hot_content_type(df)\n",
        "\n",
        "    le = LabelEncoder()\n",
        "    h_vec = HashingVectorizer(n_features=2)\n",
        "\n",
        "    # Run LabelEncoder on the chosen features\n",
        "    for column in SIMPLE_HEADERS: \n",
        "        df[column] = le.fit_transform(df[column])\n",
        "    \n",
        "    # Run HashingVectorizer on the chosen features\n",
        "    for column in COMPLEX_HEADERS: \n",
        "        newHVec = h_vec.fit_transform(df[column])\n",
        "        df[column] = newHVec.todense()\n",
        "\n",
        "    # Remove some columns that may be needed.. (Or not, you decide)\n",
        "    for column in COLUMNS_TO_REMOVE: \n",
        "        df.drop(column, axis=1, inplace=True)\n",
        "    return df"
      ]
    },
    {
      "cell_type": "code",
      "execution_count": 50,
      "metadata": {
        "id": "devkfe7yTAsQ"
      },
      "outputs": [],
      "source": [
        "dataset = vectorize_df(dataset)"
      ]
    },
    {
      "cell_type": "code",
      "execution_count": null,
      "metadata": {
        "id": "xNt0UlH2Ue0u"
      },
      "outputs": [],
      "source": [
        "dataset.head(1)"
      ]
    },
    {
      "cell_type": "code",
      "execution_count": null,
      "metadata": {
        "id": "tBJ-EWb-nj3q"
      },
      "outputs": [],
      "source": [
        "# Memory check (For large datasets sometimes the dataframe will exceed the computers resources)\n",
        "dataset.info(memory_usage=\"deep\")"
      ]
    },
    {
      "cell_type": "code",
      "execution_count": null,
      "metadata": {
        "id": "FeoVlAgdnj3r"
      },
      "outputs": [],
      "source": [
        "features_list = dataset.columns.to_list()\n",
        "features_list.remove('label')\n",
        "features_list.remove('attack_type')\n",
        "\n",
        "print(features_list)\n",
        "print(len(features_list))\n",
        "# Recheck all datatype before training to see we don't have any objects in our features\n",
        "# In this example our model must get features containing only numbers so we recheck to see if we missed anything during preprocessing\n",
        "dataset.dtypes"
      ]
    },
    {
      "cell_type": "markdown",
      "metadata": {
        "id": "y7yvXdnH65MF"
      },
      "source": [
        "### **Dealing with imbalanced dataset**\n",
        "\n",
        "---\n",
        "\n"
      ]
    },
    {
      "cell_type": "markdown",
      "metadata": {
        "id": "3WFeNSNnUFpi"
      },
      "source": [
        "> ### 3. **Ensemble methods :**"
      ]
    },
    {
      "cell_type": "code",
      "execution_count": 53,
      "metadata": {
        "id": "xXpkrribjWIn"
      },
      "outputs": [],
      "source": [
        "from sklearn.ensemble import RandomForestClassifier, GradientBoostingClassifier\n",
        "from sklearn.svm import SVC\n",
        "from sklearn.model_selection import train_test_split\n",
        "from imblearn.over_sampling import SMOTE\n",
        "from imblearn.under_sampling import RandomUnderSampler\n",
        "from sklearn.model_selection import GridSearchCV\n",
        "\n",
        "# Load the data\n",
        "X = dataset[features_list]\n",
        "y = dataset['label']\n",
        "\n",
        "# Split the data into training and test sets\n",
        "X_train, X_test, y_train, y_test = train_test_split(X, y, test_size=0.1, random_state=42)\n",
        "\n",
        "# Use undersampling to balance the training data\n",
        "smote = SMOTE(random_state=42)\n",
        "X_train_smoted, y_train_smoted = smote.fit_resample(X_train, y_train)\n",
        "\n",
        "# Create the base models\n",
        "model_1 = RandomForestClassifier(random_state=42)\n",
        "model_2 = GradientBoostingClassifier(random_state=42)\n",
        "model_3 = SVC(random_state=42)"
      ]
    },
    {
      "cell_type": "code",
      "execution_count": null,
      "metadata": {
        "colab": {
          "background_save": true
        },
        "id": "p0UqmJTjemUW",
        "outputId": "a87140eb-7bf9-4e72-fbe7-631fe273ba24"
      },
      "outputs": [
        {
          "name": "stdout",
          "output_type": "stream",
          "text": [
            "Best learning rate: 0.3\n",
            "Best maximum depth: 5\n",
            "Best subsample rate: 0.6\n",
            "Best subsample rate: 20\n"
          ]
        }
      ],
      "source": [
        "# # Define the hyperparameter grid\n",
        "# clf = xgb.XGBClassifier()\n",
        "# param_grid = {\n",
        "#     'learning_rate': [0.1, 0.2, 0.3],\n",
        "#     'max_depth': [3, 4, 5],\n",
        "#     'subsample': [0.5, 0.6, 0.7],\n",
        "#     'scale_pos_weight' : [5 , 10 , 15 , 20 , 25 , 30]\n",
        "# }\n",
        "\n",
        "# # Set up the GridSearchCV object\n",
        "# grid_search = GridSearchCV(clf, param_grid, cv=5, scoring='roc_auc', n_jobs=-1)\n",
        "\n",
        "# # Fit the model to the training data\n",
        "# grid_search.fit(X_train_smoted, y_train_smoted)\n",
        "\n",
        "# # Print the best hyperparameter values\n",
        "# print('Best learning rate:', grid_search.best_params_['learning_rate'])\n",
        "# print('Best maximum depth:', grid_search.best_params_['max_depth'])\n",
        "# print('Best subsample rate:', grid_search.best_params_['subsample'])\n",
        "# print('Best subsample rate:', grid_search.best_params_['scale_pos_weight'])"
      ]
    },
    {
      "cell_type": "code",
      "execution_count": 55,
      "metadata": {
        "colab": {
          "base_uri": "https://localhost:8080/",
          "height": 641
        },
        "id": "wg1fDNVihWUq",
        "outputId": "2116ed2e-fc38-4da6-9ecd-745280245432"
      },
      "outputs": [
        {
          "output_type": "stream",
          "name": "stdout",
          "text": [
            "              precision    recall  f1-score   support\n",
            "\n",
            "      Benign    0.99461   0.98778   0.99118     11780\n",
            "     Malware    0.86299   0.93505   0.89758       970\n",
            "\n",
            "    accuracy                        0.98376     12750\n",
            "   macro avg    0.92880   0.96141   0.94438     12750\n",
            "weighted avg    0.98460   0.98376   0.98406     12750\n",
            "\n"
          ]
        },
        {
          "output_type": "display_data",
          "data": {
            "text/plain": [
              "<Figure size 1080x576 with 2 Axes>"
            ],
            "image/png": "[encoded data removed]"
          },
          "metadata": {}
        }
      ],
      "source": [
        "clf = xgb.XGBClassifier(base_estimator=[model_1, model_2, model_3] , learning_rate = 0.2,max_depth = 5,subsample = 0.6,reg_lambda=1.5, reg_alpha=0.5 , scale_pos_weight = 15)\n",
        "clf.fit(X_train, y_train)\n",
        "\n",
        "# We print our results\n",
        "sns.set(rc={'figure.figsize':(15,8)})\n",
        "predictions = clf.predict(X_test)\n",
        "true_labels = y_test\n",
        "cf_matrix = confusion_matrix(true_labels, predictions)\n",
        "clf_report = classification_report(true_labels, predictions, digits=5)\n",
        "heatmap = sns.heatmap(cf_matrix, annot=True, cmap='Blues', fmt='g', \n",
        "                      xticklabels=np.unique(true_labels), \n",
        "                      yticklabels=np.unique(true_labels)) \n",
        "\n",
        "# The heatmap is cool but this is the most important result\n",
        "print(clf_report)"
      ]
    },
    {
      "cell_type": "markdown",
      "metadata": {
        "id": "Z-izNF_xnj3u"
      },
      "source": [
        "# Test"
      ]
    },
    {
      "cell_type": "code",
      "execution_count": null,
      "metadata": {
        "id": "IuvHz-TKnj3v"
      },
      "outputs": [],
      "source": [
        "with open(\"/content/drive/MyDrive/CiscoChallenge/Data/dataset_2_val.json\") as file:\n",
        "    raw_ds = json.load(file)\n",
        "\n",
        "test_df = pd.json_normalize(raw_ds, max_level=2)\n",
        "\n",
        "for column in test_df.columns[test_df.isna().any()].tolist():\n",
        "    test_df[column] = test_df[column].fillna('None')\n",
        "\n",
        "test_df = test_df.drop(non_unique_features(df), axis = 1)\n",
        "test_df = vectorize_df(test_df)\n",
        "# test_df = test_df.drop(delete_features,axis = 1)"
      ]
    },
    {
      "cell_type": "code",
      "execution_count": null,
      "metadata": {
        "id": "q2ODReVt1r99"
      },
      "outputs": [],
      "source": [
        "X = test_df[features_list]\n",
        "predictions = clf.predict(X)"
      ]
    },
    {
      "cell_type": "code",
      "execution_count": null,
      "metadata": {
        "id": "pxussZ4IJLrK"
      },
      "outputs": [],
      "source": [
        "malware = 0\n",
        "benign = 0\n",
        "for p in predictions:\n",
        "  if p == 1:\n",
        "     malware = malware + 1\n",
        "  else:\n",
        "     benign = benign + 1"
      ]
    },
    {
      "cell_type": "code",
      "execution_count": null,
      "metadata": {
        "colab": {
          "base_uri": "https://localhost:8080/"
        },
        "id": "X1_Oxsu3JbVy",
        "outputId": "463996a6-9448-4cc9-e8aa-81b27b5756d6"
      },
      "outputs": [
        {
          "name": "stdout",
          "output_type": "stream",
          "text": [
            "1852\n",
            "20648\n"
          ]
        }
      ],
      "source": [
        "print(malware)\n",
        "print(benign)"
      ]
    },
    {
      "cell_type": "markdown",
      "metadata": {
        "id": "B6un2EOBnj3v"
      },
      "source": [
        "# Save your predictions"
      ]
    },
    {
      "cell_type": "code",
      "execution_count": null,
      "metadata": {
        "id": "xHgdaQktnj3v"
      },
      "outputs": [],
      "source": [
        "# Save your preditions\n",
        "enc = LabelEncoder()\n",
        "np.savetxt(f'/content/drive/MyDrive/CiscoChallenge/dataset_2_{test_type}_result.txt', enc.fit_transform(predictions), fmt='%2d')"
      ]
    }
  ],
  "metadata": {
    "colab": {
      "collapsed_sections": [
        "GPQpNuCt2LbX"
      ],
      "machine_shape": "hm",
      "provenance": [],
      "include_colab_link": true
    },
    "gpuClass": "premium",
    "kernelspec": {
      "display_name": "Python 3",
      "language": "python",
      "name": "python3"
    },
    "language_info": {
      "codemirror_mode": {
        "name": "ipython",
        "version": 3
      },
      "file_extension": ".py",
      "mimetype": "text/x-python",
      "name": "python",
      "nbconvert_exporter": "python",
      "pygments_lexer": "ipython3",
      "version": "3.11.0 (main, Oct 24 2022, 18:26:48) [MSC v.1933 64 bit (AMD64)]"
    },
    "vscode": {
      "interpreter": {
        "hash": "dca27059b152db865dddc081daf6ee342367340671c15704bb42fb4fcf7d14fd"
      }
    }
  },
  "nbformat": 4,
  "nbformat_minor": 0
}