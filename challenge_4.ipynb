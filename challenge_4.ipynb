{
  "cells": [
    {
      "cell_type": "markdown",
      "metadata": {
        "id": "view-in-github",
        "colab_type": "text"
      },
      "source": [
        "<a href=\"https://colab.research.google.com/github/d0lev/API-Security-Detection/blob/main/challenge_4.ipynb\" target=\"_parent\"><img src=\"https://colab.research.google.com/assets/colab-badge.svg\" alt=\"Open In Colab\"/></a>"
      ]
    },
    {
      "cell_type": "markdown",
      "metadata": {
        "id": "ji1YusWZnj3i"
      },
      "source": [
        "# Cisco - Ariel University API Security Detection Challenge 2023\n",
        "### Imports and global settings"
      ]
    },
    {
      "cell_type": "code",
      "source": [
        "from google.colab import drive\n",
        "drive.mount('/content/drive')"
      ],
      "metadata": {
        "id": "1NwHJKXYntB-",
        "colab": {
          "base_uri": "https://localhost:8080/"
        },
        "outputId": "55466752-ac41-4471-b2e7-5765ff6f1ee7"
      },
      "execution_count": 1,
      "outputs": [
        {
          "output_type": "stream",
          "name": "stdout",
          "text": [
            "Mounted at /content/drive\n"
          ]
        }
      ]
    },
    {
      "cell_type": "code",
      "source": [
        "import pandas as pd\n",
        "import seaborn as sns\n",
        "import numpy as np\n",
        "import json\n",
        "import matplotlib.pyplot as plt\n",
        "import matplotlib as mpl\n",
        "import seaborn as sns"
      ],
      "metadata": {
        "id": "y3yqWnwHoE-b"
      },
      "execution_count": 2,
      "outputs": []
    },
    {
      "cell_type": "code",
      "source": [
        "from sklearn.feature_extraction.text import CountVectorizer, HashingVectorizer\n",
        "from sklearn.preprocessing import LabelEncoder\n",
        "from nltk import flatten\n",
        "from urllib.parse import urlparse"
      ],
      "metadata": {
        "id": "gOctpCP4p7Xs"
      },
      "execution_count": 3,
      "outputs": []
    },
    {
      "cell_type": "code",
      "execution_count": 5,
      "metadata": {
        "id": "V9nGWcAXnj3l"
      },
      "outputs": [],
      "source": [
        "# Set pandas to show all columns when you print a dataframe\n",
        "pd.set_option('display.max_columns', None)\n",
        "\n",
        "# Global setting here you choose the dataset number and classification type for the model\n",
        "dataset_path = \"/content/drive/MyDrive/CiscoChallenge/Data/dataset_4_train.json\";\n",
        "test_type = ''label'' # Options are ['label', 'attack_type']\n",
        "\n",
        "# Read the json and read it to a pandas dataframe object, you can change these settings\n",
        "with open(dataset_path) as file:\n",
        "    raw_ds = json.load(file)\n",
        "df = pd.json_normalize(raw_ds, max_level=2)"
      ]
    },
    {
      "cell_type": "markdown",
      "metadata": {
        "id": "cijdHMnjnj3n"
      },
      "source": [
        "# **Preprocessing**\n",
        "\n",
        "---\n",
        "At this step we will engineer the various features in the data set,  It involves transforming data to forms that better relate to the underlying target to be learned. \n",
        "In the data set, there are various attacks on the API, for this purpose, we will create a binary column that will describe whether or not any attack was carried out in each record"
      ]
    },
    {
      "cell_type": "code",
      "execution_count": 6,
      "metadata": {
        "id": "g0D-_6b8nj3o"
      },
      "outputs": [],
      "source": [
        "# Fill the black attack tag lines with \"Benign\" string\n",
        "df['request.Attack_Tag'] = df['request.Attack_Tag'].fillna('Benign')\n",
        "df['attack_type'] = df['request.Attack_Tag']\n",
        "\n",
        "for column in df.columns[df.isna().any()].tolist():\n",
        "    df[column] = df[column].fillna('None')\n",
        "\n",
        "# Any entry that contains a particular attack will be labeled malware.\n",
        "def categorize(row):  \n",
        "    if row['request.Attack_Tag'] == 'Benign': \n",
        "        return 'Benign'\n",
        "    return 'Malware'\n",
        "\n",
        "df['label'] = df.apply(lambda row: categorize(row), axis=1)\n",
        "\n",
        "# After finishing the arrangements we delete the irrelevant column\n",
        "df.drop('request.Attack_Tag', axis=1, inplace=True)"
      ]
    },
    {
      "cell_type": "markdown",
      "source": [
        "### **Dataset Description :**\n",
        "\n",
        "---\n",
        "Since the following data set is identical in its components compared to the first data set, the explanation of the data set can be found here: [notebook](https://github.com/d0lev/API-Security-Detection/blob/main/challenge_1.ipynb)"
      ],
      "metadata": {
        "id": "GPQpNuCt2LbX"
      }
    },
    {
      "cell_type": "markdown",
      "source": [
        "### **Classes distribution :**"
      ],
      "metadata": {
        "id": "OzzGlzD9T1eH"
      }
    },
    {
      "cell_type": "code",
      "source": [
        "classes_distribution = df['attack_type'].value_counts().to_frame().reset_index().to_numpy()\n",
        "\n",
        "features = [classes_distribution[0][0],classes_distribution[1][0]]\n",
        "values = [classes_distribution[0][1] , classes_distribution[1][1]]\n",
        "\n",
        "fig, ax = plt.subplots(figsize =(28, 4)) \n",
        "# Horizontal Bar Plot\n",
        "ax.barh(features, values)\n",
        "# Add x, y gridlines\n",
        "ax.grid(b = True, color ='grey',linestyle ='-.', linewidth = 0.5,alpha = 0.2)\n",
        "# Show top values\n",
        "ax.invert_yaxis()\n",
        "# Add annotation to bars\n",
        "counter = 0\n",
        "for i in ax.patches:\n",
        "    plt.text(i.get_width() + 100, i.get_y() + 0.5, str(round((i.get_width()), 2)),fontsize = 15, fontweight ='bold', color ='black')\n",
        "\n",
        "# Show Plot\n",
        "plt.show()\n",
        "print(classes_distribution)"
      ],
      "metadata": {
        "colab": {
          "base_uri": "https://localhost:8080/",
          "height": 404
        },
        "id": "baEo0l7iT-u-",
        "outputId": "b2dc2687-5a57-4334-a2f4-51ddb21d4338"
      },
      "execution_count": 7,
      "outputs": [
        {
          "output_type": "display_data",
          "data": {
            "text/plain": [
              "<Figure size 2016x288 with 1 Axes>"
            ],
            "image/png": "[encoded data removed]"
          },
          "metadata": {
            "needs_background": "light"
          }
        },
        {
          "output_type": "stream",
          "name": "stdout",
          "text": [
            "[['Benign' 143431]\n",
            " ['XSS' 8017]\n",
            " ['SQL Injection' 7924]\n",
            " ['Cookie Injection' 7742]\n",
            " ['Log Forging' 4037]\n",
            " ['RCE' 3944]\n",
            " ['Directory Traversal' 3939]\n",
            " ['LOG4J' 3733]]\n"
          ]
        }
      ]
    },
    {
      "cell_type": "markdown",
      "source": [
        "As you can see, the data set is not balanced at all, and therefore we will have to use methods that handle this problem."
      ],
      "metadata": {
        "id": "mxqcBiQmirXy"
      }
    },
    {
      "cell_type": "code",
      "source": [
        "df.shape"
      ],
      "metadata": {
        "colab": {
          "base_uri": "https://localhost:8080/"
        },
        "id": "cZBtVL8HEh_E",
        "outputId": "17becfc6-f2f0-4f4d-f57b-a739c705e557"
      },
      "execution_count": 8,
      "outputs": [
        {
          "output_type": "execute_result",
          "data": {
            "text/plain": [
              "(182767, 30)"
            ]
          },
          "metadata": {},
          "execution_count": 8
        }
      ]
    },
    {
      "cell_type": "markdown",
      "source": [
        "### **Feature Enginering :**\n"
      ],
      "metadata": {
        "id": "pl2LQLu5Tstu"
      }
    },
    {
      "cell_type": "code",
      "source": [
        "#Iterate through the data set and check if there is column that contains one value\n",
        "from collections import Counter\n",
        "def non_unique_features(dataframe):\n",
        "  same_value_features = []\n",
        "  for column in dataframe.columns:\n",
        "    if len(Counter(dataframe[column])) == 1:\n",
        "        same_value_features.append(column)\n",
        "  return same_value_features"
      ],
      "metadata": {
        "id": "BkmUbzMrOHjY"
      },
      "execution_count": 9,
      "outputs": []
    },
    {
      "cell_type": "code",
      "source": [
        "non_unique_features(df)"
      ],
      "metadata": {
        "id": "m9MdNC2nn_Sg",
        "colab": {
          "base_uri": "https://localhost:8080/"
        },
        "outputId": "8efb7d04-cad9-4ee2-8670-4d3d84a7cac9"
      },
      "execution_count": 10,
      "outputs": [
        {
          "output_type": "execute_result",
          "data": {
            "text/plain": [
              "['request.headers.Host',\n",
              " 'request.headers.Accept',\n",
              " 'request.headers.Connection']"
            ]
          },
          "metadata": {},
          "execution_count": 10
        }
      ]
    },
    {
      "cell_type": "code",
      "source": [
        "dataset = df.drop(non_unique_features(df), axis = 1)\n",
        "dataset.head(2)"
      ],
      "metadata": {
        "colab": {
          "base_uri": "https://localhost:8080/",
          "height": 263
        },
        "id": "RxDlg11NBw32",
        "outputId": "0b8aea53-b9dc-46e3-c136-af468831d76e"
      },
      "execution_count": 20,
      "outputs": [
        {
          "output_type": "execute_result",
          "data": {
            "text/plain": [
              "                          request.headers.User-Agent  \\\n",
              "0  Mozilla/5.0 (Windows NT 6.1; WOW64) AppleWebKi...   \n",
              "1  Mozilla/5.0 (Windows NT 4.0; WOW64) AppleWebKi...   \n",
              "\n",
              "  request.headers.Accept-Encoding request.headers.Sec-Ch-Ua-Mobile  \\\n",
              "0               gzip, deflate, br                               ?0   \n",
              "1               gzip, deflate, br                               ?0   \n",
              "\n",
              "  request.headers.Accept-Language request.headers.Sec-Fetch-Site  \\\n",
              "0                           de-CH                           none   \n",
              "1                  en-US,en;q=0.5                           none   \n",
              "\n",
              "  request.headers.Sec-Fetch-Mode request.headers.Cache-Control  \\\n",
              "0                    same-origin                      no-store   \n",
              "1                      websocket                      no-store   \n",
              "\n",
              "  request.headers.Sec-Fetch-User request.headers.Sec-Fetch-Dest  \\\n",
              "0                             ?1                       document   \n",
              "1                             ?1                       document   \n",
              "\n",
              "                          request.headers.Set-Cookie  \\\n",
              "0  ['ck=FJRAiycx_3ekqPVGrPhoLGnQ_MKj1ittQ-MCq2zXC...   \n",
              "1  ['cid=y03gw4TI3ch-xC1BinML6NAIN0DQNEwmnuyTkVoL...   \n",
              "\n",
              "            request.headers.Date request.method  \\\n",
              "0  Sun, 18 Dec 2022 01:27:48 GMT            GET   \n",
              "1  Sun, 18 Dec 2022 01:36:14 GMT            GET   \n",
              "\n",
              "                                         request.url request.body  \\\n",
              "0  http://127.0.0.1:5000/forum?message=%3C%2Fh2%3...                \n",
              "1                 http://127.0.0.1:5000/greet/Capito                \n",
              "\n",
              "  response.status response.headers.Content-Type  \\\n",
              "0       302 FOUND      text/html; charset=utf-8   \n",
              "1          200 OK      text/html; charset=utf-8   \n",
              "\n",
              "  response.headers.Content-Length response.headers.Location  \\\n",
              "0                             199                    /forum   \n",
              "1                              22                      None   \n",
              "\n",
              "   response.status_code             response.body  \\\n",
              "0                   302  text/html; charset=utf-8   \n",
              "1                   200  text/html; charset=utf-8   \n",
              "\n",
              "  request.headers.Sec-Ch-Ua-Platform request.headers.Content-Length  \\\n",
              "0                               None                           None   \n",
              "1                          \"Windows\"                           None   \n",
              "\n",
              "  request.headers.Cookie response.headers.Set-Cookie  \\\n",
              "0                   None                        None   \n",
              "1                   None                        None   \n",
              "\n",
              "  request.headers.Upgrade-Insecure-Requests attack_type    label  \n",
              "0                                      None         XSS  Malware  \n",
              "1                                      None      Benign   Benign  "
            ],
            "text/html": [
              "\n",
              "  <div id=\"df-ece3d88e-0a5f-4c50-afb7-2700751fe8c7\">\n",
              "    <div class=\"colab-df-container\">\n",
              "      <div>\n",
              "<style scoped>\n",
              "    .dataframe tbody tr th:only-of-type {\n",
              "        vertical-align: middle;\n",
              "    }\n",
              "\n",
              "    .dataframe tbody tr th {\n",
              "        vertical-align: top;\n",
              "    }\n",
              "\n",
              "    .dataframe thead th {\n",
              "        text-align: right;\n",
              "    }\n",
              "</style>\n",
              "<table border=\"1\" class=\"dataframe\">\n",
              "  <thead>\n",
              "    <tr style=\"text-align: right;\">\n",
              "      <th></th>\n",
              "      <th>request.headers.User-Agent</th>\n",
              "      <th>request.headers.Accept-Encoding</th>\n",
              "      <th>request.headers.Sec-Ch-Ua-Mobile</th>\n",
              "      <th>request.headers.Accept-Language</th>\n",
              "      <th>request.headers.Sec-Fetch-Site</th>\n",
              "      <th>request.headers.Sec-Fetch-Mode</th>\n",
              "      <th>request.headers.Cache-Control</th>\n",
              "      <th>request.headers.Sec-Fetch-User</th>\n",
              "      <th>request.headers.Sec-Fetch-Dest</th>\n",
              "      <th>request.headers.Set-Cookie</th>\n",
              "      <th>request.headers.Date</th>\n",
              "      <th>request.method</th>\n",
              "      <th>request.url</th>\n",
              "      <th>request.body</th>\n",
              "      <th>response.status</th>\n",
              "      <th>response.headers.Content-Type</th>\n",
              "      <th>response.headers.Content-Length</th>\n",
              "      <th>response.headers.Location</th>\n",
              "      <th>response.status_code</th>\n",
              "      <th>response.body</th>\n",
              "      <th>request.headers.Sec-Ch-Ua-Platform</th>\n",
              "      <th>request.headers.Content-Length</th>\n",
              "      <th>request.headers.Cookie</th>\n",
              "      <th>response.headers.Set-Cookie</th>\n",
              "      <th>request.headers.Upgrade-Insecure-Requests</th>\n",
              "      <th>attack_type</th>\n",
              "      <th>label</th>\n",
              "    </tr>\n",
              "  </thead>\n",
              "  <tbody>\n",
              "    <tr>\n",
              "      <th>0</th>\n",
              "      <td>Mozilla/5.0 (Windows NT 6.1; WOW64) AppleWebKi...</td>\n",
              "      <td>gzip, deflate, br</td>\n",
              "      <td>?0</td>\n",
              "      <td>de-CH</td>\n",
              "      <td>none</td>\n",
              "      <td>same-origin</td>\n",
              "      <td>no-store</td>\n",
              "      <td>?1</td>\n",
              "      <td>document</td>\n",
              "      <td>['ck=FJRAiycx_3ekqPVGrPhoLGnQ_MKj1ittQ-MCq2zXC...</td>\n",
              "      <td>Sun, 18 Dec 2022 01:27:48 GMT</td>\n",
              "      <td>GET</td>\n",
              "      <td>http://127.0.0.1:5000/forum?message=%3C%2Fh2%3...</td>\n",
              "      <td></td>\n",
              "      <td>302 FOUND</td>\n",
              "      <td>text/html; charset=utf-8</td>\n",
              "      <td>199</td>\n",
              "      <td>/forum</td>\n",
              "      <td>302</td>\n",
              "      <td>text/html; charset=utf-8</td>\n",
              "      <td>None</td>\n",
              "      <td>None</td>\n",
              "      <td>None</td>\n",
              "      <td>None</td>\n",
              "      <td>None</td>\n",
              "      <td>XSS</td>\n",
              "      <td>Malware</td>\n",
              "    </tr>\n",
              "    <tr>\n",
              "      <th>1</th>\n",
              "      <td>Mozilla/5.0 (Windows NT 4.0; WOW64) AppleWebKi...</td>\n",
              "      <td>gzip, deflate, br</td>\n",
              "      <td>?0</td>\n",
              "      <td>en-US,en;q=0.5</td>\n",
              "      <td>none</td>\n",
              "      <td>websocket</td>\n",
              "      <td>no-store</td>\n",
              "      <td>?1</td>\n",
              "      <td>document</td>\n",
              "      <td>['cid=y03gw4TI3ch-xC1BinML6NAIN0DQNEwmnuyTkVoL...</td>\n",
              "      <td>Sun, 18 Dec 2022 01:36:14 GMT</td>\n",
              "      <td>GET</td>\n",
              "      <td>http://127.0.0.1:5000/greet/Capito</td>\n",
              "      <td></td>\n",
              "      <td>200 OK</td>\n",
              "      <td>text/html; charset=utf-8</td>\n",
              "      <td>22</td>\n",
              "      <td>None</td>\n",
              "      <td>200</td>\n",
              "      <td>text/html; charset=utf-8</td>\n",
              "      <td>\"Windows\"</td>\n",
              "      <td>None</td>\n",
              "      <td>None</td>\n",
              "      <td>None</td>\n",
              "      <td>None</td>\n",
              "      <td>Benign</td>\n",
              "      <td>Benign</td>\n",
              "    </tr>\n",
              "  </tbody>\n",
              "</table>\n",
              "</div>\n",
              "      <button class=\"colab-df-convert\" onclick=\"convertToInteractive('df-ece3d88e-0a5f-4c50-afb7-2700751fe8c7')\"\n",
              "              title=\"Convert this dataframe to an interactive table.\"\n",
              "              style=\"display:none;\">\n",
              "        \n",
              "  <svg xmlns=\"http://www.w3.org/2000/svg\" height=\"24px\"viewBox=\"0 0 24 24\"\n",
              "       width=\"24px\">\n",
              "    <path d=\"M0 0h24v24H0V0z\" fill=\"none\"/>\n",
              "    <path d=\"M18.56 5.44l.94 2.06.94-2.06 2.06-.94-2.06-.94-.94-2.06-.94 2.06-2.06.94zm-11 1L8.5 8.5l.94-2.06 2.06-.94-2.06-.94L8.5 2.5l-.94 2.06-2.06.94zm10 10l.94 2.06.94-2.06 2.06-.94-2.06-.94-.94-2.06-.94 2.06-2.06.94z\"/><path d=\"M17.41 7.96l-1.37-1.37c-.4-.4-.92-.59-1.43-.59-.52 0-1.04.2-1.43.59L10.3 9.45l-7.72 7.72c-.78.78-.78 2.05 0 2.83L4 21.41c.39.39.9.59 1.41.59.51 0 1.02-.2 1.41-.59l7.78-7.78 2.81-2.81c.8-.78.8-2.07 0-2.86zM5.41 20L4 18.59l7.72-7.72 1.47 1.35L5.41 20z\"/>\n",
              "  </svg>\n",
              "      </button>\n",
              "      \n",
              "  <style>\n",
              "    .colab-df-container {\n",
              "      display:flex;\n",
              "      flex-wrap:wrap;\n",
              "      gap: 12px;\n",
              "    }\n",
              "\n",
              "    .colab-df-convert {\n",
              "      background-color: #E8F0FE;\n",
              "      border: none;\n",
              "      border-radius: 50%;\n",
              "      cursor: pointer;\n",
              "      display: none;\n",
              "      fill: #1967D2;\n",
              "      height: 32px;\n",
              "      padding: 0 0 0 0;\n",
              "      width: 32px;\n",
              "    }\n",
              "\n",
              "    .colab-df-convert:hover {\n",
              "      background-color: #E2EBFA;\n",
              "      box-shadow: 0px 1px 2px rgba(60, 64, 67, 0.3), 0px 1px 3px 1px rgba(60, 64, 67, 0.15);\n",
              "      fill: #174EA6;\n",
              "    }\n",
              "\n",
              "    [theme=dark] .colab-df-convert {\n",
              "      background-color: #3B4455;\n",
              "      fill: #D2E3FC;\n",
              "    }\n",
              "\n",
              "    [theme=dark] .colab-df-convert:hover {\n",
              "      background-color: #434B5C;\n",
              "      box-shadow: 0px 1px 3px 1px rgba(0, 0, 0, 0.15);\n",
              "      filter: drop-shadow(0px 1px 2px rgba(0, 0, 0, 0.3));\n",
              "      fill: #FFFFFF;\n",
              "    }\n",
              "  </style>\n",
              "\n",
              "      <script>\n",
              "        const buttonEl =\n",
              "          document.querySelector('#df-ece3d88e-0a5f-4c50-afb7-2700751fe8c7 button.colab-df-convert');\n",
              "        buttonEl.style.display =\n",
              "          google.colab.kernel.accessAllowed ? 'block' : 'none';\n",
              "\n",
              "        async function convertToInteractive(key) {\n",
              "          const element = document.querySelector('#df-ece3d88e-0a5f-4c50-afb7-2700751fe8c7');\n",
              "          const dataTable =\n",
              "            await google.colab.kernel.invokeFunction('convertToInteractive',\n",
              "                                                     [key], {});\n",
              "          if (!dataTable) return;\n",
              "\n",
              "          const docLinkHtml = 'Like what you see? Visit the ' +\n",
              "            '<a target=\"_blank\" href=https://colab.research.google.com/notebooks/data_table.ipynb>data table notebook</a>'\n",
              "            + ' to learn more about interactive tables.';\n",
              "          element.innerHTML = '';\n",
              "          dataTable['output_type'] = 'display_data';\n",
              "          await google.colab.output.renderOutput(dataTable, element);\n",
              "          const docLink = document.createElement('div');\n",
              "          docLink.innerHTML = docLinkHtml;\n",
              "          element.appendChild(docLink);\n",
              "        }\n",
              "      </script>\n",
              "    </div>\n",
              "  </div>\n",
              "  "
            ]
          },
          "metadata": {},
          "execution_count": 20
        }
      ]
    },
    {
      "cell_type": "markdown",
      "source": [
        "The `request.headers.Cookie` , contains more than 39 unique values which represent stored HTTP cookies associated with the server, Therefore,I thought of splitting the feature into three features: the first user's name, the second user's name, and the number of users.\n",
        "\n",
        "---\n"
      ],
      "metadata": {
        "id": "WY1mXJqBa6OT"
      }
    },
    {
      "cell_type": "code",
      "source": [
        "def cookie_parsing(dataframe):\n",
        "  cookies = dataframe['request.headers.Cookie'].tolist()\n",
        "  columns = ['user1','user2',\"n_users\"]\n",
        "  cookie_dataset = []\n",
        "\n",
        "  for cookie in cookies:\n",
        "    if cookie == \"None\":\n",
        "      cookie_dataset.append([0,0,0])\n",
        "    else:\n",
        "      cookie = cookie.replace(\"username=\",\"\")\n",
        "      cookie_p = cookie.split(\";\")\n",
        "      if len(cookie_p) == 2:\n",
        "        cookie_p.append(2)\n",
        "        cookie_dataset.append(cookie_p)\n",
        "      else:\n",
        "        cookie_p.append(0)\n",
        "        cookie_p.append(1)\n",
        "        cookie_dataset.append(cookie_p)\n",
        "\n",
        "  cookie_dataset = pd.DataFrame(cookie_dataset, columns = columns,dtype = str) \n",
        "  cookie_dataset['n_users'] = pd.to_numeric(cookie_dataset['n_users'])\n",
        "\n",
        "  return cookie_dataset"
      ],
      "metadata": {
        "id": "lwXrEb05JSfc"
      },
      "execution_count": 22,
      "outputs": []
    },
    {
      "cell_type": "markdown",
      "source": [
        "The `request.url` is an address that contains the information needed to access the server resources.I thought about taking the same address and splitting it according to its different characteristics by a library called urlparse, each address will be represented by the following four attributes:\n",
        "the scheme, netloc, path, params, query, and fragment.\n",
        "After this conversion was done, we noticed that the attributes params and fragments contain only values for each address, so we preferred to delete them.\n",
        "\n",
        "---\n",
        "\n"
      ],
      "metadata": {
        "id": "tUJxiL3ca8PP"
      }
    },
    {
      "cell_type": "code",
      "source": [
        "def url_parsing(dataframe):\n",
        "  urls = dataframe['request.url'].tolist()\n",
        "  columns = [\"scheme\",\"netloc\",\"path\",\"params\",\"query\",\"fragment\"]\n",
        "  url_dataset = []\n",
        "\n",
        "  for url in urls:\n",
        "    parsed_url = []\n",
        "    url_p = urlparse(url)\n",
        "    for index in range(len(url_p)):\n",
        "        parsed_url.append(url_p[index])\n",
        "    \n",
        "    flattened_list = flatten(parsed_url)\n",
        "    url_dataset.append(flattened_list)\n",
        "\n",
        "  url_dataset = pd.DataFrame(url_dataset, columns = columns,dtype = str) \n",
        "  url_dataset.drop(['params','fragment'],axis = 1,inplace = True)\n",
        "\n",
        "  return url_dataset"
      ],
      "metadata": {
        "id": "EaSAo0G6zbBN"
      },
      "execution_count": 23,
      "outputs": []
    },
    {
      "cell_type": "markdown",
      "source": [
        "This function used to arrange the data set in such a way that if one column splits into several columns - it takes care of uniting them back into one data set.\n",
        "\n",
        "---\n"
      ],
      "metadata": {
        "id": "Bj_ibbITa-cI"
      }
    },
    {
      "cell_type": "code",
      "source": [
        "def dataset_arrange(dataframe , embeddings ,index):\n",
        "  first_n_column  = dataframe.iloc[: , : index]\n",
        "  second_n_column = dataframe.iloc[: ,index + 1:]\n",
        "  first_n_column = first_n_column.join(embeddings)\n",
        "  dataframe = first_n_column.join(second_n_column)\n",
        "\n",
        "  return dataframe"
      ],
      "metadata": {
        "id": "R-Cnkt3lShZV"
      },
      "execution_count": 24,
      "outputs": []
    },
    {
      "cell_type": "markdown",
      "source": [
        "The `response.headers.Content-Length` feature contains multiple string that represents the length of the content that send from the host, therfore we will convert them to numeric values.\n",
        "\n",
        "Also, we will convert the `response.status_code` feature which contains the code that represents the host's successful or unsuccessful response.\n",
        "\n",
        "---\n"
      ],
      "metadata": {
        "id": "mUa46oTWeDmP"
      }
    },
    {
      "cell_type": "code",
      "source": [
        "def numeric_transform(dataframe):\n",
        "  columns = ['response.headers.Content-Length','response.status_code']\n",
        "  for col_name in columns:\n",
        "      dataframe[col_name] = pd.to_numeric(dataframe[col_name])\n",
        "  return dataframe"
      ],
      "metadata": {
        "id": "5R3U6Citdyj4"
      },
      "execution_count": 25,
      "outputs": []
    },
    {
      "cell_type": "markdown",
      "source": [
        "There are some features that contain in their content two different types of information, one with a URL address and the other without. We will try to turn these columns into numeric values by setting 1 for a record that contains a URL in the same feature, and 0 otherwise.\n",
        "\n",
        "---\n",
        "\n"
      ],
      "metadata": {
        "id": "UEIUHAj4FzVF"
      }
    },
    {
      "cell_type": "code",
      "source": [
        "def contain_url(dataframe):\n",
        "  columns = ['request.headers.Accept-Encoding','request.headers.Sec-Fetch-Dest','request.headers.Sec-Fetch-Site']\n",
        "  for col_name in columns:\n",
        "      dataframe[col_name] = np.where(dataframe[col_name].str.contains(\"jndi\"), 1, 0)\n",
        "\n",
        "  return dataframe"
      ],
      "metadata": {
        "id": "acMmx5M1unB5"
      },
      "execution_count": 26,
      "outputs": []
    },
    {
      "cell_type": "markdown",
      "source": [
        "### **Dealing with missing values :**\n"
      ],
      "metadata": {
        "id": "Wr1VpKXTOTkm"
      }
    },
    {
      "cell_type": "code",
      "source": [
        "means = dataset.isnull().mean()\n",
        "percentages = means[means > 0].round(4).mul(100).sort_values(ascending=False)\n",
        "percentages"
      ],
      "metadata": {
        "colab": {
          "base_uri": "https://localhost:8080/"
        },
        "id": "HDeraf0D9Le3",
        "outputId": "1607ba56-d15a-43c8-d05b-67330ebfb49a"
      },
      "execution_count": 27,
      "outputs": [
        {
          "output_type": "execute_result",
          "data": {
            "text/plain": [
              "Series([], dtype: float64)"
            ]
          },
          "metadata": {},
          "execution_count": 27
        }
      ]
    },
    {
      "cell_type": "markdown",
      "source": [
        "### **Dealing with categorical features**"
      ],
      "metadata": {
        "id": "IA_6J8JxdS2V"
      }
    },
    {
      "cell_type": "code",
      "source": [
        "from sklearn.model_selection import train_test_split\n",
        "from sklearn.metrics import confusion_matrix, classification_report\n",
        "from collections import Counter\n",
        "import xgboost as xgb"
      ],
      "metadata": {
        "id": "TsCtHc8ItWhS"
      },
      "execution_count": 28,
      "outputs": []
    },
    {
      "cell_type": "code",
      "execution_count": 29,
      "metadata": {
        "id": "YptHJ3P-nj3p"
      },
      "outputs": [],
      "source": [
        "# Setting features for further feature extraction by choosing columns\n",
        "# Some will be \"simply\" encoded via label encoding and others with HashingVectorizer\n",
        "\n",
        "# On these headers we will run a \"simple\" BOW\n",
        "SIMPLE_HEADERS = ['request.headers.Accept-Encoding',\n",
        "                  'request.headers.Sec-Fetch-Dest',\n",
        "                'request.headers.Accept-Language',\n",
        "                'request.headers.Sec-Fetch-Site',\n",
        "                'request.headers.Sec-Fetch-Mode',\n",
        "                'request.headers.Sec-Fetch-User',\n",
        "                'request.headers.Sec-Ch-Ua-Platform',\n",
        "                'request.headers.Sec-Ch-Ua-Mobile',\n",
        "                'request.headers.Cache-Control',\n",
        "                'request.headers.Upgrade-Insecure-Requests',\n",
        "                'response.headers.Location'\n",
        "                ,'request.headers.Content-Length'\n",
        "                ,'response.headers.Set-Cookie'\n",
        "                ]\n",
        "\n",
        "# On these headers we will run HashingVectorizer\n",
        "COMPLEX_HEADERS = ['request.headers.User-Agent',\n",
        "                    'user1','user2','scheme','netloc','path','query',\n",
        "                    'request.headers.Set-Cookie',\n",
        "                    'response.body',\n",
        "                    'response.headers.Content-Type',\n",
        "                    ]\n",
        "\n",
        "COLUMNS_TO_REMOVE = ['request.headers.Date','request.body','response.status','request.method','n_users']\n",
        "\n",
        "# This is our main preprocessing function that will iterate over all of the chosen \n",
        "# columns and run some feature extraction models\n",
        "def vectorize_df(df):\n",
        "    cookies = cookie_parsing(df)\n",
        "    urls = url_parsing(df)\n",
        "    df = dataset_arrange(df , cookies ,df.columns.get_loc(\"request.headers.Cookie\"))\n",
        "    df = dataset_arrange(df , urls ,df.columns.get_loc(\"request.url\"))\n",
        "    df = contain_url(df) ## create a column that represent indicator for url in the accept encoding\n",
        "    df = numeric_transform(df)\n",
        "    # df = one_hot_content_type(df)\n",
        "\n",
        "    le = LabelEncoder()\n",
        "    h_vec = HashingVectorizer(n_features=2)\n",
        "\n",
        "    # Run LabelEncoder on the chosen features\n",
        "    for column in SIMPLE_HEADERS: \n",
        "        df[column] = le.fit_transform(df[column])\n",
        "    \n",
        "    # Run HashingVectorizer on the chosen features\n",
        "    for column in COMPLEX_HEADERS: \n",
        "        newHVec = h_vec.fit_transform(df[column])\n",
        "        df[column] = newHVec.todense()\n",
        "\n",
        "    # Remove some columns that may be needed.. (Or not, you decide)\n",
        "    for column in COLUMNS_TO_REMOVE: \n",
        "        df.drop(column, axis=1, inplace=True)\n",
        "    return df"
      ]
    },
    {
      "cell_type": "code",
      "source": [
        "dataset = vectorize_df(dataset)"
      ],
      "metadata": {
        "id": "devkfe7yTAsQ"
      },
      "execution_count": 30,
      "outputs": []
    },
    {
      "cell_type": "code",
      "source": [
        "dataset.info(memory_usage=\"deep\")"
      ],
      "metadata": {
        "id": "ekFckutnXV6w"
      },
      "execution_count": null,
      "outputs": []
    },
    {
      "cell_type": "code",
      "source": [
        "dataset.head(1)"
      ],
      "metadata": {
        "id": "GoeqH8WjeY9R"
      },
      "execution_count": null,
      "outputs": []
    },
    {
      "cell_type": "code",
      "source": [
        "from sklearn.feature_selection import chi2\n",
        "from sklearn.feature_selection import SelectKBest\n",
        "def feature_selection (dataframe):\n",
        "\n",
        "  X = dataframe.drop(['label','attack_type'],axis=1)\n",
        "  print('x is:', X.columns.to_list())\n",
        "  columns = X.columns\n",
        "  X = np.nan_to_num(X)\n",
        "  #y = dataframe['label']\n",
        "  y = dataframe['attack_type']\n",
        "  X = (X-X.min())/(X.max()-X.min())\n",
        "\n",
        "  # k tells k top features to be selected\n",
        "  # Score function Chi2 tells the feature to be selected using Chi Square\n",
        "  test = SelectKBest(score_func=chi2, k = 18)\n",
        "  fit = test.fit(X, y)\n",
        "\n",
        "  delete_features = pd.DataFrame({'columns': columns, 'Kept': test.get_support()})\n",
        "  print(delete_features)\n",
        "  delete_features = delete_features[(delete_features['Kept'] == False)]['columns'].to_list()\n",
        "\n",
        "  return delete_features"
      ],
      "metadata": {
        "id": "QnvWcWBRqcms"
      },
      "execution_count": 33,
      "outputs": []
    },
    {
      "cell_type": "code",
      "source": [
        "from sklearn.feature_selection import RFECV\n",
        "from sklearn.model_selection import StratifiedKFold\n",
        "from sklearn.ensemble import RandomForestClassifier\n",
        "\n",
        "def feature_selection__2 (dataframe):\n",
        "  X = dataframe.drop(['label','attack_type'],axis=1)\n",
        "  print('x is:', X.columns.to_list())\n",
        "  columns = X.columns\n",
        "  X = np.nan_to_num(X)\n",
        "  y = dataframe['label']\n",
        "  #y = dataframe['attack_type']\n",
        "  X = (X-X.min())/(X.max()-X.min())\n",
        "\n",
        "  min_features_to_select = 1  # Minimum number of features to consider\n",
        "  clf = RandomForestClassifier()\n",
        "  cv = StratifiedKFold(5)\n",
        "\n",
        "  rfecv = RFECV(\n",
        "      estimator=clf,\n",
        "      step=1,\n",
        "      cv=cv,\n",
        "      scoring=\"accuracy\", #targeting on high recall\n",
        "      min_features_to_select=min_features_to_select,\n",
        "      n_jobs=2,\n",
        "\n",
        "  )\n",
        "  rfecv.fit(X, y)\n",
        "\n",
        "  delete_features = pd.DataFrame({'columns': columns, 'Kept': rfecv.get_support()})\n",
        "  delete_features = delete_features[(delete_features['Kept'] == False)]['columns'].to_list()\n",
        "  print(delete_features)\n",
        "\n",
        "  return delete_features"
      ],
      "metadata": {
        "id": "Ij11e0WT1PSA"
      },
      "execution_count": 34,
      "outputs": []
    },
    {
      "cell_type": "code",
      "source": [
        "delete_features = feature_selection(dataset)\n",
        "dataset = dataset.drop(delete_features ,axis = 1)"
      ],
      "metadata": {
        "id": "YftbCtDahQEg"
      },
      "execution_count": null,
      "outputs": []
    },
    {
      "cell_type": "code",
      "source": [
        "dataset['label'] = df['label']\n",
        "dataset['label'] = dataset['label'].map({'Benign': 0, 'Malware': 1})\n",
        "\n",
        "dataset['attack_type'] = df['attack_type']\n",
        "dataset['attack_type'] = dataset['attack_type'].map({'Benign': 0, 'Cookie Injection': 1, 'Directory Traversal': 2, 'LOG4J': 3, 'Log Forging': 4, 'RCE': 5, 'SQL Injection': 6, 'XSS': 7})"
      ],
      "metadata": {
        "id": "-9uBYOKtvnAV"
      },
      "execution_count": 35,
      "outputs": []
    },
    {
      "cell_type": "code",
      "source": [
        "dataset.head(1)"
      ],
      "metadata": {
        "id": "I6qkeEgR7u1-",
        "colab": {
          "base_uri": "https://localhost:8080/",
          "height": 162
        },
        "outputId": "26372a83-7b1c-4e27-fdd7-c3f413ef7319"
      },
      "execution_count": 37,
      "outputs": [
        {
          "output_type": "execute_result",
          "data": {
            "text/plain": [
              "   request.headers.User-Agent  request.headers.Accept-Encoding  \\\n",
              "0                    0.894427                                1   \n",
              "\n",
              "   request.headers.Sec-Ch-Ua-Mobile  request.headers.Accept-Language  \\\n",
              "0                                 0                                2   \n",
              "\n",
              "   request.headers.Sec-Fetch-Site  request.headers.Sec-Fetch-Mode  \\\n",
              "0                               1                               1   \n",
              "\n",
              "   request.headers.Cache-Control  request.headers.Sec-Fetch-User  \\\n",
              "0                              3                               0   \n",
              "\n",
              "   request.headers.Sec-Fetch-Dest  request.headers.Set-Cookie  scheme  netloc  \\\n",
              "0                               1                     0.83205     1.0     0.0   \n",
              "\n",
              "   path     query  response.headers.Content-Type  \\\n",
              "0   0.0  0.986394                           -1.0   \n",
              "\n",
              "   response.headers.Content-Length  response.headers.Location  \\\n",
              "0                              199                          1   \n",
              "\n",
              "   response.status_code  response.body  request.headers.Sec-Ch-Ua-Platform  \\\n",
              "0                   302           -1.0                                   1   \n",
              "\n",
              "   request.headers.Content-Length  user1  user2  response.headers.Set-Cookie  \\\n",
              "0                              29    0.0    0.0                            0   \n",
              "\n",
              "   request.headers.Upgrade-Insecure-Requests  attack_type  label  \n",
              "0                                          1            7      1  "
            ],
            "text/html": [
              "\n",
              "  <div id=\"df-7dbea601-3745-4d37-a25a-8218f9a6fde2\">\n",
              "    <div class=\"colab-df-container\">\n",
              "      <div>\n",
              "<style scoped>\n",
              "    .dataframe tbody tr th:only-of-type {\n",
              "        vertical-align: middle;\n",
              "    }\n",
              "\n",
              "    .dataframe tbody tr th {\n",
              "        vertical-align: top;\n",
              "    }\n",
              "\n",
              "    .dataframe thead th {\n",
              "        text-align: right;\n",
              "    }\n",
              "</style>\n",
              "<table border=\"1\" class=\"dataframe\">\n",
              "  <thead>\n",
              "    <tr style=\"text-align: right;\">\n",
              "      <th></th>\n",
              "      <th>request.headers.User-Agent</th>\n",
              "      <th>request.headers.Accept-Encoding</th>\n",
              "      <th>request.headers.Sec-Ch-Ua-Mobile</th>\n",
              "      <th>request.headers.Accept-Language</th>\n",
              "      <th>request.headers.Sec-Fetch-Site</th>\n",
              "      <th>request.headers.Sec-Fetch-Mode</th>\n",
              "      <th>request.headers.Cache-Control</th>\n",
              "      <th>request.headers.Sec-Fetch-User</th>\n",
              "      <th>request.headers.Sec-Fetch-Dest</th>\n",
              "      <th>request.headers.Set-Cookie</th>\n",
              "      <th>scheme</th>\n",
              "      <th>netloc</th>\n",
              "      <th>path</th>\n",
              "      <th>query</th>\n",
              "      <th>response.headers.Content-Type</th>\n",
              "      <th>response.headers.Content-Length</th>\n",
              "      <th>response.headers.Location</th>\n",
              "      <th>response.status_code</th>\n",
              "      <th>response.body</th>\n",
              "      <th>request.headers.Sec-Ch-Ua-Platform</th>\n",
              "      <th>request.headers.Content-Length</th>\n",
              "      <th>user1</th>\n",
              "      <th>user2</th>\n",
              "      <th>response.headers.Set-Cookie</th>\n",
              "      <th>request.headers.Upgrade-Insecure-Requests</th>\n",
              "      <th>attack_type</th>\n",
              "      <th>label</th>\n",
              "    </tr>\n",
              "  </thead>\n",
              "  <tbody>\n",
              "    <tr>\n",
              "      <th>0</th>\n",
              "      <td>0.894427</td>\n",
              "      <td>1</td>\n",
              "      <td>0</td>\n",
              "      <td>2</td>\n",
              "      <td>1</td>\n",
              "      <td>1</td>\n",
              "      <td>3</td>\n",
              "      <td>0</td>\n",
              "      <td>1</td>\n",
              "      <td>0.83205</td>\n",
              "      <td>1.0</td>\n",
              "      <td>0.0</td>\n",
              "      <td>0.0</td>\n",
              "      <td>0.986394</td>\n",
              "      <td>-1.0</td>\n",
              "      <td>199</td>\n",
              "      <td>1</td>\n",
              "      <td>302</td>\n",
              "      <td>-1.0</td>\n",
              "      <td>1</td>\n",
              "      <td>29</td>\n",
              "      <td>0.0</td>\n",
              "      <td>0.0</td>\n",
              "      <td>0</td>\n",
              "      <td>1</td>\n",
              "      <td>7</td>\n",
              "      <td>1</td>\n",
              "    </tr>\n",
              "  </tbody>\n",
              "</table>\n",
              "</div>\n",
              "      <button class=\"colab-df-convert\" onclick=\"convertToInteractive('df-7dbea601-3745-4d37-a25a-8218f9a6fde2')\"\n",
              "              title=\"Convert this dataframe to an interactive table.\"\n",
              "              style=\"display:none;\">\n",
              "        \n",
              "  <svg xmlns=\"http://www.w3.org/2000/svg\" height=\"24px\"viewBox=\"0 0 24 24\"\n",
              "       width=\"24px\">\n",
              "    <path d=\"M0 0h24v24H0V0z\" fill=\"none\"/>\n",
              "    <path d=\"M18.56 5.44l.94 2.06.94-2.06 2.06-.94-2.06-.94-.94-2.06-.94 2.06-2.06.94zm-11 1L8.5 8.5l.94-2.06 2.06-.94-2.06-.94L8.5 2.5l-.94 2.06-2.06.94zm10 10l.94 2.06.94-2.06 2.06-.94-2.06-.94-.94-2.06-.94 2.06-2.06.94z\"/><path d=\"M17.41 7.96l-1.37-1.37c-.4-.4-.92-.59-1.43-.59-.52 0-1.04.2-1.43.59L10.3 9.45l-7.72 7.72c-.78.78-.78 2.05 0 2.83L4 21.41c.39.39.9.59 1.41.59.51 0 1.02-.2 1.41-.59l7.78-7.78 2.81-2.81c.8-.78.8-2.07 0-2.86zM5.41 20L4 18.59l7.72-7.72 1.47 1.35L5.41 20z\"/>\n",
              "  </svg>\n",
              "      </button>\n",
              "      \n",
              "  <style>\n",
              "    .colab-df-container {\n",
              "      display:flex;\n",
              "      flex-wrap:wrap;\n",
              "      gap: 12px;\n",
              "    }\n",
              "\n",
              "    .colab-df-convert {\n",
              "      background-color: #E8F0FE;\n",
              "      border: none;\n",
              "      border-radius: 50%;\n",
              "      cursor: pointer;\n",
              "      display: none;\n",
              "      fill: #1967D2;\n",
              "      height: 32px;\n",
              "      padding: 0 0 0 0;\n",
              "      width: 32px;\n",
              "    }\n",
              "\n",
              "    .colab-df-convert:hover {\n",
              "      background-color: #E2EBFA;\n",
              "      box-shadow: 0px 1px 2px rgba(60, 64, 67, 0.3), 0px 1px 3px 1px rgba(60, 64, 67, 0.15);\n",
              "      fill: #174EA6;\n",
              "    }\n",
              "\n",
              "    [theme=dark] .colab-df-convert {\n",
              "      background-color: #3B4455;\n",
              "      fill: #D2E3FC;\n",
              "    }\n",
              "\n",
              "    [theme=dark] .colab-df-convert:hover {\n",
              "      background-color: #434B5C;\n",
              "      box-shadow: 0px 1px 3px 1px rgba(0, 0, 0, 0.15);\n",
              "      filter: drop-shadow(0px 1px 2px rgba(0, 0, 0, 0.3));\n",
              "      fill: #FFFFFF;\n",
              "    }\n",
              "  </style>\n",
              "\n",
              "      <script>\n",
              "        const buttonEl =\n",
              "          document.querySelector('#df-7dbea601-3745-4d37-a25a-8218f9a6fde2 button.colab-df-convert');\n",
              "        buttonEl.style.display =\n",
              "          google.colab.kernel.accessAllowed ? 'block' : 'none';\n",
              "\n",
              "        async function convertToInteractive(key) {\n",
              "          const element = document.querySelector('#df-7dbea601-3745-4d37-a25a-8218f9a6fde2');\n",
              "          const dataTable =\n",
              "            await google.colab.kernel.invokeFunction('convertToInteractive',\n",
              "                                                     [key], {});\n",
              "          if (!dataTable) return;\n",
              "\n",
              "          const docLinkHtml = 'Like what you see? Visit the ' +\n",
              "            '<a target=\"_blank\" href=https://colab.research.google.com/notebooks/data_table.ipynb>data table notebook</a>'\n",
              "            + ' to learn more about interactive tables.';\n",
              "          element.innerHTML = '';\n",
              "          dataTable['output_type'] = 'display_data';\n",
              "          await google.colab.output.renderOutput(dataTable, element);\n",
              "          const docLink = document.createElement('div');\n",
              "          docLink.innerHTML = docLinkHtml;\n",
              "          element.appendChild(docLink);\n",
              "        }\n",
              "      </script>\n",
              "    </div>\n",
              "  </div>\n",
              "  "
            ]
          },
          "metadata": {},
          "execution_count": 37
        }
      ]
    },
    {
      "cell_type": "code",
      "source": [
        "dataset['label'].value_counts()"
      ],
      "metadata": {
        "id": "n_g9pQFWwCLV"
      },
      "execution_count": null,
      "outputs": []
    },
    {
      "cell_type": "code",
      "source": [
        "dataset['attack_type'].value_counts()"
      ],
      "metadata": {
        "id": "gpR_gWnDz6JE"
      },
      "execution_count": null,
      "outputs": []
    },
    {
      "cell_type": "code",
      "source": [
        "matrix = dataset.corr().round(2)\n",
        "sns.heatmap(matrix, annot=True)\n",
        "plt.show()"
      ],
      "metadata": {
        "id": "yzH927Wawbgk"
      },
      "execution_count": null,
      "outputs": []
    },
    {
      "cell_type": "code",
      "execution_count": null,
      "metadata": {
        "id": "tBJ-EWb-nj3q"
      },
      "outputs": [],
      "source": [
        "# Memory check (For large datasets sometimes the dataframe will exceed the computers resources)\n",
        "dataset.info(memory_usage=\"deep\")"
      ]
    },
    {
      "cell_type": "code",
      "execution_count": null,
      "metadata": {
        "id": "FeoVlAgdnj3r"
      },
      "outputs": [],
      "source": [
        "features_list = dataset.columns.to_list()\n",
        "features_list.remove('label')\n",
        "features_list.remove('attack_type')\n",
        "\n",
        "print(features_list)\n",
        "print(len(features_list))\n",
        "# Recheck all datatype before training to see we don't have any objects in our features\n",
        "# In this example our model must get features containing only numbers so we recheck to see if we missed anything during preprocessing\n",
        "dataset.dtypes"
      ]
    },
    {
      "cell_type": "markdown",
      "source": [
        "### **Dealing with imbalanced dataset**\n",
        "\n",
        "---\n",
        "\n"
      ],
      "metadata": {
        "id": "y7yvXdnH65MF"
      }
    },
    {
      "cell_type": "code",
      "source": [
        "from sklearn.ensemble import RandomForestClassifier, GradientBoostingClassifier\n",
        "from sklearn.svm import SVC\n",
        "from sklearn.model_selection import train_test_split\n",
        "from imblearn.over_sampling import SMOTE\n",
        "from imblearn.under_sampling import RandomUnderSampler\n",
        "from sklearn.model_selection import GridSearchCV\n",
        "from sklearn.tree import DecisionTreeClassifier\n",
        "from sklearn.linear_model import LogisticRegression\n",
        "from sklearn.neural_network import MLPRegressor\n",
        "\n",
        "# Load the data\n",
        "X = dataset[features_list]\n",
        "#y = dataset['label']\n",
        "y = np.stack(dataset['attack_type'])\n",
        "\n",
        "# Split the data into training and test sets\n",
        "X_train, X_test, y_train, y_test = train_test_split(X, y, test_size=0.15, random_state=42)\n",
        "\n",
        "# Use undersampling to balance the training data\n",
        "smote = SMOTE(random_state=42)\n",
        "X_train_smoted, y_train_smoted = smote.fit_resample(X_train, y_train)\n",
        "\n",
        "# Create the base models\n",
        "model_1 = RandomForestClassifier(random_state=42)\n",
        "model_2 = GradientBoostingClassifier(random_state=42)\n",
        "model_3 = SVC(random_state=42)\n",
        "\n",
        "clf = xgb.XGBClassifier(base_estimator=[model_1, model_2, model_3] , learning_rate = 0.2,max_depth = 5,subsample = 0.6,reg_lambda=1.5, reg_alpha=0.5 , scale_pos_weight = 15)\n",
        "clf.fit(X_train, y_train)\n"
      ],
      "metadata": {
        "id": "xXpkrribjWIn"
      },
      "execution_count": null,
      "outputs": []
    },
    {
      "cell_type": "code",
      "source": [
        "sns.set(rc={'figure.figsize':(15,8)})\n",
        "predictions = clf.predict(X_test)\n",
        "true_labels = y_test\n",
        "clf_report = classification_report(true_labels, predictions, digits=5)\n",
        "\n",
        "print(clf_report)"
      ],
      "metadata": {
        "colab": {
          "base_uri": "https://localhost:8080/"
        },
        "id": "ok4xxxsjVeHh",
        "outputId": "9fde6bf2-9019-4b06-de46-ce8049fb6bae"
      },
      "execution_count": 53,
      "outputs": [
        {
          "output_type": "stream",
          "name": "stdout",
          "text": [
            "              precision    recall  f1-score   support\n",
            "\n",
            "           0    0.98816   1.00000   0.99405     21535\n",
            "           1    1.00000   1.00000   1.00000      1153\n",
            "           2    0.99829   0.99829   0.99829       585\n",
            "           3    0.98566   0.52083   0.68154       528\n",
            "           4    1.00000   0.99188   0.99593       616\n",
            "           5    1.00000   0.99827   0.99913       578\n",
            "           6    1.00000   0.99751   0.99875      1204\n",
            "           7    1.00000   1.00000   1.00000      1217\n",
            "\n",
            "    accuracy                        0.99041     27416\n",
            "   macro avg    0.99651   0.93835   0.95846     27416\n",
            "weighted avg    0.99039   0.99041   0.98899     27416\n",
            "\n"
          ]
        }
      ]
    },
    {
      "cell_type": "code",
      "source": [
        "sns.set(rc={'figure.figsize':(15,8)})\n",
        "predictions = clf.predict(X_test)\n",
        "true_labels = y_test\n",
        "cf_matrix = confusion_matrix(true_labels, predictions)\n",
        "clf_report = classification_report(true_labels, predictions, digits=5)\n",
        "heatmap = sns.heatmap(cf_matrix, annot=True, cmap='Blues', fmt='g', \n",
        "                      xticklabels=np.unique(true_labels), \n",
        "                      yticklabels=np.unique(true_labels)) "
      ],
      "metadata": {
        "id": "kxc9Egjdc-cK",
        "colab": {
          "base_uri": "https://localhost:8080/",
          "height": 485
        },
        "outputId": "3505c101-7045-4463-ddd2-c91404303eef"
      },
      "execution_count": 52,
      "outputs": [
        {
          "output_type": "display_data",
          "data": {
            "text/plain": [
              "<Figure size 1080x576 with 2 Axes>"
            ],
            "image/png": "[encoded data removed]"
          },
          "metadata": {}
        }
      ]
    },
    {
      "cell_type": "markdown",
      "metadata": {
        "id": "Z-izNF_xnj3u"
      },
      "source": [
        "# Test"
      ]
    },
    {
      "cell_type": "code",
      "execution_count": 55,
      "metadata": {
        "id": "IuvHz-TKnj3v"
      },
      "outputs": [],
      "source": [
        "with open(\"/content/drive/MyDrive/CiscoChallenge/Data/dataset_4_val.json\") as file:\n",
        "    raw_ds = json.load(file)\n",
        "\n",
        "test_df = pd.json_normalize(raw_ds, max_level=2)\n",
        "\n",
        "for column in test_df.columns[test_df.isna().any()].tolist():\n",
        "    test_df[column] = test_df[column].fillna('None')\n",
        "\n",
        "test_df = test_df.drop(non_unique_features(df), axis = 1)\n",
        "test_df = vectorize_df(test_df)\n",
        "# test_df = test_df.drop(delete_features,axis = 1)"
      ]
    },
    {
      "cell_type": "code",
      "source": [
        "X = test_df[features_list]\n",
        "predictions = clf.predict(X)"
      ],
      "metadata": {
        "id": "q2ODReVt1r99"
      },
      "execution_count": 56,
      "outputs": []
    },
    {
      "cell_type": "code",
      "source": [
        "malware = 0\n",
        "benign = 0\n",
        "for p in predictions:\n",
        "  if p == 1:\n",
        "     malware = malware + 1\n",
        "  else:\n",
        "     benign = benign + 1"
      ],
      "metadata": {
        "id": "pxussZ4IJLrK"
      },
      "execution_count": 57,
      "outputs": []
    },
    {
      "cell_type": "code",
      "source": [
        "print(malware)\n",
        "print(benign)"
      ],
      "metadata": {
        "colab": {
          "base_uri": "https://localhost:8080/"
        },
        "id": "X1_Oxsu3JbVy",
        "outputId": "24e97cb3-8c60-4025-e4df-cdc98261629d"
      },
      "execution_count": 59,
      "outputs": [
        {
          "output_type": "stream",
          "name": "stdout",
          "text": [
            "1368\n",
            "30885\n"
          ]
        }
      ]
    },
    {
      "cell_type": "markdown",
      "metadata": {
        "id": "B6un2EOBnj3v"
      },
      "source": [
        "# Save your predictions"
      ]
    },
    {
      "cell_type": "code",
      "execution_count": 62,
      "metadata": {
        "id": "xHgdaQktnj3v"
      },
      "outputs": [],
      "source": [
        "# Save your preditions\n",
        "enc = LabelEncoder()\n",
        "np.savetxt(f'/content/drive/MyDrive/CiscoChallenge/dataset_4_{test_type}_result.txt', enc.fit_transform(predictions), fmt='%2d')"
      ]
    }
  ],
  "metadata": {
    "kernelspec": {
      "display_name": "Python 3",
      "language": "python",
      "name": "python3"
    },
    "language_info": {
      "codemirror_mode": {
        "name": "ipython",
        "version": 3
      },
      "file_extension": ".py",
      "mimetype": "text/x-python",
      "name": "python",
      "nbconvert_exporter": "python",
      "pygments_lexer": "ipython3",
      "version": "3.11.0 (main, Oct 24 2022, 18:26:48) [MSC v.1933 64 bit (AMD64)]"
    },
    "orig_nbformat": 4,
    "vscode": {
      "interpreter": {
        "hash": "dca27059b152db865dddc081daf6ee342367340671c15704bb42fb4fcf7d14fd"
      }
    },
    "colab": {
      "provenance": [],
      "collapsed_sections": [
        "GPQpNuCt2LbX"
      ],
      "machine_shape": "hm",
      "include_colab_link": true
    },
    "accelerator": "GPU",
    "gpuClass": "premium"
  },
  "nbformat": 4,
  "nbformat_minor": 0
}